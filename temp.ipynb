{
 "cells": [
  {
   "cell_type": "code",
   "execution_count": 1,
   "metadata": {},
   "outputs": [],
   "source": [
    "import typing as T  # pylint: disable=unused-import\n",
    "\n",
    "import numpy as np\n",
    "import numpy.typing as npt\n",
    "\n",
    "from pydrake.solvers import (  # pylint: disable=import-error, no-name-in-module, unused-import\n",
    "    MathematicalProgram,\n",
    "    MathematicalProgramResult,\n",
    "    Solve,\n",
    "    MosekSolver,\n",
    "    MosekSolverDetails,\n",
    "    SolverOptions,\n",
    "    CommonSolverOption,\n",
    ")\n",
    "from pydrake.geometry.optimization import (  # pylint: disable=import-error, no-name-in-module\n",
    "    HPolyhedron,\n",
    "    Point,\n",
    "    ConvexSet,\n",
    ")\n",
    "\n",
    "from pydrake.symbolic import ( # pylint: disable=import-error, no-name-in-module, unused-import\n",
    "    Polynomial,\n",
    "    Variable,\n",
    "    Variables,\n",
    "    Expression,\n",
    ")  \n",
    "from program_options import ProgramOptions, FREE_POLY, PSD_POLY\n",
    "\n",
    "from util import (\n",
    "    timeit,\n",
    "    diditwork,\n",
    "    INFO,\n",
    "    YAY,\n",
    "    WARN,\n",
    "    ERROR,\n",
    ")  # pylint: disable=import-error, no-name-in-module, unused-import\n",
    "\n",
    "import plotly.graph_objects as go  # pylint: disable=import-error\n",
    "from plotly.express.colors import sample_colorscale  # pylint: disable=import-error\n",
    "import plotly.graph_objs as go\n",
    "from plotly.subplots import make_subplots\n",
    "\n",
    "from polynomial_gcs_dual import PolynomialDualGCS, Vertex, Edge\n",
    "from kink_example import random_uniform_graph_generator, build_m_step_horizon_from_layers, plot_m_step_horizon_from_layers, plot_a_layered_graph, plot_policy_rollout"
   ]
  },
  {
   "cell_type": "code",
   "execution_count": 8,
   "metadata": {},
   "outputs": [
    {
     "name": "stdout",
     "output_type": "stream",
     "text": [
      "\u001b[34mSolve took 1.077s\n",
      "\u001b[32msolve successful!\n",
      "\u001b[32m-90.39251855536816\n",
      "\u001b[32mSolutionResult.kSolutionFound\n",
      "\u001b[32mSolver is Mosek\n",
      "\u001b[32m<pydrake.solvers.MosekSolverDetails object at 0x29cb01330>\n",
      "\u001b[32mtime 1.0336730480194092\n",
      "\u001b[32mrescode 0\n",
      "\u001b[32msolution_status 1\n"
     ]
    }
   ],
   "source": [
    "options = ProgramOptions()\n",
    "gcs, layers = random_uniform_graph_generator(num_layers=10, options=options, random_seed=2)\n",
    "# fig = plot_a_layered_graph(layers)\n",
    "# fig.update_layout(height=1200, width=1200)"
   ]
  },
  {
   "cell_type": "code",
   "execution_count": 9,
   "metadata": {},
   "outputs": [],
   "source": [
    "v_0 = layers[0][0]\n",
    "\n",
    "def add_rollout_plots(fig, gcs, layers, y_true, lookahead, vertex, layer_index, color, dx=0.1):\n",
    "    x,y = plot_m_step_horizon_from_layers(gcs, layers, lookahead, vertex, layer_index,dx=dx)\n",
    "    x_r, y_r = plot_policy_rollout(gcs, layers, lookahead, vertex, layer_index,dx=dx)\n",
    "    fig.add_trace(go.Scatter(x=x, y=y, mode='lines', name=str(lookahead)+\"-step-lookahead lb\", line=dict(color=color) ))\n",
    "    fig.add_trace(go.Scatter(x=x_r, y=y_r, mode='lines', name=str(lookahead)+\"-step-lookahead ub\", line=dict(color=color) ))\n",
    "    lower_bound_gap = (1 - y/y_true)*100\n",
    "    upper_bound_gap = (y_r/y_true - 1)*100\n",
    "    INFO(str(lookahead)+\"-step-lookahead statistics\")\n",
    "    INFO(\"max lower bound gap \", np.round(np.max(lower_bound_gap),2))\n",
    "    INFO(\"mean lower bound gap \", np.round(np.mean(lower_bound_gap),2))\n",
    "    INFO(\"max upper bound gap \", np.round(np.max(upper_bound_gap),2))\n",
    "    INFO(\"mean upper bound gap \", np.round(np.mean(upper_bound_gap),2))\n",
    "    INFO(\"---------------------\")\n"
   ]
  },
  {
   "cell_type": "code",
   "execution_count": 11,
   "metadata": {},
   "outputs": [
    {
     "name": "stdout",
     "output_type": "stream",
     "text": [
      "\u001b[34mpolynomial policy statistics\n",
      "\u001b[34mmax lower bound gap  6.96\n",
      "\u001b[34mmean lower bound gap  2.21\n",
      "\u001b[34m---------------------\n",
      "\u001b[34m1-step-lookahead statistics\n",
      "\u001b[34mmax lower bound gap  4.81\n",
      "\u001b[34mmean lower bound gap  1.51\n",
      "\u001b[34mmax upper bound gap  9.68\n",
      "\u001b[34mmean upper bound gap  1.87\n",
      "\u001b[34m---------------------\n",
      "\u001b[34m2-step-lookahead statistics\n",
      "\u001b[34mmax lower bound gap  2.38\n",
      "\u001b[34mmean lower bound gap  1.07\n",
      "\u001b[34mmax upper bound gap  4.98\n",
      "\u001b[34mmean upper bound gap  0.68\n",
      "\u001b[34m---------------------\n",
      "\u001b[34m3-step-lookahead statistics\n",
      "\u001b[34mmax lower bound gap  1.94\n",
      "\u001b[34mmean lower bound gap  0.87\n",
      "\u001b[34mmax upper bound gap  1.25\n",
      "\u001b[34mmean upper bound gap  0.21\n",
      "\u001b[34m---------------------\n"
     ]
    }
   ],
   "source": [
    "start_vertex = layers[0][0]\n",
    "dx = 0.2\n",
    "\n",
    "fig, y_true = gcs.make_plots(start_vertex.name, dx=dx)\n",
    "add_rollout_plots(fig, gcs, layers, y_true, 1, v_0, 0, \"red\", dx=dx)\n",
    "add_rollout_plots(fig, gcs, layers, y_true, 2, v_0, 0, \"orange\", dx=dx)\n",
    "add_rollout_plots(fig, gcs, layers, y_true, 3, v_0, 0, \"purple\", dx=dx)"
   ]
  },
  {
   "cell_type": "code",
   "execution_count": null,
   "metadata": {},
   "outputs": [
    {
     "data": {
      "application/vnd.plotly.v1+json": {
       "config": {
        "plotlyServerURL": "https://plot.ly"
       },
       "data": [
        {
         "line": {
          "color": "chartreuse"
         },
         "mode": "lines",
         "name": "ground truth",
         "type": "scatter",
         "x": [
          0,
          1.1111111111111112,
          2.2222222222222223,
          3.3333333333333335,
          4.444444444444445,
          5.555555555555555,
          6.666666666666667,
          7.777777777777779,
          8.88888888888889,
          10
         ],
         "y": [
          9.708235474678906,
          9.448249886968904,
          9.446925231244263,
          9.220324180362667,
          9.431086225684126,
          9.376530529538902,
          9.152610299470526,
          9.32973921734518,
          9.091973232432432,
          10.031341350013781
         ]
        },
        {
         "line": {
          "color": "blue"
         },
         "mode": "lines",
         "name": "policy",
         "type": "scatter",
         "x": [
          0,
          1.1111111111111112,
          2.2222222222222223,
          3.3333333333333335,
          4.444444444444445,
          5.555555555555555,
          6.666666666666667,
          7.777777777777779,
          8.88888888888889,
          10
         ],
         "y": [
          9.476246002763958,
          9.35016008914688,
          9.245011131756073,
          9.160799130591533,
          9.097524085653262,
          9.05518599694126,
          9.033784864455525,
          9.03332068819606,
          9.053793468162862,
          9.095203204355933
         ]
        },
        {
         "line": {
          "color": "red"
         },
         "mode": "lines",
         "name": "1-step-lookahead lb",
         "type": "scatter",
         "x": [
          0,
          1.1111111111111112,
          2.2222222222222223,
          3.3333333333333335,
          4.444444444444445,
          5.555555555555555,
          6.666666666666667,
          7.777777777777779,
          8.88888888888889,
          10
         ],
         "y": [
          9.591613646481987,
          9.41333647927624,
          9.266469089806218,
          9.167247540743437,
          9.243328309911497,
          9.143688368664497,
          9.050103615031508,
          9.182179657034512,
          9.064701096698707,
          9.94420486969541
         ]
        },
        {
         "line": {
          "color": "red"
         },
         "mode": "lines",
         "name": "1-step-lookahead ub",
         "type": "scatter",
         "x": [
          0,
          1.1111111111111112,
          2.2222222222222223,
          3.3333333333333335,
          4.444444444444445,
          5.555555555555555,
          6.666666666666667,
          7.777777777777779,
          8.88888888888889,
          10
         ],
         "y": [
          9.768164887309704,
          9.626811427910553,
          9.663092687599754,
          9.278620127542851,
          9.907376095011223,
          9.425908418937759,
          9.40652576330039,
          9.558300195700507,
          9.16736281526062,
          10.153435435964951
         ]
        },
        {
         "line": {
          "color": "orange"
         },
         "mode": "lines",
         "name": "2-step-lookahead lb",
         "type": "scatter",
         "x": [
          0,
          1.1111111111111112,
          2.2222222222222223,
          3.3333333333333335,
          4.444444444444445,
          5.555555555555555,
          6.666666666666667,
          7.777777777777779,
          8.88888888888889,
          10
         ],
         "y": [
          9.692296856859263,
          9.415097578710377,
          9.297055963384805,
          9.167424795221935,
          9.31626079992766,
          9.174732577414979,
          9.062683185044191,
          9.251684550850461,
          9.067176422798493,
          9.946893289120394
         ]
        },
        {
         "line": {
          "color": "orange"
         },
         "mode": "lines",
         "name": "2-step-lookahead ub",
         "type": "scatter",
         "x": [
          0,
          1.1111111111111112,
          2.2222222222222223,
          3.3333333333333335,
          4.444444444444445,
          5.555555555555555,
          6.666666666666667,
          7.777777777777779,
          8.88888888888889,
          10
         ],
         "y": [
          9.70823562726377,
          9.480824900310404,
          9.446925009778694,
          9.228389125574978,
          9.562524642998778,
          9.380515619941901,
          9.23348625825396,
          9.387129027866914,
          9.09926340683418,
          10.032902285096762
         ]
        },
        {
         "line": {
          "color": "purple"
         },
         "mode": "lines",
         "name": "3-step-lookahead lb",
         "type": "scatter",
         "x": [
          0,
          1.1111111111111112,
          2.2222222222222223,
          3.3333333333333335,
          4.444444444444445,
          5.555555555555555,
          6.666666666666667,
          7.777777777777779,
          8.88888888888889,
          10
         ],
         "y": [
          9.698068560069922,
          9.418874157746675,
          9.297080201080314,
          9.167481064869264,
          9.355536697778714,
          9.241187307269835,
          9.07543276077267,
          9.246418726108526,
          9.073113323821254,
          10.012481580977472
         ]
        },
        {
         "line": {
          "color": "purple"
         },
         "mode": "lines",
         "name": "3-step-lookahead ub",
         "type": "scatter",
         "x": [
          0,
          1.1111111111111112,
          2.2222222222222223,
          3.3333333333333335,
          4.444444444444445,
          5.555555555555555,
          6.666666666666667,
          7.777777777777779,
          8.88888888888889,
          10
         ],
         "y": [
          9.708235605692593,
          9.458141099146111,
          9.446924794569938,
          9.22311668407224,
          9.548423566435709,
          9.378060218034104,
          9.1778722481255,
          9.330218831834445,
          9.092452685611233,
          10.031821383244749
         ]
        }
       ],
       "layout": {
        "height": 1200,
        "template": {
         "data": {
          "bar": [
           {
            "error_x": {
             "color": "#2a3f5f"
            },
            "error_y": {
             "color": "#2a3f5f"
            },
            "marker": {
             "line": {
              "color": "#E5ECF6",
              "width": 0.5
             },
             "pattern": {
              "fillmode": "overlay",
              "size": 10,
              "solidity": 0.2
             }
            },
            "type": "bar"
           }
          ],
          "barpolar": [
           {
            "marker": {
             "line": {
              "color": "#E5ECF6",
              "width": 0.5
             },
             "pattern": {
              "fillmode": "overlay",
              "size": 10,
              "solidity": 0.2
             }
            },
            "type": "barpolar"
           }
          ],
          "carpet": [
           {
            "aaxis": {
             "endlinecolor": "#2a3f5f",
             "gridcolor": "white",
             "linecolor": "white",
             "minorgridcolor": "white",
             "startlinecolor": "#2a3f5f"
            },
            "baxis": {
             "endlinecolor": "#2a3f5f",
             "gridcolor": "white",
             "linecolor": "white",
             "minorgridcolor": "white",
             "startlinecolor": "#2a3f5f"
            },
            "type": "carpet"
           }
          ],
          "choropleth": [
           {
            "colorbar": {
             "outlinewidth": 0,
             "ticks": ""
            },
            "type": "choropleth"
           }
          ],
          "contour": [
           {
            "colorbar": {
             "outlinewidth": 0,
             "ticks": ""
            },
            "colorscale": [
             [
              0,
              "#0d0887"
             ],
             [
              0.1111111111111111,
              "#46039f"
             ],
             [
              0.2222222222222222,
              "#7201a8"
             ],
             [
              0.3333333333333333,
              "#9c179e"
             ],
             [
              0.4444444444444444,
              "#bd3786"
             ],
             [
              0.5555555555555556,
              "#d8576b"
             ],
             [
              0.6666666666666666,
              "#ed7953"
             ],
             [
              0.7777777777777778,
              "#fb9f3a"
             ],
             [
              0.8888888888888888,
              "#fdca26"
             ],
             [
              1,
              "#f0f921"
             ]
            ],
            "type": "contour"
           }
          ],
          "contourcarpet": [
           {
            "colorbar": {
             "outlinewidth": 0,
             "ticks": ""
            },
            "type": "contourcarpet"
           }
          ],
          "heatmap": [
           {
            "colorbar": {
             "outlinewidth": 0,
             "ticks": ""
            },
            "colorscale": [
             [
              0,
              "#0d0887"
             ],
             [
              0.1111111111111111,
              "#46039f"
             ],
             [
              0.2222222222222222,
              "#7201a8"
             ],
             [
              0.3333333333333333,
              "#9c179e"
             ],
             [
              0.4444444444444444,
              "#bd3786"
             ],
             [
              0.5555555555555556,
              "#d8576b"
             ],
             [
              0.6666666666666666,
              "#ed7953"
             ],
             [
              0.7777777777777778,
              "#fb9f3a"
             ],
             [
              0.8888888888888888,
              "#fdca26"
             ],
             [
              1,
              "#f0f921"
             ]
            ],
            "type": "heatmap"
           }
          ],
          "heatmapgl": [
           {
            "colorbar": {
             "outlinewidth": 0,
             "ticks": ""
            },
            "colorscale": [
             [
              0,
              "#0d0887"
             ],
             [
              0.1111111111111111,
              "#46039f"
             ],
             [
              0.2222222222222222,
              "#7201a8"
             ],
             [
              0.3333333333333333,
              "#9c179e"
             ],
             [
              0.4444444444444444,
              "#bd3786"
             ],
             [
              0.5555555555555556,
              "#d8576b"
             ],
             [
              0.6666666666666666,
              "#ed7953"
             ],
             [
              0.7777777777777778,
              "#fb9f3a"
             ],
             [
              0.8888888888888888,
              "#fdca26"
             ],
             [
              1,
              "#f0f921"
             ]
            ],
            "type": "heatmapgl"
           }
          ],
          "histogram": [
           {
            "marker": {
             "pattern": {
              "fillmode": "overlay",
              "size": 10,
              "solidity": 0.2
             }
            },
            "type": "histogram"
           }
          ],
          "histogram2d": [
           {
            "colorbar": {
             "outlinewidth": 0,
             "ticks": ""
            },
            "colorscale": [
             [
              0,
              "#0d0887"
             ],
             [
              0.1111111111111111,
              "#46039f"
             ],
             [
              0.2222222222222222,
              "#7201a8"
             ],
             [
              0.3333333333333333,
              "#9c179e"
             ],
             [
              0.4444444444444444,
              "#bd3786"
             ],
             [
              0.5555555555555556,
              "#d8576b"
             ],
             [
              0.6666666666666666,
              "#ed7953"
             ],
             [
              0.7777777777777778,
              "#fb9f3a"
             ],
             [
              0.8888888888888888,
              "#fdca26"
             ],
             [
              1,
              "#f0f921"
             ]
            ],
            "type": "histogram2d"
           }
          ],
          "histogram2dcontour": [
           {
            "colorbar": {
             "outlinewidth": 0,
             "ticks": ""
            },
            "colorscale": [
             [
              0,
              "#0d0887"
             ],
             [
              0.1111111111111111,
              "#46039f"
             ],
             [
              0.2222222222222222,
              "#7201a8"
             ],
             [
              0.3333333333333333,
              "#9c179e"
             ],
             [
              0.4444444444444444,
              "#bd3786"
             ],
             [
              0.5555555555555556,
              "#d8576b"
             ],
             [
              0.6666666666666666,
              "#ed7953"
             ],
             [
              0.7777777777777778,
              "#fb9f3a"
             ],
             [
              0.8888888888888888,
              "#fdca26"
             ],
             [
              1,
              "#f0f921"
             ]
            ],
            "type": "histogram2dcontour"
           }
          ],
          "mesh3d": [
           {
            "colorbar": {
             "outlinewidth": 0,
             "ticks": ""
            },
            "type": "mesh3d"
           }
          ],
          "parcoords": [
           {
            "line": {
             "colorbar": {
              "outlinewidth": 0,
              "ticks": ""
             }
            },
            "type": "parcoords"
           }
          ],
          "pie": [
           {
            "automargin": true,
            "type": "pie"
           }
          ],
          "scatter": [
           {
            "fillpattern": {
             "fillmode": "overlay",
             "size": 10,
             "solidity": 0.2
            },
            "type": "scatter"
           }
          ],
          "scatter3d": [
           {
            "line": {
             "colorbar": {
              "outlinewidth": 0,
              "ticks": ""
             }
            },
            "marker": {
             "colorbar": {
              "outlinewidth": 0,
              "ticks": ""
             }
            },
            "type": "scatter3d"
           }
          ],
          "scattercarpet": [
           {
            "marker": {
             "colorbar": {
              "outlinewidth": 0,
              "ticks": ""
             }
            },
            "type": "scattercarpet"
           }
          ],
          "scattergeo": [
           {
            "marker": {
             "colorbar": {
              "outlinewidth": 0,
              "ticks": ""
             }
            },
            "type": "scattergeo"
           }
          ],
          "scattergl": [
           {
            "marker": {
             "colorbar": {
              "outlinewidth": 0,
              "ticks": ""
             }
            },
            "type": "scattergl"
           }
          ],
          "scattermapbox": [
           {
            "marker": {
             "colorbar": {
              "outlinewidth": 0,
              "ticks": ""
             }
            },
            "type": "scattermapbox"
           }
          ],
          "scatterpolar": [
           {
            "marker": {
             "colorbar": {
              "outlinewidth": 0,
              "ticks": ""
             }
            },
            "type": "scatterpolar"
           }
          ],
          "scatterpolargl": [
           {
            "marker": {
             "colorbar": {
              "outlinewidth": 0,
              "ticks": ""
             }
            },
            "type": "scatterpolargl"
           }
          ],
          "scatterternary": [
           {
            "marker": {
             "colorbar": {
              "outlinewidth": 0,
              "ticks": ""
             }
            },
            "type": "scatterternary"
           }
          ],
          "surface": [
           {
            "colorbar": {
             "outlinewidth": 0,
             "ticks": ""
            },
            "colorscale": [
             [
              0,
              "#0d0887"
             ],
             [
              0.1111111111111111,
              "#46039f"
             ],
             [
              0.2222222222222222,
              "#7201a8"
             ],
             [
              0.3333333333333333,
              "#9c179e"
             ],
             [
              0.4444444444444444,
              "#bd3786"
             ],
             [
              0.5555555555555556,
              "#d8576b"
             ],
             [
              0.6666666666666666,
              "#ed7953"
             ],
             [
              0.7777777777777778,
              "#fb9f3a"
             ],
             [
              0.8888888888888888,
              "#fdca26"
             ],
             [
              1,
              "#f0f921"
             ]
            ],
            "type": "surface"
           }
          ],
          "table": [
           {
            "cells": {
             "fill": {
              "color": "#EBF0F8"
             },
             "line": {
              "color": "white"
             }
            },
            "header": {
             "fill": {
              "color": "#C8D4E3"
             },
             "line": {
              "color": "white"
             }
            },
            "type": "table"
           }
          ]
         },
         "layout": {
          "annotationdefaults": {
           "arrowcolor": "#2a3f5f",
           "arrowhead": 0,
           "arrowwidth": 1
          },
          "autotypenumbers": "strict",
          "coloraxis": {
           "colorbar": {
            "outlinewidth": 0,
            "ticks": ""
           }
          },
          "colorscale": {
           "diverging": [
            [
             0,
             "#8e0152"
            ],
            [
             0.1,
             "#c51b7d"
            ],
            [
             0.2,
             "#de77ae"
            ],
            [
             0.3,
             "#f1b6da"
            ],
            [
             0.4,
             "#fde0ef"
            ],
            [
             0.5,
             "#f7f7f7"
            ],
            [
             0.6,
             "#e6f5d0"
            ],
            [
             0.7,
             "#b8e186"
            ],
            [
             0.8,
             "#7fbc41"
            ],
            [
             0.9,
             "#4d9221"
            ],
            [
             1,
             "#276419"
            ]
           ],
           "sequential": [
            [
             0,
             "#0d0887"
            ],
            [
             0.1111111111111111,
             "#46039f"
            ],
            [
             0.2222222222222222,
             "#7201a8"
            ],
            [
             0.3333333333333333,
             "#9c179e"
            ],
            [
             0.4444444444444444,
             "#bd3786"
            ],
            [
             0.5555555555555556,
             "#d8576b"
            ],
            [
             0.6666666666666666,
             "#ed7953"
            ],
            [
             0.7777777777777778,
             "#fb9f3a"
            ],
            [
             0.8888888888888888,
             "#fdca26"
            ],
            [
             1,
             "#f0f921"
            ]
           ],
           "sequentialminus": [
            [
             0,
             "#0d0887"
            ],
            [
             0.1111111111111111,
             "#46039f"
            ],
            [
             0.2222222222222222,
             "#7201a8"
            ],
            [
             0.3333333333333333,
             "#9c179e"
            ],
            [
             0.4444444444444444,
             "#bd3786"
            ],
            [
             0.5555555555555556,
             "#d8576b"
            ],
            [
             0.6666666666666666,
             "#ed7953"
            ],
            [
             0.7777777777777778,
             "#fb9f3a"
            ],
            [
             0.8888888888888888,
             "#fdca26"
            ],
            [
             1,
             "#f0f921"
            ]
           ]
          },
          "colorway": [
           "#636efa",
           "#EF553B",
           "#00cc96",
           "#ab63fa",
           "#FFA15A",
           "#19d3f3",
           "#FF6692",
           "#B6E880",
           "#FF97FF",
           "#FECB52"
          ],
          "font": {
           "color": "#2a3f5f"
          },
          "geo": {
           "bgcolor": "white",
           "lakecolor": "white",
           "landcolor": "#E5ECF6",
           "showlakes": true,
           "showland": true,
           "subunitcolor": "white"
          },
          "hoverlabel": {
           "align": "left"
          },
          "hovermode": "closest",
          "mapbox": {
           "style": "light"
          },
          "paper_bgcolor": "white",
          "plot_bgcolor": "#E5ECF6",
          "polar": {
           "angularaxis": {
            "gridcolor": "white",
            "linecolor": "white",
            "ticks": ""
           },
           "bgcolor": "#E5ECF6",
           "radialaxis": {
            "gridcolor": "white",
            "linecolor": "white",
            "ticks": ""
           }
          },
          "scene": {
           "xaxis": {
            "backgroundcolor": "#E5ECF6",
            "gridcolor": "white",
            "gridwidth": 2,
            "linecolor": "white",
            "showbackground": true,
            "ticks": "",
            "zerolinecolor": "white"
           },
           "yaxis": {
            "backgroundcolor": "#E5ECF6",
            "gridcolor": "white",
            "gridwidth": 2,
            "linecolor": "white",
            "showbackground": true,
            "ticks": "",
            "zerolinecolor": "white"
           },
           "zaxis": {
            "backgroundcolor": "#E5ECF6",
            "gridcolor": "white",
            "gridwidth": 2,
            "linecolor": "white",
            "showbackground": true,
            "ticks": "",
            "zerolinecolor": "white"
           }
          },
          "shapedefaults": {
           "line": {
            "color": "#2a3f5f"
           }
          },
          "ternary": {
           "aaxis": {
            "gridcolor": "white",
            "linecolor": "white",
            "ticks": ""
           },
           "baxis": {
            "gridcolor": "white",
            "linecolor": "white",
            "ticks": ""
           },
           "bgcolor": "#E5ECF6",
           "caxis": {
            "gridcolor": "white",
            "linecolor": "white",
            "ticks": ""
           }
          },
          "title": {
           "x": 0.05
          },
          "xaxis": {
           "automargin": true,
           "gridcolor": "white",
           "linecolor": "white",
           "ticks": "",
           "title": {
            "standoff": 15
           },
           "zerolinecolor": "white",
           "zerolinewidth": 2
          },
          "yaxis": {
           "automargin": true,
           "gridcolor": "white",
           "linecolor": "white",
           "ticks": "",
           "title": {
            "standoff": 15
           },
           "zerolinecolor": "white",
           "zerolinewidth": 2
          }
         }
        },
        "title": {
         "text": "Value functions "
        },
        "width": 1200,
        "yaxis": {
         "range": [
          8.95,
          10.25
         ]
        }
       }
      }
     },
     "metadata": {},
     "output_type": "display_data"
    }
   ],
   "source": [
    "fig.update_layout(height=1200, width=1200)\n",
    "# Set x-axis and y-axis limits\n",
    "# fig.update_xaxes(range=[1, 5])  # Set x-axis limits\n",
    "fig.update_yaxes(range=[8.95, 10.25])   # Set y-axis limits"
   ]
  },
  {
   "cell_type": "code",
   "execution_count": null,
   "metadata": {},
   "outputs": [],
   "source": []
  },
  {
   "cell_type": "code",
   "execution_count": null,
   "metadata": {},
   "outputs": [],
   "source": []
  },
  {
   "cell_type": "code",
   "execution_count": 2,
   "metadata": {},
   "outputs": [
    {
     "name": "stdout",
     "output_type": "stream",
     "text": [
      "e0\n",
      "c1 b1\n",
      "c1 b2\n",
      "b1 a1\n",
      "b2 a1\n"
     ]
    },
    {
     "ename": "TypeError",
     "evalue": "PolynomialDualGCS.solve_for_true_shortest_path() missing 1 required positional argument: 'point'",
     "output_type": "error",
     "traceback": [
      "\u001b[0;31m---------------------------------------------------------------------------\u001b[0m",
      "\u001b[0;31mTypeError\u001b[0m                                 Traceback (most recent call last)",
      "\u001b[1;32m/Users/savva/Desktop/Codes/gcs/gcs-dual-no-dynamics/temp.ipynb Cell 2\u001b[0m line \u001b[0;36m2\n\u001b[1;32m     <a href='vscode-notebook-cell:/Users/savva/Desktop/Codes/gcs/gcs-dual-no-dynamics/temp.ipynb#W1sZmlsZQ%3D%3D?line=18'>19</a>\u001b[0m \u001b[39mfor\u001b[39;00m v \u001b[39min\u001b[39;00m graph\u001b[39m.\u001b[39mgcs\u001b[39m.\u001b[39mEdges():\n\u001b[1;32m     <a href='vscode-notebook-cell:/Users/savva/Desktop/Codes/gcs/gcs-dual-no-dynamics/temp.ipynb#W1sZmlsZQ%3D%3D?line=19'>20</a>\u001b[0m     \u001b[39mprint\u001b[39m(v\u001b[39m.\u001b[39mname())\n\u001b[0;32m---> <a href='vscode-notebook-cell:/Users/savva/Desktop/Codes/gcs/gcs-dual-no-dynamics/temp.ipynb#W1sZmlsZQ%3D%3D?line=21'>22</a>\u001b[0m graph\u001b[39m.\u001b[39;49msolve_for_true_shortest_path(\u001b[39m\"\u001b[39;49m\u001b[39mc1\u001b[39;49m\u001b[39m\"\u001b[39;49m, [\u001b[39m2\u001b[39;49m])\n\u001b[1;32m     <a href='vscode-notebook-cell:/Users/savva/Desktop/Codes/gcs/gcs-dual-no-dynamics/temp.ipynb#W1sZmlsZQ%3D%3D?line=22'>23</a>\u001b[0m graph\u001b[39m.\u001b[39msolve_for_true_shortest_path(\u001b[39m\"\u001b[39m\u001b[39mc1\u001b[39m\u001b[39m\"\u001b[39m, [\u001b[39m3\u001b[39m])\n",
      "\u001b[0;31mTypeError\u001b[0m: PolynomialDualGCS.solve_for_true_shortest_path() missing 1 required positional argument: 'point'"
     ]
    }
   ],
   "source": [
    "options = ProgramOptions()\n",
    "options.use_convex_relaxation = False\n",
    "\n",
    "graph = PolynomialDualGCS(options)\n",
    "# test out on something simpel\n",
    "\n",
    "quad_cost = lambda x, y: np.sum([(x[i]-y[i])**2 for i in range(len(x))])\n",
    "\n",
    "a1 = graph.AddTargetVertex(\"a1\", Point([0]), lambda x: 0 )\n",
    "b1 = graph.AddVertex(\"b1\", HPolyhedron.MakeBox([-3],[-1]))\n",
    "b2 = graph.AddVertex(\"b2\", HPolyhedron.MakeBox([1],[3]))\n",
    "c1 = graph.AddVertex(\"c1\", HPolyhedron.MakeBox([-3],[3]))\n",
    "\n",
    "graph.AddEdge(c1, b1, quad_cost)\n",
    "graph.AddEdge(c1, b2, quad_cost)\n",
    "graph.AddEdge(b1, a1, quad_cost)\n",
    "graph.AddEdge(b2, a1, quad_cost)\n",
    "\n",
    "for v in graph.gcs.Edges():\n",
    "    print(v.name())\n",
    "\n",
    "graph.solve_for_true_shortest_path(\"c1\", [2])\n",
    "graph.solve_for_true_shortest_path(\"c1\", [3])\n"
   ]
  },
  {
   "cell_type": "code",
   "execution_count": null,
   "metadata": {},
   "outputs": [
    {
     "ename": "",
     "evalue": "",
     "output_type": "error",
     "traceback": [
      "\u001b[1;31mThe Kernel crashed while executing code in the the current cell or a previous cell. Please review the code in the cell(s) to identify a possible cause of the failure. Click <a href='https://aka.ms/vscodeJupyterKernelCrash'>here</a> for more info. View Jupyter <a href='command:jupyter.viewOutput'>log</a> for further details."
     ]
    }
   ],
   "source": []
  },
  {
   "cell_type": "code",
   "execution_count": 7,
   "metadata": {},
   "outputs": [
    {
     "name": "stdout",
     "output_type": "stream",
     "text": [
      "e5\n",
      "c1 b1\n",
      "c1 b2\n",
      "b1 a1\n",
      "b2 a1\n",
      "e5\n",
      "e6\n",
      "e7\n",
      "e8\n"
     ]
    }
   ],
   "source": [
    "for v in graph.gcs.Edges():\n",
    "    print(v.name())"
   ]
  },
  {
   "cell_type": "code",
   "execution_count": null,
   "metadata": {},
   "outputs": [],
   "source": []
  }
 ],
 "metadata": {
  "kernelspec": {
   "display_name": "Python 3",
   "language": "python",
   "name": "python3"
  },
  "language_info": {
   "codemirror_mode": {
    "name": "ipython",
    "version": 3
   },
   "file_extension": ".py",
   "mimetype": "text/x-python",
   "name": "python",
   "nbconvert_exporter": "python",
   "pygments_lexer": "ipython3",
   "version": "3.11.3"
  },
  "orig_nbformat": 4
 },
 "nbformat": 4,
 "nbformat_minor": 2
}
