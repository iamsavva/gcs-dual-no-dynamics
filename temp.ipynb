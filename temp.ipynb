{
 "cells": [
  {
   "cell_type": "code",
   "execution_count": 1,
   "metadata": {},
   "outputs": [],
   "source": [
    "import typing as T  # pylint: disable=unused-import\n",
    "\n",
    "import numpy as np\n",
    "import numpy.typing as npt\n",
    "\n",
    "from pydrake.solvers import (  # pylint: disable=import-error, no-name-in-module, unused-import\n",
    "    MathematicalProgram,\n",
    "    MathematicalProgramResult,\n",
    "    Solve,\n",
    "    MosekSolver,\n",
    "    MosekSolverDetails,\n",
    "    SolverOptions,\n",
    "    CommonSolverOption,\n",
    ")\n",
    "from pydrake.geometry.optimization import (  # pylint: disable=import-error, no-name-in-module\n",
    "    HPolyhedron,\n",
    "    Point,\n",
    "    ConvexSet,\n",
    ")\n",
    "\n",
    "from pydrake.symbolic import ( # pylint: disable=import-error, no-name-in-module, unused-import\n",
    "    Polynomial,\n",
    "    Variable,\n",
    "    Variables,\n",
    "    Expression,\n",
    ")  \n",
    "from program_options import ProgramOptions, FREE_POLY, PSD_POLY\n",
    "\n",
    "from util import (\n",
    "    timeit,\n",
    "    diditwork,\n",
    "    INFO,\n",
    "    YAY,\n",
    "    WARN,\n",
    "    ERROR,\n",
    ")  # pylint: disable=import-error, no-name-in-module, unused-import\n",
    "\n",
    "from polynomial_gcs_dual import PolynomialDualGCS, Vertex, Edge"
   ]
  },
  {
   "cell_type": "code",
   "execution_count": 3,
   "metadata": {},
   "outputs": [
    {
     "data": {
      "text/plain": [
       "array([1.61735985])"
      ]
     },
     "execution_count": 3,
     "metadata": {},
     "output_type": "execute_result"
    }
   ],
   "source": [
    "np.random.uniform(1,2,1)"
   ]
  },
  {
   "cell_type": "code",
   "execution_count": null,
   "metadata": {},
   "outputs": [],
   "source": []
  },
  {
   "cell_type": "code",
   "execution_count": 2,
   "metadata": {},
   "outputs": [
    {
     "name": "stdout",
     "output_type": "stream",
     "text": [
      "e0\n",
      "c1 b1\n",
      "c1 b2\n",
      "b1 a1\n",
      "b2 a1\n"
     ]
    },
    {
     "ename": "TypeError",
     "evalue": "PolynomialDualGCS.solve_for_true_shortest_path() missing 1 required positional argument: 'point'",
     "output_type": "error",
     "traceback": [
      "\u001b[0;31m---------------------------------------------------------------------------\u001b[0m",
      "\u001b[0;31mTypeError\u001b[0m                                 Traceback (most recent call last)",
      "\u001b[1;32m/Users/savva/Desktop/Codes/gcs/gcs-dual-no-dynamics/temp.ipynb Cell 2\u001b[0m line \u001b[0;36m2\n\u001b[1;32m     <a href='vscode-notebook-cell:/Users/savva/Desktop/Codes/gcs/gcs-dual-no-dynamics/temp.ipynb#W1sZmlsZQ%3D%3D?line=18'>19</a>\u001b[0m \u001b[39mfor\u001b[39;00m v \u001b[39min\u001b[39;00m graph\u001b[39m.\u001b[39mgcs\u001b[39m.\u001b[39mEdges():\n\u001b[1;32m     <a href='vscode-notebook-cell:/Users/savva/Desktop/Codes/gcs/gcs-dual-no-dynamics/temp.ipynb#W1sZmlsZQ%3D%3D?line=19'>20</a>\u001b[0m     \u001b[39mprint\u001b[39m(v\u001b[39m.\u001b[39mname())\n\u001b[0;32m---> <a href='vscode-notebook-cell:/Users/savva/Desktop/Codes/gcs/gcs-dual-no-dynamics/temp.ipynb#W1sZmlsZQ%3D%3D?line=21'>22</a>\u001b[0m graph\u001b[39m.\u001b[39;49msolve_for_true_shortest_path(\u001b[39m\"\u001b[39;49m\u001b[39mc1\u001b[39;49m\u001b[39m\"\u001b[39;49m, [\u001b[39m2\u001b[39;49m])\n\u001b[1;32m     <a href='vscode-notebook-cell:/Users/savva/Desktop/Codes/gcs/gcs-dual-no-dynamics/temp.ipynb#W1sZmlsZQ%3D%3D?line=22'>23</a>\u001b[0m graph\u001b[39m.\u001b[39msolve_for_true_shortest_path(\u001b[39m\"\u001b[39m\u001b[39mc1\u001b[39m\u001b[39m\"\u001b[39m, [\u001b[39m3\u001b[39m])\n",
      "\u001b[0;31mTypeError\u001b[0m: PolynomialDualGCS.solve_for_true_shortest_path() missing 1 required positional argument: 'point'"
     ]
    }
   ],
   "source": [
    "options = ProgramOptions()\n",
    "options.use_convex_relaxation = False\n",
    "\n",
    "graph = PolynomialDualGCS(options)\n",
    "# test out on something simpel\n",
    "\n",
    "quad_cost = lambda x, y: np.sum([(x[i]-y[i])**2 for i in range(len(x))])\n",
    "\n",
    "a1 = graph.AddTargetVertex(\"a1\", Point([0]), lambda x: 0 )\n",
    "b1 = graph.AddVertex(\"b1\", HPolyhedron.MakeBox([-3],[-1]))\n",
    "b2 = graph.AddVertex(\"b2\", HPolyhedron.MakeBox([1],[3]))\n",
    "c1 = graph.AddVertex(\"c1\", HPolyhedron.MakeBox([-3],[3]))\n",
    "\n",
    "graph.AddEdge(c1, b1, quad_cost)\n",
    "graph.AddEdge(c1, b2, quad_cost)\n",
    "graph.AddEdge(b1, a1, quad_cost)\n",
    "graph.AddEdge(b2, a1, quad_cost)\n",
    "\n",
    "for v in graph.gcs.Edges():\n",
    "    print(v.name())\n",
    "\n",
    "graph.solve_for_true_shortest_path(\"c1\", [2])\n",
    "graph.solve_for_true_shortest_path(\"c1\", [3])\n"
   ]
  },
  {
   "cell_type": "code",
   "execution_count": null,
   "metadata": {},
   "outputs": [
    {
     "ename": "",
     "evalue": "",
     "output_type": "error",
     "traceback": [
      "\u001b[1;31mThe Kernel crashed while executing code in the the current cell or a previous cell. Please review the code in the cell(s) to identify a possible cause of the failure. Click <a href='https://aka.ms/vscodeJupyterKernelCrash'>here</a> for more info. View Jupyter <a href='command:jupyter.viewOutput'>log</a> for further details."
     ]
    }
   ],
   "source": []
  },
  {
   "cell_type": "code",
   "execution_count": 7,
   "metadata": {},
   "outputs": [
    {
     "name": "stdout",
     "output_type": "stream",
     "text": [
      "e5\n",
      "c1 b1\n",
      "c1 b2\n",
      "b1 a1\n",
      "b2 a1\n",
      "e5\n",
      "e6\n",
      "e7\n",
      "e8\n"
     ]
    }
   ],
   "source": [
    "for v in graph.gcs.Edges():\n",
    "    print(v.name())"
   ]
  },
  {
   "cell_type": "code",
   "execution_count": null,
   "metadata": {},
   "outputs": [],
   "source": []
  }
 ],
 "metadata": {
  "kernelspec": {
   "display_name": "Python 3",
   "language": "python",
   "name": "python3"
  },
  "language_info": {
   "codemirror_mode": {
    "name": "ipython",
    "version": 3
   },
   "file_extension": ".py",
   "mimetype": "text/x-python",
   "name": "python",
   "nbconvert_exporter": "python",
   "pygments_lexer": "ipython3",
   "version": "3.11.3"
  },
  "orig_nbformat": 4
 },
 "nbformat": 4,
 "nbformat_minor": 2
}
