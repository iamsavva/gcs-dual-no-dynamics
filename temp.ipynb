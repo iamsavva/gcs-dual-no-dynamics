{
 "cells": [
  {
   "cell_type": "code",
   "execution_count": 1,
   "metadata": {},
   "outputs": [],
   "source": [
    "import typing as T  # pylint: disable=unused-import\n",
    "\n",
    "import numpy as np\n",
    "import numpy.typing as npt\n",
    "\n",
    "from pydrake.solvers import (  # pylint: disable=import-error, no-name-in-module, unused-import\n",
    "    MathematicalProgram,\n",
    "    MathematicalProgramResult,\n",
    "    Solve,\n",
    "    MosekSolver,\n",
    "    MosekSolverDetails,\n",
    "    SolverOptions,\n",
    "    CommonSolverOption,\n",
    ")\n",
    "from pydrake.geometry.optimization import (  # pylint: disable=import-error, no-name-in-module\n",
    "    HPolyhedron,\n",
    "    Point,\n",
    "    ConvexSet,\n",
    ")\n",
    "\n",
    "from pydrake.symbolic import ( # pylint: disable=import-error, no-name-in-module, unused-import\n",
    "    Polynomial,\n",
    "    Variable,\n",
    "    Variables,\n",
    "    Expression,\n",
    ")  \n",
    "from program_options import ProgramOptions, FREE_POLY, PSD_POLY\n",
    "\n",
    "from util import (\n",
    "    timeit,\n",
    "    diditwork,\n",
    "    INFO,\n",
    "    YAY,\n",
    "    WARN,\n",
    "    ERROR,\n",
    ")  # pylint: disable=import-error, no-name-in-module, unused-import\n",
    "\n",
    "import plotly.graph_objects as go  # pylint: disable=import-error\n",
    "from plotly.express.colors import sample_colorscale  # pylint: disable=import-error\n",
    "import plotly.graph_objs as go\n",
    "from plotly.subplots import make_subplots\n",
    "\n",
    "from polynomial_gcs_dual import PolynomialDualGCS, Vertex, Edge\n",
    "from kink_example import random_uniform_graph_generator, build_m_step_horizon_from_layers, plot_a_layered_graph"
   ]
  },
  {
   "cell_type": "code",
   "execution_count": 2,
   "metadata": {},
   "outputs": [
    {
     "name": "stdout",
     "output_type": "stream",
     "text": [
      "\u001b[34mSolve took 1.975s\n",
      "\u001b[32msolve successful!\n",
      "\u001b[32m-91.44400149032633\n",
      "\u001b[32mSolutionResult.kSolutionFound\n",
      "\u001b[32mSolver is Mosek\n",
      "\u001b[32m<pydrake.solvers.MosekSolverDetails object at 0x296d5c5b0>\n",
      "\u001b[32mtime 1.9320709705352783\n",
      "\u001b[32mrescode 0\n",
      "\u001b[32msolution_status 1\n"
     ]
    }
   ],
   "source": [
    "options = ProgramOptions()\n",
    "options.pot_type = PSD_POLY\n",
    "options.mosek_tolerance_gap = 1e-9\n",
    "options.mosek_primal_feas_gap = 1e-9\n",
    "options.mosek_dual_feas_gap = 1e-9\n",
    "gcs, layers = random_uniform_graph_generator(num_layers=10, options=options)"
   ]
  },
  {
   "cell_type": "code",
   "execution_count": 6,
   "metadata": {},
   "outputs": [
    {
     "data": {
      "application/vnd.plotly.v1+json": {
       "config": {
        "plotlyServerURL": "https://plot.ly"
       },
       "data": [
        {
         "line": {
          "color": "black"
         },
         "type": "scatter",
         "x": [
          0,
          10
         ],
         "y": [
          10,
          10
         ]
        },
        {
         "line": {
          "color": "black"
         },
         "type": "scatter",
         "x": [
          0,
          0.917022004702574
         ],
         "y": [
          9,
          9
         ]
        },
        {
         "line": {
          "color": "black"
         },
         "type": "scatter",
         "x": [
          2.137346498144732,
          2.6374608729620768
         ],
         "y": [
          9,
          9
         ]
        },
        {
         "line": {
          "color": "black"
         },
         "type": "scatter",
         "x": [
          3.4397934455939163,
          4.0865493364110295
         ],
         "y": [
          9,
          9
         ]
        },
        {
         "line": {
          "color": "black"
         },
         "type": "scatter",
         "x": [
          4.678887931179827,
          5.365148142557498
         ],
         "y": [
          9,
          9
         ]
        },
        {
         "line": {
          "color": "black"
         },
         "type": "scatter",
         "x": [
          6.210708869600546,
          7.107476343831216
         ],
         "y": [
          9,
          9
         ]
        },
        {
         "line": {
          "color": "black"
         },
         "type": "scatter",
         "x": [
          8.146293077834573,
          9.065487592237867
         ],
         "y": [
          9,
          9
         ]
        },
        {
         "line": {
          "color": "black"
         },
         "type": "scatter",
         "x": [
          0.7044522497315174,
          2.0825696861224627
         ],
         "y": [
          8,
          8
         ]
        },
        {
         "line": {
          "color": "black"
         },
         "type": "scatter",
         "x": [
          2.6099572793203887,
          3.780424789498791
         ],
         "y": [
          8,
          8
         ]
        },
        {
         "line": {
          "color": "black"
         },
         "type": "scatter",
         "x": [
          4.697729591865918,
          5.756419420311669
         ],
         "y": [
          8,
          8
         ]
        },
        {
         "line": {
          "color": "black"
         },
         "type": "scatter",
         "x": [
          6.396806358906903,
          7.094907847991782
         ],
         "y": [
          8,
          8
         ]
        },
        {
         "line": {
          "color": "black"
         },
         "type": "scatter",
         "x": [
          8.395652416667318,
          9.863913992386715
         ],
         "y": [
          8,
          8
         ]
        },
        {
         "line": {
          "color": "black"
         },
         "type": "scatter",
         "x": [
          0,
          1.192322615669314
         ],
         "y": [
          7,
          7
         ]
        },
        {
         "line": {
          "color": "black"
         },
         "type": "scatter",
         "x": [
          2.568711767965352,
          3.9633184314691996
         ],
         "y": [
          7,
          7
         ]
        },
        {
         "line": {
          "color": "black"
         },
         "type": "scatter",
         "x": [
          4.548362642838978,
          5.08741742607186
         ],
         "y": [
          7,
          7
         ]
        },
        {
         "line": {
          "color": "black"
         },
         "type": "scatter",
         "x": [
          5.757247845636429,
          7.135390349065842
         ],
         "y": [
          7,
          7
         ]
        },
        {
         "line": {
          "color": "black"
         },
         "type": "scatter",
         "x": [
          7.733737182898892,
          8.654844807903944
         ],
         "y": [
          7,
          7
         ]
        },
        {
         "line": {
          "color": "black"
         },
         "type": "scatter",
         "x": [
          1.033165284973017,
          2.2250423989234904
         ],
         "y": [
          6,
          6
         ]
        },
        {
         "line": {
          "color": "black"
         },
         "type": "scatter",
         "x": [
          3.0405580299295534,
          4.227058957611137
         ],
         "y": [
          6,
          6
         ]
        },
        {
         "line": {
          "color": "black"
         },
         "type": "scatter",
         "x": [
          5.561684629508509,
          6.079972906852701
         ],
         "y": [
          6,
          6
         ]
        },
        {
         "line": {
          "color": "black"
         },
         "type": "scatter",
         "x": [
          7.330117221797669,
          8.818978310704164
         ],
         "y": [
          6,
          6
         ]
        },
        {
         "line": {
          "color": "black"
         },
         "type": "scatter",
         "x": [
          0,
          0.7804439920644052
         ],
         "y": [
          5,
          5
         ]
        },
        {
         "line": {
          "color": "black"
         },
         "type": "scatter",
         "x": [
          2.0697233205158936,
          2.6729493270935354
         ],
         "y": [
          5,
          5
         ]
        },
        {
         "line": {
          "color": "black"
         },
         "type": "scatter",
         "x": [
          3.6208428532694406,
          5.029438356362537
         ],
         "y": [
          5,
          5
         ]
        },
        {
         "line": {
          "color": "black"
         },
         "type": "scatter",
         "x": [
          5.823052504736216,
          6.610827843322565
         ],
         "y": [
          5,
          5
         ]
        },
        {
         "line": {
          "color": "black"
         },
         "type": "scatter",
         "x": [
          7.240856415440843,
          7.76022337331114
         ],
         "y": [
          5,
          5
         ]
        },
        {
         "line": {
          "color": "black"
         },
         "type": "scatter",
         "x": [
          8.93905890625103,
          9.65068702225109
         ],
         "y": [
          5,
          5
         ]
        },
        {
         "line": {
          "color": "black"
         },
         "type": "scatter",
         "x": [
          0.9915731592803383,
          1.5449357043974188
         ],
         "y": [
          4,
          4
         ]
        },
        {
         "line": {
          "color": "black"
         },
         "type": "scatter",
         "x": [
          2.619053309889432,
          3.265781884795242
         ],
         "y": [
          4,
          4
         ]
        },
        {
         "line": {
          "color": "black"
         },
         "type": "scatter",
         "x": [
          4.355087421698526,
          5.554845781719457
         ],
         "y": [
          4,
          4
         ]
        },
        {
         "line": {
          "color": "black"
         },
         "type": "scatter",
         "x": [
          6.157180210547283,
          7.071236198366852
         ],
         "y": [
          4,
          4
         ]
        },
        {
         "line": {
          "color": "black"
         },
         "type": "scatter",
         "x": [
          8.265636356094596,
          9.179815625621499
         ],
         "y": [
          4,
          4
         ]
        },
        {
         "line": {
          "color": "black"
         },
         "type": "scatter",
         "x": [
          9.729769084567586,
          10
         ],
         "y": [
          4,
          4
         ]
        },
        {
         "line": {
          "color": "black"
         },
         "type": "scatter",
         "x": [
          0,
          1.163794645219789
         ],
         "y": [
          3,
          3
         ]
        },
        {
         "line": {
          "color": "black"
         },
         "type": "scatter",
         "x": [
          2.1786837572780975,
          3.623278513268911
         ],
         "y": [
          3,
          3
         ]
        },
        {
         "line": {
          "color": "black"
         },
         "type": "scatter",
         "x": [
          4.709833553770904,
          6.113235469058788
         ],
         "y": [
          3,
          3
         ]
        },
        {
         "line": {
          "color": "black"
         },
         "type": "scatter",
         "x": [
          6.750710173205025,
          7.389986520455784
         ],
         "y": [
          3,
          3
         ]
        },
        {
         "line": {
          "color": "black"
         },
         "type": "scatter",
         "x": [
          8.697377809165307,
          9.59505464615084
         ],
         "y": [
          3,
          3
         ]
        },
        {
         "line": {
          "color": "black"
         },
         "type": "scatter",
         "x": [
          1.427508580396034,
          2.2752744401415406
         ],
         "y": [
          2,
          2
         ]
        },
        {
         "line": {
          "color": "black"
         },
         "type": "scatter",
         "x": [
          3.526086543277696,
          4.7520845286281475
         ],
         "y": [
          2,
          2
         ]
        },
        {
         "line": {
          "color": "black"
         },
         "type": "scatter",
         "x": [
          6.135390619833958,
          7.259062826889567
         ],
         "y": [
          2,
          2
         ]
        },
        {
         "line": {
          "color": "black"
         },
         "type": "scatter",
         "x": [
          8.510005260916904,
          9.358903602894745
         ],
         "y": [
          2,
          2
         ]
        },
        {
         "line": {
          "color": "black"
         },
         "type": "scatter",
         "x": [
          1.895886218196067,
          1.895886218196067
         ],
         "y": [
          1,
          1
         ]
        },
        {
         "line": {
          "color": "black"
         },
         "type": "scatter",
         "x": [
          3.323977408067362,
          3.323977408067362
         ],
         "y": [
          1,
          1
         ]
        },
        {
         "line": {
          "color": "black"
         },
         "type": "scatter",
         "x": [
          5.288817455215748,
          5.288817455215748
         ],
         "y": [
          1,
          1
         ]
        },
        {
         "line": {
          "color": "black"
         },
         "type": "scatter",
         "x": [
          6.952258953034196,
          6.952258953034196
         ],
         "y": [
          1,
          1
         ]
        },
        {
         "line": {
          "color": "black"
         },
         "type": "scatter",
         "x": [
          8.573954673243318,
          8.573954673243318
         ],
         "y": [
          1,
          1
         ]
        },
        {
         "line": {
          "color": "black"
         },
         "type": "scatter",
         "x": [
          9.688700646196693,
          9.688700646196693
         ],
         "y": [
          1,
          1
         ]
        }
       ],
       "layout": {
        "height": 800,
        "showlegend": false,
        "template": {
         "data": {
          "bar": [
           {
            "error_x": {
             "color": "#2a3f5f"
            },
            "error_y": {
             "color": "#2a3f5f"
            },
            "marker": {
             "line": {
              "color": "#E5ECF6",
              "width": 0.5
             },
             "pattern": {
              "fillmode": "overlay",
              "size": 10,
              "solidity": 0.2
             }
            },
            "type": "bar"
           }
          ],
          "barpolar": [
           {
            "marker": {
             "line": {
              "color": "#E5ECF6",
              "width": 0.5
             },
             "pattern": {
              "fillmode": "overlay",
              "size": 10,
              "solidity": 0.2
             }
            },
            "type": "barpolar"
           }
          ],
          "carpet": [
           {
            "aaxis": {
             "endlinecolor": "#2a3f5f",
             "gridcolor": "white",
             "linecolor": "white",
             "minorgridcolor": "white",
             "startlinecolor": "#2a3f5f"
            },
            "baxis": {
             "endlinecolor": "#2a3f5f",
             "gridcolor": "white",
             "linecolor": "white",
             "minorgridcolor": "white",
             "startlinecolor": "#2a3f5f"
            },
            "type": "carpet"
           }
          ],
          "choropleth": [
           {
            "colorbar": {
             "outlinewidth": 0,
             "ticks": ""
            },
            "type": "choropleth"
           }
          ],
          "contour": [
           {
            "colorbar": {
             "outlinewidth": 0,
             "ticks": ""
            },
            "colorscale": [
             [
              0,
              "#0d0887"
             ],
             [
              0.1111111111111111,
              "#46039f"
             ],
             [
              0.2222222222222222,
              "#7201a8"
             ],
             [
              0.3333333333333333,
              "#9c179e"
             ],
             [
              0.4444444444444444,
              "#bd3786"
             ],
             [
              0.5555555555555556,
              "#d8576b"
             ],
             [
              0.6666666666666666,
              "#ed7953"
             ],
             [
              0.7777777777777778,
              "#fb9f3a"
             ],
             [
              0.8888888888888888,
              "#fdca26"
             ],
             [
              1,
              "#f0f921"
             ]
            ],
            "type": "contour"
           }
          ],
          "contourcarpet": [
           {
            "colorbar": {
             "outlinewidth": 0,
             "ticks": ""
            },
            "type": "contourcarpet"
           }
          ],
          "heatmap": [
           {
            "colorbar": {
             "outlinewidth": 0,
             "ticks": ""
            },
            "colorscale": [
             [
              0,
              "#0d0887"
             ],
             [
              0.1111111111111111,
              "#46039f"
             ],
             [
              0.2222222222222222,
              "#7201a8"
             ],
             [
              0.3333333333333333,
              "#9c179e"
             ],
             [
              0.4444444444444444,
              "#bd3786"
             ],
             [
              0.5555555555555556,
              "#d8576b"
             ],
             [
              0.6666666666666666,
              "#ed7953"
             ],
             [
              0.7777777777777778,
              "#fb9f3a"
             ],
             [
              0.8888888888888888,
              "#fdca26"
             ],
             [
              1,
              "#f0f921"
             ]
            ],
            "type": "heatmap"
           }
          ],
          "heatmapgl": [
           {
            "colorbar": {
             "outlinewidth": 0,
             "ticks": ""
            },
            "colorscale": [
             [
              0,
              "#0d0887"
             ],
             [
              0.1111111111111111,
              "#46039f"
             ],
             [
              0.2222222222222222,
              "#7201a8"
             ],
             [
              0.3333333333333333,
              "#9c179e"
             ],
             [
              0.4444444444444444,
              "#bd3786"
             ],
             [
              0.5555555555555556,
              "#d8576b"
             ],
             [
              0.6666666666666666,
              "#ed7953"
             ],
             [
              0.7777777777777778,
              "#fb9f3a"
             ],
             [
              0.8888888888888888,
              "#fdca26"
             ],
             [
              1,
              "#f0f921"
             ]
            ],
            "type": "heatmapgl"
           }
          ],
          "histogram": [
           {
            "marker": {
             "pattern": {
              "fillmode": "overlay",
              "size": 10,
              "solidity": 0.2
             }
            },
            "type": "histogram"
           }
          ],
          "histogram2d": [
           {
            "colorbar": {
             "outlinewidth": 0,
             "ticks": ""
            },
            "colorscale": [
             [
              0,
              "#0d0887"
             ],
             [
              0.1111111111111111,
              "#46039f"
             ],
             [
              0.2222222222222222,
              "#7201a8"
             ],
             [
              0.3333333333333333,
              "#9c179e"
             ],
             [
              0.4444444444444444,
              "#bd3786"
             ],
             [
              0.5555555555555556,
              "#d8576b"
             ],
             [
              0.6666666666666666,
              "#ed7953"
             ],
             [
              0.7777777777777778,
              "#fb9f3a"
             ],
             [
              0.8888888888888888,
              "#fdca26"
             ],
             [
              1,
              "#f0f921"
             ]
            ],
            "type": "histogram2d"
           }
          ],
          "histogram2dcontour": [
           {
            "colorbar": {
             "outlinewidth": 0,
             "ticks": ""
            },
            "colorscale": [
             [
              0,
              "#0d0887"
             ],
             [
              0.1111111111111111,
              "#46039f"
             ],
             [
              0.2222222222222222,
              "#7201a8"
             ],
             [
              0.3333333333333333,
              "#9c179e"
             ],
             [
              0.4444444444444444,
              "#bd3786"
             ],
             [
              0.5555555555555556,
              "#d8576b"
             ],
             [
              0.6666666666666666,
              "#ed7953"
             ],
             [
              0.7777777777777778,
              "#fb9f3a"
             ],
             [
              0.8888888888888888,
              "#fdca26"
             ],
             [
              1,
              "#f0f921"
             ]
            ],
            "type": "histogram2dcontour"
           }
          ],
          "mesh3d": [
           {
            "colorbar": {
             "outlinewidth": 0,
             "ticks": ""
            },
            "type": "mesh3d"
           }
          ],
          "parcoords": [
           {
            "line": {
             "colorbar": {
              "outlinewidth": 0,
              "ticks": ""
             }
            },
            "type": "parcoords"
           }
          ],
          "pie": [
           {
            "automargin": true,
            "type": "pie"
           }
          ],
          "scatter": [
           {
            "fillpattern": {
             "fillmode": "overlay",
             "size": 10,
             "solidity": 0.2
            },
            "type": "scatter"
           }
          ],
          "scatter3d": [
           {
            "line": {
             "colorbar": {
              "outlinewidth": 0,
              "ticks": ""
             }
            },
            "marker": {
             "colorbar": {
              "outlinewidth": 0,
              "ticks": ""
             }
            },
            "type": "scatter3d"
           }
          ],
          "scattercarpet": [
           {
            "marker": {
             "colorbar": {
              "outlinewidth": 0,
              "ticks": ""
             }
            },
            "type": "scattercarpet"
           }
          ],
          "scattergeo": [
           {
            "marker": {
             "colorbar": {
              "outlinewidth": 0,
              "ticks": ""
             }
            },
            "type": "scattergeo"
           }
          ],
          "scattergl": [
           {
            "marker": {
             "colorbar": {
              "outlinewidth": 0,
              "ticks": ""
             }
            },
            "type": "scattergl"
           }
          ],
          "scattermapbox": [
           {
            "marker": {
             "colorbar": {
              "outlinewidth": 0,
              "ticks": ""
             }
            },
            "type": "scattermapbox"
           }
          ],
          "scatterpolar": [
           {
            "marker": {
             "colorbar": {
              "outlinewidth": 0,
              "ticks": ""
             }
            },
            "type": "scatterpolar"
           }
          ],
          "scatterpolargl": [
           {
            "marker": {
             "colorbar": {
              "outlinewidth": 0,
              "ticks": ""
             }
            },
            "type": "scatterpolargl"
           }
          ],
          "scatterternary": [
           {
            "marker": {
             "colorbar": {
              "outlinewidth": 0,
              "ticks": ""
             }
            },
            "type": "scatterternary"
           }
          ],
          "surface": [
           {
            "colorbar": {
             "outlinewidth": 0,
             "ticks": ""
            },
            "colorscale": [
             [
              0,
              "#0d0887"
             ],
             [
              0.1111111111111111,
              "#46039f"
             ],
             [
              0.2222222222222222,
              "#7201a8"
             ],
             [
              0.3333333333333333,
              "#9c179e"
             ],
             [
              0.4444444444444444,
              "#bd3786"
             ],
             [
              0.5555555555555556,
              "#d8576b"
             ],
             [
              0.6666666666666666,
              "#ed7953"
             ],
             [
              0.7777777777777778,
              "#fb9f3a"
             ],
             [
              0.8888888888888888,
              "#fdca26"
             ],
             [
              1,
              "#f0f921"
             ]
            ],
            "type": "surface"
           }
          ],
          "table": [
           {
            "cells": {
             "fill": {
              "color": "#EBF0F8"
             },
             "line": {
              "color": "white"
             }
            },
            "header": {
             "fill": {
              "color": "#C8D4E3"
             },
             "line": {
              "color": "white"
             }
            },
            "type": "table"
           }
          ]
         },
         "layout": {
          "annotationdefaults": {
           "arrowcolor": "#2a3f5f",
           "arrowhead": 0,
           "arrowwidth": 1
          },
          "autotypenumbers": "strict",
          "coloraxis": {
           "colorbar": {
            "outlinewidth": 0,
            "ticks": ""
           }
          },
          "colorscale": {
           "diverging": [
            [
             0,
             "#8e0152"
            ],
            [
             0.1,
             "#c51b7d"
            ],
            [
             0.2,
             "#de77ae"
            ],
            [
             0.3,
             "#f1b6da"
            ],
            [
             0.4,
             "#fde0ef"
            ],
            [
             0.5,
             "#f7f7f7"
            ],
            [
             0.6,
             "#e6f5d0"
            ],
            [
             0.7,
             "#b8e186"
            ],
            [
             0.8,
             "#7fbc41"
            ],
            [
             0.9,
             "#4d9221"
            ],
            [
             1,
             "#276419"
            ]
           ],
           "sequential": [
            [
             0,
             "#0d0887"
            ],
            [
             0.1111111111111111,
             "#46039f"
            ],
            [
             0.2222222222222222,
             "#7201a8"
            ],
            [
             0.3333333333333333,
             "#9c179e"
            ],
            [
             0.4444444444444444,
             "#bd3786"
            ],
            [
             0.5555555555555556,
             "#d8576b"
            ],
            [
             0.6666666666666666,
             "#ed7953"
            ],
            [
             0.7777777777777778,
             "#fb9f3a"
            ],
            [
             0.8888888888888888,
             "#fdca26"
            ],
            [
             1,
             "#f0f921"
            ]
           ],
           "sequentialminus": [
            [
             0,
             "#0d0887"
            ],
            [
             0.1111111111111111,
             "#46039f"
            ],
            [
             0.2222222222222222,
             "#7201a8"
            ],
            [
             0.3333333333333333,
             "#9c179e"
            ],
            [
             0.4444444444444444,
             "#bd3786"
            ],
            [
             0.5555555555555556,
             "#d8576b"
            ],
            [
             0.6666666666666666,
             "#ed7953"
            ],
            [
             0.7777777777777778,
             "#fb9f3a"
            ],
            [
             0.8888888888888888,
             "#fdca26"
            ],
            [
             1,
             "#f0f921"
            ]
           ]
          },
          "colorway": [
           "#636efa",
           "#EF553B",
           "#00cc96",
           "#ab63fa",
           "#FFA15A",
           "#19d3f3",
           "#FF6692",
           "#B6E880",
           "#FF97FF",
           "#FECB52"
          ],
          "font": {
           "color": "#2a3f5f"
          },
          "geo": {
           "bgcolor": "white",
           "lakecolor": "white",
           "landcolor": "#E5ECF6",
           "showlakes": true,
           "showland": true,
           "subunitcolor": "white"
          },
          "hoverlabel": {
           "align": "left"
          },
          "hovermode": "closest",
          "mapbox": {
           "style": "light"
          },
          "paper_bgcolor": "white",
          "plot_bgcolor": "#E5ECF6",
          "polar": {
           "angularaxis": {
            "gridcolor": "white",
            "linecolor": "white",
            "ticks": ""
           },
           "bgcolor": "#E5ECF6",
           "radialaxis": {
            "gridcolor": "white",
            "linecolor": "white",
            "ticks": ""
           }
          },
          "scene": {
           "xaxis": {
            "backgroundcolor": "#E5ECF6",
            "gridcolor": "white",
            "gridwidth": 2,
            "linecolor": "white",
            "showbackground": true,
            "ticks": "",
            "zerolinecolor": "white"
           },
           "yaxis": {
            "backgroundcolor": "#E5ECF6",
            "gridcolor": "white",
            "gridwidth": 2,
            "linecolor": "white",
            "showbackground": true,
            "ticks": "",
            "zerolinecolor": "white"
           },
           "zaxis": {
            "backgroundcolor": "#E5ECF6",
            "gridcolor": "white",
            "gridwidth": 2,
            "linecolor": "white",
            "showbackground": true,
            "ticks": "",
            "zerolinecolor": "white"
           }
          },
          "shapedefaults": {
           "line": {
            "color": "#2a3f5f"
           }
          },
          "ternary": {
           "aaxis": {
            "gridcolor": "white",
            "linecolor": "white",
            "ticks": ""
           },
           "baxis": {
            "gridcolor": "white",
            "linecolor": "white",
            "ticks": ""
           },
           "bgcolor": "#E5ECF6",
           "caxis": {
            "gridcolor": "white",
            "linecolor": "white",
            "ticks": ""
           }
          },
          "title": {
           "x": 0.05
          },
          "xaxis": {
           "automargin": true,
           "gridcolor": "white",
           "linecolor": "white",
           "ticks": "",
           "title": {
            "standoff": 15
           },
           "zerolinecolor": "white",
           "zerolinewidth": 2
          },
          "yaxis": {
           "automargin": true,
           "gridcolor": "white",
           "linecolor": "white",
           "ticks": "",
           "title": {
            "standoff": 15
           },
           "zerolinecolor": "white",
           "zerolinewidth": 2
          }
         }
        },
        "title": {
         "text": "Graph view"
        },
        "width": 800,
        "yaxis": {
         "scaleanchor": "x"
        },
        "yaxis2": {
         "overlaying": "y",
         "scaleanchor": "x",
         "side": "right"
        }
       }
      }
     },
     "metadata": {},
     "output_type": "display_data"
    }
   ],
   "source": [
    "fig = plot_a_layered_graph(layers)\n"
   ]
  },
  {
   "cell_type": "code",
   "execution_count": null,
   "metadata": {},
   "outputs": [],
   "source": []
  },
  {
   "cell_type": "code",
   "execution_count": null,
   "metadata": {},
   "outputs": [],
   "source": []
  },
  {
   "cell_type": "code",
   "execution_count": 14,
   "metadata": {},
   "outputs": [],
   "source": [
    "v_0 = layers[0][0]\n",
    "x1,y1,_ = build_m_step_horizon_from_layers(gcs, layers, 1, v_0, 0)\n",
    "x2,y2,_ = build_m_step_horizon_from_layers(gcs, layers, 2, v_0, 0)\n",
    "x3,y3,_ = build_m_step_horizon_from_layers(gcs, layers, 3, v_0, 0)"
   ]
  },
  {
   "cell_type": "code",
   "execution_count": 15,
   "metadata": {},
   "outputs": [],
   "source": [
    "start_vertex = layers[0][0]\n",
    "\n",
    "fig = gcs.make_plots(start_vertex.name, 0.1)"
   ]
  },
  {
   "cell_type": "code",
   "execution_count": 16,
   "metadata": {},
   "outputs": [
    {
     "data": {
      "application/vnd.plotly.v1+json": {
       "config": {
        "plotlyServerURL": "https://plot.ly"
       },
       "data": [
        {
         "line": {
          "color": "chartreuse"
         },
         "mode": "lines",
         "name": "ground truth",
         "type": "scatter",
         "x": [
          0,
          0.10101010101010101,
          0.20202020202020202,
          0.30303030303030304,
          0.40404040404040403,
          0.5050505050505051,
          0.6060606060606061,
          0.7070707070707071,
          0.8080808080808081,
          0.9090909090909091,
          1.0101010101010102,
          1.1111111111111112,
          1.2121212121212122,
          1.3131313131313131,
          1.4141414141414141,
          1.5151515151515151,
          1.6161616161616161,
          1.7171717171717171,
          1.8181818181818181,
          1.9191919191919191,
          2.0202020202020203,
          2.121212121212121,
          2.2222222222222223,
          2.323232323232323,
          2.4242424242424243,
          2.525252525252525,
          2.6262626262626263,
          2.727272727272727,
          2.8282828282828283,
          2.929292929292929,
          3.0303030303030303,
          3.131313131313131,
          3.2323232323232323,
          3.3333333333333335,
          3.4343434343434343,
          3.5353535353535355,
          3.6363636363636362,
          3.7373737373737375,
          3.8383838383838382,
          3.9393939393939394,
          4.040404040404041,
          4.141414141414141,
          4.242424242424242,
          4.343434343434343,
          4.444444444444445,
          4.545454545454545,
          4.646464646464646,
          4.747474747474747,
          4.848484848484849,
          4.94949494949495,
          5.05050505050505,
          5.151515151515151,
          5.252525252525253,
          5.353535353535354,
          5.454545454545454,
          5.555555555555555,
          5.656565656565657,
          5.757575757575758,
          5.858585858585858,
          5.959595959595959,
          6.0606060606060606,
          6.161616161616162,
          6.262626262626262,
          6.363636363636363,
          6.4646464646464645,
          6.565656565656566,
          6.666666666666667,
          6.767676767676767,
          6.8686868686868685,
          6.96969696969697,
          7.070707070707071,
          7.171717171717171,
          7.2727272727272725,
          7.373737373737374,
          7.474747474747475,
          7.575757575757575,
          7.6767676767676765,
          7.777777777777778,
          7.878787878787879,
          7.979797979797979,
          8.080808080808081,
          8.181818181818182,
          8.282828282828282,
          8.383838383838384,
          8.484848484848484,
          8.585858585858587,
          8.686868686868687,
          8.787878787878787,
          8.88888888888889,
          8.98989898989899,
          9.09090909090909,
          9.191919191919192,
          9.292929292929292,
          9.393939393939394,
          9.494949494949495,
          9.595959595959595,
          9.696969696969697,
          9.797979797979798,
          9.8989898989899,
          10
         ],
         "y": [
          9.729214954138923,
          9.628629045389902,
          9.538245881075902,
          9.461194884583568,
          9.404310877644603,
          9.3678318442083,
          9.351759451012251,
          9.356093057492718,
          9.380832827429872,
          9.425978659153339,
          9.491530745199833,
          9.463838165880816,
          9.38425288396337,
          9.325073550084358,
          9.28629677503854,
          9.26792268695911,
          9.262622808436365,
          9.264125269574235,
          9.272429345727526,
          9.287535529539953,
          9.309443952363676,
          9.333218124632946,
          9.361427202471091,
          9.356911055991082,
          9.343061835670454,
          9.336484123280574,
          9.339886211997637,
          9.353491001248953,
          9.37729892076401,
          9.411310182702257,
          9.457010975085836,
          9.486067493949665,
          9.421423868250969,
          9.37718496279058,
          9.34594669068064,
          9.3176797168309,
          9.292735897616828,
          9.272728539306907,
          9.259932828259519,
          9.257319868607892,
          9.264909735124078,
          9.282702348792451,
          9.310697828943098,
          9.348897269398547,
          9.397298986208071,
          9.455903944761952,
          9.5247116320231,
          9.596825768104939,
          9.586937471941678,
          9.597455146146466,
          9.628379050647682,
          9.67970916022336,
          9.751445070858171,
          9.843587069991331,
          9.745629638953142,
          9.640761099317624,
          9.556298567150709,
          9.492241459095826,
          9.448591243313734,
          9.425346805151543,
          9.42250828859642,
          9.440076131021197,
          9.47662026102375,
          9.524495797046349,
          9.444884046469502,
          9.368330722534905,
          9.301980448060307,
          9.245832644839847,
          9.199888341378978,
          9.164147296429745,
          9.138608716115325,
          9.123273810405777,
          9.118141787615677,
          9.125803332388953,
          9.153450750678111,
          9.201503687455226,
          9.269963212066235,
          9.35882874213757,
          9.468100058487892,
          9.59777761098216,
          9.747861539695016,
          9.735023766205614,
          9.640497091576371,
          9.566375622912327,
          9.51266066689762,
          9.4793519354931,
          9.466449237473416,
          9.473952468560153,
          9.459095302230187,
          9.429803076179947,
          9.41071435814187,
          9.401828719179944,
          9.40314602826066,
          9.41466630956639,
          9.436389648858095,
          9.46831558721645,
          9.51000461918165,
          9.556952287698032,
          9.607981206451155,
          9.663569656399229
         ]
        },
        {
         "line": {
          "color": "blue"
         },
         "mode": "lines",
         "name": "policy",
         "type": "scatter",
         "x": [
          0,
          0.10101010101010101,
          0.20202020202020202,
          0.30303030303030304,
          0.40404040404040403,
          0.5050505050505051,
          0.6060606060606061,
          0.7070707070707071,
          0.8080808080808081,
          0.9090909090909091,
          1.0101010101010102,
          1.1111111111111112,
          1.2121212121212122,
          1.3131313131313131,
          1.4141414141414141,
          1.5151515151515151,
          1.6161616161616161,
          1.7171717171717171,
          1.8181818181818181,
          1.9191919191919191,
          2.0202020202020203,
          2.121212121212121,
          2.2222222222222223,
          2.323232323232323,
          2.4242424242424243,
          2.525252525252525,
          2.6262626262626263,
          2.727272727272727,
          2.8282828282828283,
          2.929292929292929,
          3.0303030303030303,
          3.131313131313131,
          3.2323232323232323,
          3.3333333333333335,
          3.4343434343434343,
          3.5353535353535355,
          3.6363636363636362,
          3.7373737373737375,
          3.8383838383838382,
          3.9393939393939394,
          4.040404040404041,
          4.141414141414141,
          4.242424242424242,
          4.343434343434343,
          4.444444444444445,
          4.545454545454545,
          4.646464646464646,
          4.747474747474747,
          4.848484848484849,
          4.94949494949495,
          5.05050505050505,
          5.151515151515151,
          5.252525252525253,
          5.353535353535354,
          5.454545454545454,
          5.555555555555555,
          5.656565656565657,
          5.757575757575758,
          5.858585858585858,
          5.959595959595959,
          6.0606060606060606,
          6.161616161616162,
          6.262626262626262,
          6.363636363636363,
          6.4646464646464645,
          6.565656565656566,
          6.666666666666667,
          6.767676767676767,
          6.8686868686868685,
          6.96969696969697,
          7.070707070707071,
          7.171717171717171,
          7.2727272727272725,
          7.373737373737374,
          7.474747474747475,
          7.575757575757575,
          7.6767676767676765,
          7.777777777777778,
          7.878787878787879,
          7.979797979797979,
          8.080808080808081,
          8.181818181818182,
          8.282828282828282,
          8.383838383838384,
          8.484848484848484,
          8.585858585858587,
          8.686868686868687,
          8.787878787878787,
          8.88888888888889,
          8.98989898989899,
          9.09090909090909,
          9.191919191919192,
          9.292929292929292,
          9.393939393939394,
          9.494949494949495,
          9.595959595959595,
          9.696969696969697,
          9.797979797979798,
          9.8989898989899,
          10
         ],
         "y": [
          9.392471046063259,
          9.377707055028164,
          9.363251013341902,
          9.349102921004471,
          9.335262778015872,
          9.321730584376105,
          9.308506340085168,
          9.295590045143063,
          9.282981699549792,
          9.270681303305349,
          9.258688856409739,
          9.247004358862963,
          9.235627810665017,
          9.2245592118159,
          9.213798562315617,
          9.203345862164166,
          9.193201111361544,
          9.183364309907756,
          9.1738354578028,
          9.164614555046676,
          9.15570160163938,
          9.147096597580918,
          9.138799542871288,
          9.130810437510489,
          9.123129281498521,
          9.115756074835385,
          9.108690817521081,
          9.101933509555607,
          9.095484150938967,
          9.089342741671159,
          9.08350928175218,
          9.077983771182033,
          9.07276620996072,
          9.067856598088238,
          9.063254935564585,
          9.058961222389765,
          9.054975458563778,
          9.051297644086619,
          9.047927778958295,
          9.044865863178801,
          9.04211189674814,
          9.039665879666309,
          9.03752781193331,
          9.035697693549144,
          9.034175524513808,
          9.032961304827303,
          9.032055034489632,
          9.031456713500791,
          9.03116634186078,
          9.031183919569603,
          9.031509446627258,
          9.032142923033742,
          9.03308434878906,
          9.03433372389321,
          9.03589104834619,
          9.037756322148,
          9.039929545298646,
          9.042410717798122,
          9.045199839646427,
          9.048296910843565,
          9.051701931389536,
          9.055414901284339,
          9.05943582052797,
          9.063764689120434,
          9.068401507061731,
          9.073346274351858,
          9.078598990990818,
          9.08415965697861,
          9.090028272315234,
          9.096204837000686,
          9.102689351034972,
          9.109481814418091,
          9.116582227150039,
          9.12399058923082,
          9.131706900660433,
          9.139731161438876,
          9.14806337156615,
          9.156703531042258,
          9.165651639867196,
          9.174907698040967,
          9.184471705563569,
          9.194343662435003,
          9.204523568655267,
          9.215011424224363,
          9.22580722914229,
          9.236910983409052,
          9.248322687024642,
          9.260042339989065,
          9.27206994230232,
          9.284405493964407,
          9.297048994975324,
          9.310000445335072,
          9.323259845043655,
          9.336827194101065,
          9.35070249250731,
          9.364885740262386,
          9.379376937366294,
          9.394176083819032,
          9.409283179620603,
          9.424698224771005
         ]
        },
        {
         "line": {
          "color": "red"
         },
         "mode": "lines",
         "name": "1-step-lookahead",
         "type": "scatter",
         "x": [
          0,
          0.10101010101010101,
          0.20202020202020202,
          0.30303030303030304,
          0.40404040404040403,
          0.5050505050505051,
          0.6060606060606061,
          0.7070707070707071,
          0.8080808080808081,
          0.9090909090909091,
          1.0101010101010102,
          1.1111111111111112,
          1.2121212121212122,
          1.3131313131313131,
          1.4141414141414141,
          1.5151515151515151,
          1.6161616161616161,
          1.7171717171717171,
          1.8181818181818181,
          1.9191919191919191,
          2.0202020202020203,
          2.121212121212121,
          2.2222222222222223,
          2.323232323232323,
          2.4242424242424243,
          2.525252525252525,
          2.6262626262626263,
          2.727272727272727,
          2.8282828282828283,
          2.929292929292929,
          3.0303030303030303,
          3.131313131313131,
          3.2323232323232323,
          3.3333333333333335,
          3.4343434343434343,
          3.5353535353535355,
          3.6363636363636362,
          3.7373737373737375,
          3.8383838383838382,
          3.9393939393939394,
          4.040404040404041,
          4.141414141414141,
          4.242424242424242,
          4.343434343434343,
          4.444444444444445,
          4.545454545454545,
          4.646464646464646,
          4.747474747474747,
          4.848484848484849,
          4.94949494949495,
          5.05050505050505,
          5.151515151515151,
          5.252525252525253,
          5.353535353535354,
          5.454545454545454,
          5.555555555555555,
          5.656565656565657,
          5.757575757575758,
          5.858585858585858,
          5.959595959595959,
          6.0606060606060606,
          6.161616161616162,
          6.262626262626262,
          6.363636363636363,
          6.4646464646464645,
          6.565656565656566,
          6.666666666666667,
          6.767676767676767,
          6.8686868686868685,
          6.96969696969697,
          7.070707070707071,
          7.171717171717171,
          7.2727272727272725,
          7.373737373737374,
          7.474747474747475,
          7.575757575757575,
          7.6767676767676765,
          7.777777777777778,
          7.878787878787879,
          7.979797979797979,
          8.080808080808081,
          8.181818181818182,
          8.282828282828282,
          8.383838383838384,
          8.484848484848484,
          8.585858585858587,
          8.686868686868687,
          8.787878787878787,
          8.88888888888889,
          8.98989898989899,
          9.09090909090909,
          9.191919191919192,
          9.292929292929292,
          9.393939393939394,
          9.494949494949495,
          9.595959595959595,
          9.696969696969697,
          9.797979797979798,
          9.8989898989899,
          10
         ],
         "y": [
          9.647024102079735,
          9.571868927104246,
          9.504263795663931,
          9.444209004122213,
          9.391867372276696,
          9.355388847649913,
          9.339316807227622,
          9.343650284932721,
          9.368390010683763,
          9.413536342799317,
          9.47908785210724,
          9.399366252508713,
          9.319780904353149,
          9.260601574660672,
          9.221828356079453,
          9.203461749146427,
          9.198571333436346,
          9.194592995812169,
          9.191265459224734,
          9.188588801489056,
          9.186562992313096,
          9.185187746387806,
          9.184463514576214,
          9.184390091491714,
          9.184967494369982,
          9.186195560536316,
          9.188074604332208,
          9.190604557070566,
          9.196578392285177,
          9.220792701652673,
          9.265413590042629,
          9.227841822913929,
          9.163197378884343,
          9.118959621892769,
          9.095127073074787,
          9.089350014217738,
          9.08711189008307,
          9.085924873646404,
          9.085786776665174,
          9.086699827995881,
          9.088662860044538,
          9.091676608524747,
          9.095740289213863,
          9.10085430653522,
          9.10701855044598,
          9.114233985646543,
          9.12249832444973,
          9.131813558911645,
          9.142179355143663,
          9.1555864567293,
          9.186510360560584,
          9.237840095827558,
          9.3095761719029,
          9.401718480981621,
          9.43900856799068,
          9.334139934203998,
          9.249677179763891,
          9.18562089875621,
          9.141970665888971,
          9.118725854471974,
          9.113366254544273,
          9.111004980804593,
          9.109199841278286,
          9.107951261168493,
          9.10725921622321,
          9.107123477416188,
          9.107544162700664,
          9.10852247702684,
          9.11005481113731,
          9.112144589945073,
          9.11479176282163,
          9.117993719801689,
          9.121752925624595,
          9.130228124971325,
          9.157875242337006,
          9.205928538453866,
          9.274387854105065,
          9.363253449123569,
          9.472524847695524,
          9.602202470040446,
          9.663454850908058,
          9.548521518747112,
          9.453996494170863,
          9.379873578950724,
          9.326158712096694,
          9.292849636519888,
          9.279947783606763,
          9.284909593110354,
          9.293257563271515,
          9.302700804903832,
          9.31323976189382,
          9.324872350422892,
          9.337600623310617,
          9.351424585266916,
          9.36634378062465,
          9.382356530649783,
          9.399468110063005,
          9.417730701255111,
          9.448221420998731,
          9.499118816484701
         ]
        },
        {
         "line": {
          "color": "purple"
         },
         "mode": "lines",
         "name": "2-step-lookahead",
         "type": "scatter",
         "x": [
          0,
          0.10101010101010101,
          0.20202020202020202,
          0.30303030303030304,
          0.40404040404040403,
          0.5050505050505051,
          0.6060606060606061,
          0.7070707070707071,
          0.8080808080808081,
          0.9090909090909091,
          1.0101010101010102,
          1.1111111111111112,
          1.2121212121212122,
          1.3131313131313131,
          1.4141414141414141,
          1.5151515151515151,
          1.6161616161616161,
          1.7171717171717171,
          1.8181818181818181,
          1.9191919191919191,
          2.0202020202020203,
          2.121212121212121,
          2.2222222222222223,
          2.323232323232323,
          2.4242424242424243,
          2.525252525252525,
          2.6262626262626263,
          2.727272727272727,
          2.8282828282828283,
          2.929292929292929,
          3.0303030303030303,
          3.131313131313131,
          3.2323232323232323,
          3.3333333333333335,
          3.4343434343434343,
          3.5353535353535355,
          3.6363636363636362,
          3.7373737373737375,
          3.8383838383838382,
          3.9393939393939394,
          4.040404040404041,
          4.141414141414141,
          4.242424242424242,
          4.343434343434343,
          4.444444444444445,
          4.545454545454545,
          4.646464646464646,
          4.747474747474747,
          4.848484848484849,
          4.94949494949495,
          5.05050505050505,
          5.151515151515151,
          5.252525252525253,
          5.353535353535354,
          5.454545454545454,
          5.555555555555555,
          5.656565656565657,
          5.757575757575758,
          5.858585858585858,
          5.959595959595959,
          6.0606060606060606,
          6.161616161616162,
          6.262626262626262,
          6.363636363636363,
          6.4646464646464645,
          6.565656565656566,
          6.666666666666667,
          6.767676767676767,
          6.8686868686868685,
          6.96969696969697,
          7.070707070707071,
          7.171717171717171,
          7.2727272727272725,
          7.373737373737374,
          7.474747474747475,
          7.575757575757575,
          7.6767676767676765,
          7.777777777777778,
          7.878787878787879,
          7.979797979797979,
          8.080808080808081,
          8.181818181818182,
          8.282828282828282,
          8.383838383838384,
          8.484848484848484,
          8.585858585858587,
          8.686868686868687,
          8.787878787878787,
          8.88888888888889,
          8.98989898989899,
          9.09090909090909,
          9.191919191919192,
          9.292929292929292,
          9.393939393939394,
          9.494949494949495,
          9.595959595959595,
          9.696969696969697,
          9.797979797979798,
          9.8989898989899,
          10
         ],
         "y": [
          9.729208698788932,
          9.628622096141864,
          9.538238788309298,
          9.461188070000555,
          9.404303658409574,
          9.367825414191048,
          9.351752619364206,
          9.356086170497429,
          9.380826155268833,
          9.425972142210842,
          9.49152390375878,
          9.399366617043912,
          9.31978153953689,
          9.260601961997564,
          9.221828943835504,
          9.203461740865277,
          9.203856327544573,
          9.20790699522069,
          9.211958877473123,
          9.216012024588817,
          9.220066251352327,
          9.224121731551694,
          9.228178715926056,
          9.23223626006591,
          9.236295300080158,
          9.240355727007234,
          9.245383914223389,
          9.258988728496888,
          9.28279670084227,
          9.316807903041816,
          9.352441689073572,
          9.267391247841758,
          9.202747943194435,
          9.158509790255843,
          9.134676003949652,
          9.125537254070856,
          9.119194500155986,
          9.115277239210187,
          9.113784978891047,
          9.114726826974042,
          9.122316099527769,
          9.140108173845642,
          9.16810507770903,
          9.206302321512341,
          9.25470430385364,
          9.285060349777291,
          9.244544281386503,
          9.214391311150457,
          9.204504119909194,
          9.215022850640647,
          9.24594141556353,
          9.29727189022875,
          9.36900779706451,
          9.461149602180667,
          9.458972365867245,
          9.354104034736004,
          9.269640819675843,
          9.205586524373878,
          9.161935148567752,
          9.138697816919555,
          9.135852312539594,
          9.153419011439954,
          9.189964835255772,
          9.237842107598762,
          9.295922320553125,
          9.36420469434348,
          9.307086227082255,
          9.250938883840124,
          9.204994889897966,
          9.169253308843755,
          9.143714886158113,
          9.128379678073221,
          9.12324777195326,
          9.130909695109384,
          9.158556874804917,
          9.20661025996347,
          9.275069615067988,
          9.36393515065359,
          9.47320652311126,
          9.602883890772903,
          9.68643941484349,
          9.571506294780324,
          9.476979292318195,
          9.40285823939686,
          9.349143961756978,
          9.31583451876105,
          9.302931900645998,
          9.310435196236412,
          9.33834455368562,
          9.35391937108369,
          9.334831671940467,
          9.325949520947756,
          9.327263215210996,
          9.338786116753699,
          9.360507797686536,
          9.390144806968205,
          9.422696486787439,
          9.457987017265966,
          9.496061362056793,
          9.546958162583365
         ]
        },
        {
         "line": {
          "color": "magenta"
         },
         "mode": "lines",
         "name": "3-step-lookahead",
         "type": "scatter",
         "x": [
          0,
          0.10101010101010101,
          0.20202020202020202,
          0.30303030303030304,
          0.40404040404040403,
          0.5050505050505051,
          0.6060606060606061,
          0.7070707070707071,
          0.8080808080808081,
          0.9090909090909091,
          1.0101010101010102,
          1.1111111111111112,
          1.2121212121212122,
          1.3131313131313131,
          1.4141414141414141,
          1.5151515151515151,
          1.6161616161616161,
          1.7171717171717171,
          1.8181818181818181,
          1.9191919191919191,
          2.0202020202020203,
          2.121212121212121,
          2.2222222222222223,
          2.323232323232323,
          2.4242424242424243,
          2.525252525252525,
          2.6262626262626263,
          2.727272727272727,
          2.8282828282828283,
          2.929292929292929,
          3.0303030303030303,
          3.131313131313131,
          3.2323232323232323,
          3.3333333333333335,
          3.4343434343434343,
          3.5353535353535355,
          3.6363636363636362,
          3.7373737373737375,
          3.8383838383838382,
          3.9393939393939394,
          4.040404040404041,
          4.141414141414141,
          4.242424242424242,
          4.343434343434343,
          4.444444444444445,
          4.545454545454545,
          4.646464646464646,
          4.747474747474747,
          4.848484848484849,
          4.94949494949495,
          5.05050505050505,
          5.151515151515151,
          5.252525252525253,
          5.353535353535354,
          5.454545454545454,
          5.555555555555555,
          5.656565656565657,
          5.757575757575758,
          5.858585858585858,
          5.959595959595959,
          6.0606060606060606,
          6.161616161616162,
          6.262626262626262,
          6.363636363636363,
          6.4646464646464645,
          6.565656565656566,
          6.666666666666667,
          6.767676767676767,
          6.8686868686868685,
          6.96969696969697,
          7.070707070707071,
          7.171717171717171,
          7.2727272727272725,
          7.373737373737374,
          7.474747474747475,
          7.575757575757575,
          7.6767676767676765,
          7.777777777777778,
          7.878787878787879,
          7.979797979797979,
          8.080808080808081,
          8.181818181818182,
          8.282828282828282,
          8.383838383838384,
          8.484848484848484,
          8.585858585858587,
          8.686868686868687,
          8.787878787878787,
          8.88888888888889,
          8.98989898989899,
          9.09090909090909,
          9.191919191919192,
          9.292929292929292,
          9.393939393939394,
          9.494949494949495,
          9.595959595959595,
          9.696969696969697,
          9.797979797979798,
          9.8989898989899,
          10
         ],
         "y": [
          9.729209031110727,
          9.628622943021465,
          9.538239668481083,
          9.461188843485449,
          9.40430421732665,
          9.367825748659813,
          9.35175332540506,
          9.356087319945631,
          9.380826970729002,
          9.425972611083239,
          9.49152452449474,
          9.407674530967151,
          9.328089107106138,
          9.268909489326912,
          9.230136991099684,
          9.211758675025651,
          9.206458835402676,
          9.207960826015764,
          9.214809957549566,
          9.222122544372295,
          9.229503006832253,
          9.23695148208963,
          9.244467909183808,
          9.252052464801645,
          9.259704816880884,
          9.267425267207038,
          9.275236606607976,
          9.288841559004554,
          9.312649526638054,
          9.346660539597984,
          9.39117285352387,
          9.306122169611818,
          9.241477915700056,
          9.197239660238372,
          9.173407298160601,
          9.162932974991115,
          9.15374333648231,
          9.145631392064281,
          9.138598075705973,
          9.136066943915724,
          9.143656108606754,
          9.161448866136254,
          9.189444944654072,
          9.227643628659814,
          9.276046064785008,
          9.334650532182307,
          9.329563450103237,
          9.300954713353505,
          9.291064522270727,
          9.301583140477916,
          9.332506281748095,
          9.383839456314256,
          9.455572159547948,
          9.54771299232375,
          9.477200803445132,
          9.372332733485162,
          9.287867064272739,
          9.223810308062067,
          9.180159491193859,
          9.156915340109524,
          9.154078631599852,
          9.171645803062876,
          9.208190853610787,
          9.256066697648818,
          9.314147266135413,
          9.373432461345422,
          9.307081995035423,
          9.25093471362659,
          9.204990375504705,
          9.169249010241778,
          9.1437106764462,
          9.128375691536457,
          9.123243634905009,
          9.130905588442666,
          9.158553137296224,
          9.206606763350987,
          9.275065592723632,
          9.363930826162777,
          9.473202062693268,
          9.60287964436067,
          9.707729680881847,
          9.59279660710107,
          9.498270642636443,
          9.424149452837042,
          9.370433585534641,
          9.337124363635272,
          9.324216749043275,
          9.331720876112614,
          9.359634678092375,
          9.338982747731247,
          9.31989197602675,
          9.311005327955087,
          9.312323521406062,
          9.323842996245485,
          9.345573349125008,
          9.377492515486432,
          9.419088634880111,
          9.46557748194401,
          9.515943308878544,
          9.570898860675442
         ]
        }
       ],
       "layout": {
        "height": 800,
        "template": {
         "data": {
          "bar": [
           {
            "error_x": {
             "color": "#2a3f5f"
            },
            "error_y": {
             "color": "#2a3f5f"
            },
            "marker": {
             "line": {
              "color": "#E5ECF6",
              "width": 0.5
             },
             "pattern": {
              "fillmode": "overlay",
              "size": 10,
              "solidity": 0.2
             }
            },
            "type": "bar"
           }
          ],
          "barpolar": [
           {
            "marker": {
             "line": {
              "color": "#E5ECF6",
              "width": 0.5
             },
             "pattern": {
              "fillmode": "overlay",
              "size": 10,
              "solidity": 0.2
             }
            },
            "type": "barpolar"
           }
          ],
          "carpet": [
           {
            "aaxis": {
             "endlinecolor": "#2a3f5f",
             "gridcolor": "white",
             "linecolor": "white",
             "minorgridcolor": "white",
             "startlinecolor": "#2a3f5f"
            },
            "baxis": {
             "endlinecolor": "#2a3f5f",
             "gridcolor": "white",
             "linecolor": "white",
             "minorgridcolor": "white",
             "startlinecolor": "#2a3f5f"
            },
            "type": "carpet"
           }
          ],
          "choropleth": [
           {
            "colorbar": {
             "outlinewidth": 0,
             "ticks": ""
            },
            "type": "choropleth"
           }
          ],
          "contour": [
           {
            "colorbar": {
             "outlinewidth": 0,
             "ticks": ""
            },
            "colorscale": [
             [
              0,
              "#0d0887"
             ],
             [
              0.1111111111111111,
              "#46039f"
             ],
             [
              0.2222222222222222,
              "#7201a8"
             ],
             [
              0.3333333333333333,
              "#9c179e"
             ],
             [
              0.4444444444444444,
              "#bd3786"
             ],
             [
              0.5555555555555556,
              "#d8576b"
             ],
             [
              0.6666666666666666,
              "#ed7953"
             ],
             [
              0.7777777777777778,
              "#fb9f3a"
             ],
             [
              0.8888888888888888,
              "#fdca26"
             ],
             [
              1,
              "#f0f921"
             ]
            ],
            "type": "contour"
           }
          ],
          "contourcarpet": [
           {
            "colorbar": {
             "outlinewidth": 0,
             "ticks": ""
            },
            "type": "contourcarpet"
           }
          ],
          "heatmap": [
           {
            "colorbar": {
             "outlinewidth": 0,
             "ticks": ""
            },
            "colorscale": [
             [
              0,
              "#0d0887"
             ],
             [
              0.1111111111111111,
              "#46039f"
             ],
             [
              0.2222222222222222,
              "#7201a8"
             ],
             [
              0.3333333333333333,
              "#9c179e"
             ],
             [
              0.4444444444444444,
              "#bd3786"
             ],
             [
              0.5555555555555556,
              "#d8576b"
             ],
             [
              0.6666666666666666,
              "#ed7953"
             ],
             [
              0.7777777777777778,
              "#fb9f3a"
             ],
             [
              0.8888888888888888,
              "#fdca26"
             ],
             [
              1,
              "#f0f921"
             ]
            ],
            "type": "heatmap"
           }
          ],
          "heatmapgl": [
           {
            "colorbar": {
             "outlinewidth": 0,
             "ticks": ""
            },
            "colorscale": [
             [
              0,
              "#0d0887"
             ],
             [
              0.1111111111111111,
              "#46039f"
             ],
             [
              0.2222222222222222,
              "#7201a8"
             ],
             [
              0.3333333333333333,
              "#9c179e"
             ],
             [
              0.4444444444444444,
              "#bd3786"
             ],
             [
              0.5555555555555556,
              "#d8576b"
             ],
             [
              0.6666666666666666,
              "#ed7953"
             ],
             [
              0.7777777777777778,
              "#fb9f3a"
             ],
             [
              0.8888888888888888,
              "#fdca26"
             ],
             [
              1,
              "#f0f921"
             ]
            ],
            "type": "heatmapgl"
           }
          ],
          "histogram": [
           {
            "marker": {
             "pattern": {
              "fillmode": "overlay",
              "size": 10,
              "solidity": 0.2
             }
            },
            "type": "histogram"
           }
          ],
          "histogram2d": [
           {
            "colorbar": {
             "outlinewidth": 0,
             "ticks": ""
            },
            "colorscale": [
             [
              0,
              "#0d0887"
             ],
             [
              0.1111111111111111,
              "#46039f"
             ],
             [
              0.2222222222222222,
              "#7201a8"
             ],
             [
              0.3333333333333333,
              "#9c179e"
             ],
             [
              0.4444444444444444,
              "#bd3786"
             ],
             [
              0.5555555555555556,
              "#d8576b"
             ],
             [
              0.6666666666666666,
              "#ed7953"
             ],
             [
              0.7777777777777778,
              "#fb9f3a"
             ],
             [
              0.8888888888888888,
              "#fdca26"
             ],
             [
              1,
              "#f0f921"
             ]
            ],
            "type": "histogram2d"
           }
          ],
          "histogram2dcontour": [
           {
            "colorbar": {
             "outlinewidth": 0,
             "ticks": ""
            },
            "colorscale": [
             [
              0,
              "#0d0887"
             ],
             [
              0.1111111111111111,
              "#46039f"
             ],
             [
              0.2222222222222222,
              "#7201a8"
             ],
             [
              0.3333333333333333,
              "#9c179e"
             ],
             [
              0.4444444444444444,
              "#bd3786"
             ],
             [
              0.5555555555555556,
              "#d8576b"
             ],
             [
              0.6666666666666666,
              "#ed7953"
             ],
             [
              0.7777777777777778,
              "#fb9f3a"
             ],
             [
              0.8888888888888888,
              "#fdca26"
             ],
             [
              1,
              "#f0f921"
             ]
            ],
            "type": "histogram2dcontour"
           }
          ],
          "mesh3d": [
           {
            "colorbar": {
             "outlinewidth": 0,
             "ticks": ""
            },
            "type": "mesh3d"
           }
          ],
          "parcoords": [
           {
            "line": {
             "colorbar": {
              "outlinewidth": 0,
              "ticks": ""
             }
            },
            "type": "parcoords"
           }
          ],
          "pie": [
           {
            "automargin": true,
            "type": "pie"
           }
          ],
          "scatter": [
           {
            "fillpattern": {
             "fillmode": "overlay",
             "size": 10,
             "solidity": 0.2
            },
            "type": "scatter"
           }
          ],
          "scatter3d": [
           {
            "line": {
             "colorbar": {
              "outlinewidth": 0,
              "ticks": ""
             }
            },
            "marker": {
             "colorbar": {
              "outlinewidth": 0,
              "ticks": ""
             }
            },
            "type": "scatter3d"
           }
          ],
          "scattercarpet": [
           {
            "marker": {
             "colorbar": {
              "outlinewidth": 0,
              "ticks": ""
             }
            },
            "type": "scattercarpet"
           }
          ],
          "scattergeo": [
           {
            "marker": {
             "colorbar": {
              "outlinewidth": 0,
              "ticks": ""
             }
            },
            "type": "scattergeo"
           }
          ],
          "scattergl": [
           {
            "marker": {
             "colorbar": {
              "outlinewidth": 0,
              "ticks": ""
             }
            },
            "type": "scattergl"
           }
          ],
          "scattermapbox": [
           {
            "marker": {
             "colorbar": {
              "outlinewidth": 0,
              "ticks": ""
             }
            },
            "type": "scattermapbox"
           }
          ],
          "scatterpolar": [
           {
            "marker": {
             "colorbar": {
              "outlinewidth": 0,
              "ticks": ""
             }
            },
            "type": "scatterpolar"
           }
          ],
          "scatterpolargl": [
           {
            "marker": {
             "colorbar": {
              "outlinewidth": 0,
              "ticks": ""
             }
            },
            "type": "scatterpolargl"
           }
          ],
          "scatterternary": [
           {
            "marker": {
             "colorbar": {
              "outlinewidth": 0,
              "ticks": ""
             }
            },
            "type": "scatterternary"
           }
          ],
          "surface": [
           {
            "colorbar": {
             "outlinewidth": 0,
             "ticks": ""
            },
            "colorscale": [
             [
              0,
              "#0d0887"
             ],
             [
              0.1111111111111111,
              "#46039f"
             ],
             [
              0.2222222222222222,
              "#7201a8"
             ],
             [
              0.3333333333333333,
              "#9c179e"
             ],
             [
              0.4444444444444444,
              "#bd3786"
             ],
             [
              0.5555555555555556,
              "#d8576b"
             ],
             [
              0.6666666666666666,
              "#ed7953"
             ],
             [
              0.7777777777777778,
              "#fb9f3a"
             ],
             [
              0.8888888888888888,
              "#fdca26"
             ],
             [
              1,
              "#f0f921"
             ]
            ],
            "type": "surface"
           }
          ],
          "table": [
           {
            "cells": {
             "fill": {
              "color": "#EBF0F8"
             },
             "line": {
              "color": "white"
             }
            },
            "header": {
             "fill": {
              "color": "#C8D4E3"
             },
             "line": {
              "color": "white"
             }
            },
            "type": "table"
           }
          ]
         },
         "layout": {
          "annotationdefaults": {
           "arrowcolor": "#2a3f5f",
           "arrowhead": 0,
           "arrowwidth": 1
          },
          "autotypenumbers": "strict",
          "coloraxis": {
           "colorbar": {
            "outlinewidth": 0,
            "ticks": ""
           }
          },
          "colorscale": {
           "diverging": [
            [
             0,
             "#8e0152"
            ],
            [
             0.1,
             "#c51b7d"
            ],
            [
             0.2,
             "#de77ae"
            ],
            [
             0.3,
             "#f1b6da"
            ],
            [
             0.4,
             "#fde0ef"
            ],
            [
             0.5,
             "#f7f7f7"
            ],
            [
             0.6,
             "#e6f5d0"
            ],
            [
             0.7,
             "#b8e186"
            ],
            [
             0.8,
             "#7fbc41"
            ],
            [
             0.9,
             "#4d9221"
            ],
            [
             1,
             "#276419"
            ]
           ],
           "sequential": [
            [
             0,
             "#0d0887"
            ],
            [
             0.1111111111111111,
             "#46039f"
            ],
            [
             0.2222222222222222,
             "#7201a8"
            ],
            [
             0.3333333333333333,
             "#9c179e"
            ],
            [
             0.4444444444444444,
             "#bd3786"
            ],
            [
             0.5555555555555556,
             "#d8576b"
            ],
            [
             0.6666666666666666,
             "#ed7953"
            ],
            [
             0.7777777777777778,
             "#fb9f3a"
            ],
            [
             0.8888888888888888,
             "#fdca26"
            ],
            [
             1,
             "#f0f921"
            ]
           ],
           "sequentialminus": [
            [
             0,
             "#0d0887"
            ],
            [
             0.1111111111111111,
             "#46039f"
            ],
            [
             0.2222222222222222,
             "#7201a8"
            ],
            [
             0.3333333333333333,
             "#9c179e"
            ],
            [
             0.4444444444444444,
             "#bd3786"
            ],
            [
             0.5555555555555556,
             "#d8576b"
            ],
            [
             0.6666666666666666,
             "#ed7953"
            ],
            [
             0.7777777777777778,
             "#fb9f3a"
            ],
            [
             0.8888888888888888,
             "#fdca26"
            ],
            [
             1,
             "#f0f921"
            ]
           ]
          },
          "colorway": [
           "#636efa",
           "#EF553B",
           "#00cc96",
           "#ab63fa",
           "#FFA15A",
           "#19d3f3",
           "#FF6692",
           "#B6E880",
           "#FF97FF",
           "#FECB52"
          ],
          "font": {
           "color": "#2a3f5f"
          },
          "geo": {
           "bgcolor": "white",
           "lakecolor": "white",
           "landcolor": "#E5ECF6",
           "showlakes": true,
           "showland": true,
           "subunitcolor": "white"
          },
          "hoverlabel": {
           "align": "left"
          },
          "hovermode": "closest",
          "mapbox": {
           "style": "light"
          },
          "paper_bgcolor": "white",
          "plot_bgcolor": "#E5ECF6",
          "polar": {
           "angularaxis": {
            "gridcolor": "white",
            "linecolor": "white",
            "ticks": ""
           },
           "bgcolor": "#E5ECF6",
           "radialaxis": {
            "gridcolor": "white",
            "linecolor": "white",
            "ticks": ""
           }
          },
          "scene": {
           "xaxis": {
            "backgroundcolor": "#E5ECF6",
            "gridcolor": "white",
            "gridwidth": 2,
            "linecolor": "white",
            "showbackground": true,
            "ticks": "",
            "zerolinecolor": "white"
           },
           "yaxis": {
            "backgroundcolor": "#E5ECF6",
            "gridcolor": "white",
            "gridwidth": 2,
            "linecolor": "white",
            "showbackground": true,
            "ticks": "",
            "zerolinecolor": "white"
           },
           "zaxis": {
            "backgroundcolor": "#E5ECF6",
            "gridcolor": "white",
            "gridwidth": 2,
            "linecolor": "white",
            "showbackground": true,
            "ticks": "",
            "zerolinecolor": "white"
           }
          },
          "shapedefaults": {
           "line": {
            "color": "#2a3f5f"
           }
          },
          "ternary": {
           "aaxis": {
            "gridcolor": "white",
            "linecolor": "white",
            "ticks": ""
           },
           "baxis": {
            "gridcolor": "white",
            "linecolor": "white",
            "ticks": ""
           },
           "bgcolor": "#E5ECF6",
           "caxis": {
            "gridcolor": "white",
            "linecolor": "white",
            "ticks": ""
           }
          },
          "title": {
           "x": 0.05
          },
          "xaxis": {
           "automargin": true,
           "gridcolor": "white",
           "linecolor": "white",
           "ticks": "",
           "title": {
            "standoff": 15
           },
           "zerolinecolor": "white",
           "zerolinewidth": 2
          },
          "yaxis": {
           "automargin": true,
           "gridcolor": "white",
           "linecolor": "white",
           "ticks": "",
           "title": {
            "standoff": 15
           },
           "zerolinecolor": "white",
           "zerolinewidth": 2
          }
         }
        },
        "title": {
         "text": "Value functions "
        },
        "width": 800
       }
      }
     },
     "metadata": {},
     "output_type": "display_data"
    }
   ],
   "source": [
    "fig.add_trace(go.Scatter(x=x1, y=y1, mode='lines', name=\"1-step-lookahead\", line=dict(color=\"red\") ))\n",
    "fig.add_trace(go.Scatter(x=x2, y=y2, mode='lines', name=\"2-step-lookahead\", line=dict(color=\"purple\") ))\n",
    "fig.add_trace(go.Scatter(x=x3, y=y3, mode='lines', name=\"3-step-lookahead\", line=dict(color=\"magenta\") ))"
   ]
  },
  {
   "cell_type": "code",
   "execution_count": null,
   "metadata": {},
   "outputs": [],
   "source": []
  },
  {
   "cell_type": "code",
   "execution_count": 2,
   "metadata": {},
   "outputs": [
    {
     "name": "stdout",
     "output_type": "stream",
     "text": [
      "e0\n",
      "c1 b1\n",
      "c1 b2\n",
      "b1 a1\n",
      "b2 a1\n"
     ]
    },
    {
     "ename": "TypeError",
     "evalue": "PolynomialDualGCS.solve_for_true_shortest_path() missing 1 required positional argument: 'point'",
     "output_type": "error",
     "traceback": [
      "\u001b[0;31m---------------------------------------------------------------------------\u001b[0m",
      "\u001b[0;31mTypeError\u001b[0m                                 Traceback (most recent call last)",
      "\u001b[1;32m/Users/savva/Desktop/Codes/gcs/gcs-dual-no-dynamics/temp.ipynb Cell 2\u001b[0m line \u001b[0;36m2\n\u001b[1;32m     <a href='vscode-notebook-cell:/Users/savva/Desktop/Codes/gcs/gcs-dual-no-dynamics/temp.ipynb#W1sZmlsZQ%3D%3D?line=18'>19</a>\u001b[0m \u001b[39mfor\u001b[39;00m v \u001b[39min\u001b[39;00m graph\u001b[39m.\u001b[39mgcs\u001b[39m.\u001b[39mEdges():\n\u001b[1;32m     <a href='vscode-notebook-cell:/Users/savva/Desktop/Codes/gcs/gcs-dual-no-dynamics/temp.ipynb#W1sZmlsZQ%3D%3D?line=19'>20</a>\u001b[0m     \u001b[39mprint\u001b[39m(v\u001b[39m.\u001b[39mname())\n\u001b[0;32m---> <a href='vscode-notebook-cell:/Users/savva/Desktop/Codes/gcs/gcs-dual-no-dynamics/temp.ipynb#W1sZmlsZQ%3D%3D?line=21'>22</a>\u001b[0m graph\u001b[39m.\u001b[39;49msolve_for_true_shortest_path(\u001b[39m\"\u001b[39;49m\u001b[39mc1\u001b[39;49m\u001b[39m\"\u001b[39;49m, [\u001b[39m2\u001b[39;49m])\n\u001b[1;32m     <a href='vscode-notebook-cell:/Users/savva/Desktop/Codes/gcs/gcs-dual-no-dynamics/temp.ipynb#W1sZmlsZQ%3D%3D?line=22'>23</a>\u001b[0m graph\u001b[39m.\u001b[39msolve_for_true_shortest_path(\u001b[39m\"\u001b[39m\u001b[39mc1\u001b[39m\u001b[39m\"\u001b[39m, [\u001b[39m3\u001b[39m])\n",
      "\u001b[0;31mTypeError\u001b[0m: PolynomialDualGCS.solve_for_true_shortest_path() missing 1 required positional argument: 'point'"
     ]
    }
   ],
   "source": [
    "options = ProgramOptions()\n",
    "options.use_convex_relaxation = False\n",
    "\n",
    "graph = PolynomialDualGCS(options)\n",
    "# test out on something simpel\n",
    "\n",
    "quad_cost = lambda x, y: np.sum([(x[i]-y[i])**2 for i in range(len(x))])\n",
    "\n",
    "a1 = graph.AddTargetVertex(\"a1\", Point([0]), lambda x: 0 )\n",
    "b1 = graph.AddVertex(\"b1\", HPolyhedron.MakeBox([-3],[-1]))\n",
    "b2 = graph.AddVertex(\"b2\", HPolyhedron.MakeBox([1],[3]))\n",
    "c1 = graph.AddVertex(\"c1\", HPolyhedron.MakeBox([-3],[3]))\n",
    "\n",
    "graph.AddEdge(c1, b1, quad_cost)\n",
    "graph.AddEdge(c1, b2, quad_cost)\n",
    "graph.AddEdge(b1, a1, quad_cost)\n",
    "graph.AddEdge(b2, a1, quad_cost)\n",
    "\n",
    "for v in graph.gcs.Edges():\n",
    "    print(v.name())\n",
    "\n",
    "graph.solve_for_true_shortest_path(\"c1\", [2])\n",
    "graph.solve_for_true_shortest_path(\"c1\", [3])\n"
   ]
  },
  {
   "cell_type": "code",
   "execution_count": null,
   "metadata": {},
   "outputs": [
    {
     "ename": "",
     "evalue": "",
     "output_type": "error",
     "traceback": [
      "\u001b[1;31mThe Kernel crashed while executing code in the the current cell or a previous cell. Please review the code in the cell(s) to identify a possible cause of the failure. Click <a href='https://aka.ms/vscodeJupyterKernelCrash'>here</a> for more info. View Jupyter <a href='command:jupyter.viewOutput'>log</a> for further details."
     ]
    }
   ],
   "source": []
  },
  {
   "cell_type": "code",
   "execution_count": 7,
   "metadata": {},
   "outputs": [
    {
     "name": "stdout",
     "output_type": "stream",
     "text": [
      "e5\n",
      "c1 b1\n",
      "c1 b2\n",
      "b1 a1\n",
      "b2 a1\n",
      "e5\n",
      "e6\n",
      "e7\n",
      "e8\n"
     ]
    }
   ],
   "source": [
    "for v in graph.gcs.Edges():\n",
    "    print(v.name())"
   ]
  },
  {
   "cell_type": "code",
   "execution_count": null,
   "metadata": {},
   "outputs": [],
   "source": []
  }
 ],
 "metadata": {
  "kernelspec": {
   "display_name": "Python 3",
   "language": "python",
   "name": "python3"
  },
  "language_info": {
   "codemirror_mode": {
    "name": "ipython",
    "version": 3
   },
   "file_extension": ".py",
   "mimetype": "text/x-python",
   "name": "python",
   "nbconvert_exporter": "python",
   "pygments_lexer": "ipython3",
   "version": "3.11.3"
  },
  "orig_nbformat": 4
 },
 "nbformat": 4,
 "nbformat_minor": 2
}
