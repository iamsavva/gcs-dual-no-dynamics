{
 "cells": [
  {
   "cell_type": "code",
   "execution_count": 1,
   "metadata": {},
   "outputs": [],
   "source": [
    "import typing as T  # pylint: disable=unused-import\n",
    "\n",
    "import numpy as np\n",
    "import numpy.typing as npt\n",
    "\n",
    "from pydrake.solvers import (  # pylint: disable=import-error, no-name-in-module, unused-import\n",
    "    MathematicalProgram,\n",
    "    MathematicalProgramResult,\n",
    "    Solve,\n",
    "    MosekSolver,\n",
    "    MosekSolverDetails,\n",
    "    SolverOptions,\n",
    "    CommonSolverOption,\n",
    ")\n",
    "from pydrake.geometry.optimization import (  # pylint: disable=import-error, no-name-in-module\n",
    "    HPolyhedron,\n",
    "    Point,\n",
    "    ConvexSet,\n",
    ")\n",
    "\n",
    "from pydrake.symbolic import ( # pylint: disable=import-error, no-name-in-module, unused-import\n",
    "    Polynomial,\n",
    "    Variable,\n",
    "    Variables,\n",
    "    Expression,\n",
    ")  \n",
    "from program_options import ProgramOptions, FREE_POLY, PSD_POLY\n",
    "\n",
    "from util import (\n",
    "    timeit,\n",
    "    diditwork,\n",
    "    INFO,\n",
    "    YAY,\n",
    "    WARN,\n",
    "    ERROR,\n",
    ")  # pylint: disable=import-error, no-name-in-module, unused-import\n",
    "\n",
    "import plotly.graph_objects as go  # pylint: disable=import-error\n",
    "from plotly.express.colors import sample_colorscale  # pylint: disable=import-error\n",
    "import plotly.graph_objs as go\n",
    "from plotly.subplots import make_subplots\n",
    "\n",
    "from polynomial_gcs_dual import PolynomialDualGCS, Vertex, Edge\n",
    "from kink_example import random_uniform_graph_generator, build_m_step_horizon_from_layers, plot_m_step_horizon_from_layers, plot_a_layered_graph, plot_policy_rollout"
   ]
  },
  {
   "cell_type": "code",
   "execution_count": 2,
   "metadata": {},
   "outputs": [],
   "source": [
    "def add_rollout_plots(fig, gcs, layers, y_true, lookahead, vertex, layer_index, color, dx=0.1, subtract_nsteps:bool = False,use_0_potentials:bool=False, plot_lb=True):\n",
    "    nsteps_subtract = 0\n",
    "    if subtract_nsteps:\n",
    "        nsteps_subtract = len(layers)-1\n",
    "    if plot_lb:        \n",
    "        x,y = plot_m_step_horizon_from_layers(gcs, layers, lookahead, vertex, layer_index,dx=dx)\n",
    "        fig.add_trace(go.Scatter(x=x, y=y-nsteps_subtract, mode='lines', name=str(lookahead)+\"-step-lookahead lb\", line=dict(color=color) ))\n",
    "    x_r, y_r = plot_policy_rollout(gcs, layers, lookahead, vertex, layer_index,dx=dx, use_0_potentials=use_0_potentials)\n",
    "    fig.add_trace(go.Scatter(x=x_r, y=y_r-nsteps_subtract, mode='lines', name=str(lookahead)+\"-step-lookahead ub\", line=dict(color=color) ))\n",
    "    \n",
    "    if plot_lb:\n",
    "        lower_bound_gap = (1 - (y-nsteps_subtract)/(y_true-nsteps_subtract))*100\n",
    "        upper_bound_gap = ((y_r-nsteps_subtract)/(y_true-nsteps_subtract) - 1)*100\n",
    "        INFO(str(lookahead)+\"-step-lookahead statistics\")\n",
    "        INFO(\"max lower bound gap \", np.round(np.max(lower_bound_gap),2))\n",
    "        INFO(\"mean lower bound gap \", np.round(np.mean(lower_bound_gap),2))\n",
    "        INFO(\"max upper bound gap \", np.round(np.max(upper_bound_gap),2))\n",
    "        INFO(\"mean upper bound gap \", np.round(np.mean(upper_bound_gap),2))\n",
    "        INFO(\"---------------------\")\n"
   ]
  },
  {
   "cell_type": "code",
   "execution_count": 16,
   "metadata": {},
   "outputs": [
    {
     "name": "stdout",
     "output_type": "stream",
     "text": [
      "\u001b[34mSolve took 0.124s\n",
      "\u001b[32msolve successful!\n",
      "\u001b[32m-112.74779792882013\n",
      "\u001b[32mSolutionResult.kSolutionFound\n",
      "\u001b[32mSolver is Mosek\n",
      "\u001b[32m<pydrake.solvers.MosekSolverDetails object at 0x1600251f0>\n",
      "\u001b[32mtime 0.0921180248260498\n",
      "\u001b[32mrescode 0\n",
      "\u001b[32msolution_status 1\n"
     ]
    },
    {
     "data": {
      "application/vnd.plotly.v1+json": {
       "config": {
        "plotlyServerURL": "https://plot.ly"
       },
       "data": [
        {
         "line": {
          "color": "black"
         },
         "type": "scatter",
         "x": [
          0,
          15
         ],
         "y": [
          15,
          15
         ]
        },
        {
         "line": {
          "color": "black"
         },
         "type": "scatter",
         "x": [
          0,
          0.9359949021420038
         ],
         "y": [
          14,
          14
         ]
        },
        {
         "line": {
          "color": "black"
         },
         "type": "scatter",
         "x": [
          2.039699829453569,
          3.0893623073322782
         ],
         "y": [
          14,
          14
         ]
        },
        {
         "line": {
          "color": "black"
         },
         "type": "scatter",
         "x": [
          5.830651877805385,
          6.751019679892874
         ],
         "y": [
          14,
          14
         ]
        },
        {
         "line": {
          "color": "black"
         },
         "type": "scatter",
         "x": [
          9.072358963908371,
          9.777007597946215
         ],
         "y": [
          14,
          14
         ]
        },
        {
         "line": {
          "color": "black"
         },
         "type": "scatter",
         "x": [
          13.25409146334887,
          14.053746137023392
         ],
         "y": [
          14,
          14
         ]
        },
        {
         "line": {
          "color": "black"
         },
         "type": "scatter",
         "x": [
          3.4845353310771796,
          4.513677425354219
         ],
         "y": [
          13,
          13
         ]
        },
        {
         "line": {
          "color": "black"
         },
         "type": "scatter",
         "x": [
          6.051997206733953,
          7.065575327999699
         ],
         "y": [
          13,
          13
         ]
        },
        {
         "line": {
          "color": "black"
         },
         "type": "scatter",
         "x": [
          8.80333479058736,
          10.088669938404035
         ],
         "y": [
          13,
          13
         ]
        },
        {
         "line": {
          "color": "black"
         },
         "type": "scatter",
         "x": [
          14.50457110896199,
          15
         ],
         "y": [
          13,
          13
         ]
        },
        {
         "line": {
          "color": "black"
         },
         "type": "scatter",
         "x": [
          0,
          1.346561485357468
         ],
         "y": [
          12,
          12
         ]
        },
        {
         "line": {
          "color": "black"
         },
         "type": "scatter",
         "x": [
          2.665143393393712,
          3.670389483515416
         ],
         "y": [
          12,
          12
         ]
        },
        {
         "line": {
          "color": "black"
         },
         "type": "scatter",
         "x": [
          4.931535501062928,
          5.859657828660318
         ],
         "y": [
          12,
          12
         ]
        },
        {
         "line": {
          "color": "black"
         },
         "type": "scatter",
         "x": [
          7.245781491302768,
          7.872941463004046
         ],
         "y": [
          12,
          12
         ]
        },
        {
         "line": {
          "color": "black"
         },
         "type": "scatter",
         "x": [
          11.259922698918428,
          11.985934699522664
         ],
         "y": [
          12,
          12
         ]
        },
        {
         "line": {
          "color": "black"
         },
         "type": "scatter",
         "x": [
          13.413717436762596,
          14.134023643833157
         ],
         "y": [
          12,
          12
         ]
        },
        {
         "line": {
          "color": "black"
         },
         "type": "scatter",
         "x": [
          2.871149938329201,
          3.5728931645941664
         ],
         "y": [
          11,
          11
         ]
        },
        {
         "line": {
          "color": "black"
         },
         "type": "scatter",
         "x": [
          7.134520065453826,
          8.117589901005577
         ],
         "y": [
          11,
          11
         ]
        },
        {
         "line": {
          "color": "black"
         },
         "type": "scatter",
         "x": [
          11.138536781079774,
          12.025429432198333
         ],
         "y": [
          11,
          11
         ]
        },
        {
         "line": {
          "color": "black"
         },
         "type": "scatter",
         "x": [
          0,
          1.0800041788778065
         ],
         "y": [
          10,
          10
         ]
        },
        {
         "line": {
          "color": "black"
         },
         "type": "scatter",
         "x": [
          2.729198572887062,
          3.9299509194942184
         ],
         "y": [
          10,
          10
         ]
        },
        {
         "line": {
          "color": "black"
         },
         "type": "scatter",
         "x": [
          8.788155239851239,
          9.788163601021456
         ],
         "y": [
          10,
          10
         ]
        },
        {
         "line": {
          "color": "black"
         },
         "type": "scatter",
         "x": [
          14.346243856806035,
          15
         ],
         "y": [
          10,
          10
         ]
        },
        {
         "line": {
          "color": "black"
         },
         "type": "scatter",
         "x": [
          3.268576510510837,
          4.196122473806947
         ],
         "y": [
          9,
          9
         ]
        },
        {
         "line": {
          "color": "black"
         },
         "type": "scatter",
         "x": [
          6.943111525914143,
          8.219670710911243
         ],
         "y": [
          9,
          9
         ]
        },
        {
         "line": {
          "color": "black"
         },
         "type": "scatter",
         "x": [
          11.36208740490187,
          12.815829631846736
         ],
         "y": [
          9,
          9
         ]
        },
        {
         "line": {
          "color": "black"
         },
         "type": "scatter",
         "x": [
          0,
          0.5820949222750248
         ],
         "y": [
          8,
          8
         ]
        },
        {
         "line": {
          "color": "black"
         },
         "type": "scatter",
         "x": [
          3.0474645289751066,
          4.398315032979609
         ],
         "y": [
          8,
          8
         ]
        },
        {
         "line": {
          "color": "black"
         },
         "type": "scatter",
         "x": [
          7.023415205171412,
          7.550617571066262
         ],
         "y": [
          8,
          8
         ]
        },
        {
         "line": {
          "color": "black"
         },
         "type": "scatter",
         "x": [
          9.539326527055675,
          10.10647089779263
         ],
         "y": [
          8,
          8
         ]
        },
        {
         "line": {
          "color": "black"
         },
         "type": "scatter",
         "x": [
          4.882321253508694,
          6.1825796046412815
         ],
         "y": [
          7,
          7
         ]
        },
        {
         "line": {
          "color": "black"
         },
         "type": "scatter",
         "x": [
          9.589848090263152,
          10.854807950714832
         ],
         "y": [
          7,
          7
         ]
        },
        {
         "line": {
          "color": "black"
         },
         "type": "scatter",
         "x": [
          12.531709737051544,
          13.324732968870984
         ],
         "y": [
          7,
          7
         ]
        },
        {
         "line": {
          "color": "black"
         },
         "type": "scatter",
         "x": [
          0,
          0.8566242811227589
         ],
         "y": [
          6,
          6
         ]
        },
        {
         "line": {
          "color": "black"
         },
         "type": "scatter",
         "x": [
          2.039340142104359,
          3.5224935874615717
         ],
         "y": [
          6,
          6
         ]
        },
        {
         "line": {
          "color": "black"
         },
         "type": "scatter",
         "x": [
          6.287913264880959,
          7.291913704260111
         ],
         "y": [
          6,
          6
         ]
        },
        {
         "line": {
          "color": "black"
         },
         "type": "scatter",
         "x": [
          9.586078974398905,
          10.345823727146042
         ],
         "y": [
          6,
          6
         ]
        },
        {
         "line": {
          "color": "black"
         },
         "type": "scatter",
         "x": [
          12.893383268429092,
          14.225400168063594
         ],
         "y": [
          6,
          6
         ]
        },
        {
         "line": {
          "color": "black"
         },
         "type": "scatter",
         "x": [
          2.51684226776655,
          3.0298596044611004
         ],
         "y": [
          5,
          5
         ]
        },
        {
         "line": {
          "color": "black"
         },
         "type": "scatter",
         "x": [
          7.219479360591475,
          7.988868158187776
         ],
         "y": [
          5,
          5
         ]
        },
        {
         "line": {
          "color": "black"
         },
         "type": "scatter",
         "x": [
          11.319607712303913,
          11.845158654153606
         ],
         "y": [
          5,
          5
         ]
        },
        {
         "line": {
          "color": "black"
         },
         "type": "scatter",
         "x": [
          0,
          0.8875234258732815
         ],
         "y": [
          4,
          4
         ]
        },
        {
         "line": {
          "color": "black"
         },
         "type": "scatter",
         "x": [
          3.875818620811332,
          4.790724458186019
         ],
         "y": [
          4,
          4
         ]
        },
        {
         "line": {
          "color": "black"
         },
         "type": "scatter",
         "x": [
          7.19421206339258,
          8.245189968717
         ],
         "y": [
          4,
          4
         ]
        },
        {
         "line": {
          "color": "black"
         },
         "type": "scatter",
         "x": [
          13.1368327282163,
          13.749608943454371
         ],
         "y": [
          4,
          4
         ]
        },
        {
         "line": {
          "color": "black"
         },
         "type": "scatter",
         "x": [
          1.1671908392612402,
          2.4055905978821404
         ],
         "y": [
          3,
          3
         ]
        },
        {
         "line": {
          "color": "black"
         },
         "type": "scatter",
         "x": [
          6.035640148518317,
          6.75027589491827
         ],
         "y": [
          3,
          3
         ]
        },
        {
         "line": {
          "color": "black"
         },
         "type": "scatter",
         "x": [
          9.41728965569962,
          10.561131589847815
         ],
         "y": [
          3,
          3
         ]
        },
        {
         "line": {
          "color": "black"
         },
         "type": "scatter",
         "x": [
          14.207056896709581,
          14.877534030193353
         ],
         "y": [
          3,
          3
         ]
        },
        {
         "line": {
          "color": "black"
         },
         "type": "scatter",
         "x": [
          0,
          1.2780081598084683
         ],
         "y": [
          2,
          2
         ]
        },
        {
         "line": {
          "color": "black"
         },
         "type": "scatter",
         "x": [
          2.813824992495232,
          4.182741618927311
         ],
         "y": [
          2,
          2
         ]
        },
        {
         "line": {
          "color": "black"
         },
         "type": "scatter",
         "x": [
          8.177853132034729,
          9.476438786133809
         ],
         "y": [
          2,
          2
         ]
        },
        {
         "line": {
          "color": "black"
         },
         "type": "scatter",
         "x": [
          12.649819708469419,
          13.370657623530882
         ],
         "y": [
          2,
          2
         ]
        },
        {
         "line": {
          "color": "black"
         },
         "type": "scatter",
         "x": [
          3.776253732999129,
          3.776253732999129
         ],
         "y": [
          1,
          1
         ]
        },
        {
         "line": {
          "color": "black"
         },
         "type": "scatter",
         "x": [
          6.814967461364569,
          6.814967461364569
         ],
         "y": [
          1,
          1
         ]
        },
        {
         "line": {
          "color": "black"
         },
         "type": "scatter",
         "x": [
          9.606303049204628,
          9.606303049204628
         ],
         "y": [
          1,
          1
         ]
        },
        {
         "line": {
          "color": "black"
         },
         "type": "scatter",
         "x": [
          14.348049480700023,
          14.348049480700023
         ],
         "y": [
          1,
          1
         ]
        }
       ],
       "layout": {
        "height": 800,
        "showlegend": false,
        "template": {
         "data": {
          "bar": [
           {
            "error_x": {
             "color": "#2a3f5f"
            },
            "error_y": {
             "color": "#2a3f5f"
            },
            "marker": {
             "line": {
              "color": "#E5ECF6",
              "width": 0.5
             },
             "pattern": {
              "fillmode": "overlay",
              "size": 10,
              "solidity": 0.2
             }
            },
            "type": "bar"
           }
          ],
          "barpolar": [
           {
            "marker": {
             "line": {
              "color": "#E5ECF6",
              "width": 0.5
             },
             "pattern": {
              "fillmode": "overlay",
              "size": 10,
              "solidity": 0.2
             }
            },
            "type": "barpolar"
           }
          ],
          "carpet": [
           {
            "aaxis": {
             "endlinecolor": "#2a3f5f",
             "gridcolor": "white",
             "linecolor": "white",
             "minorgridcolor": "white",
             "startlinecolor": "#2a3f5f"
            },
            "baxis": {
             "endlinecolor": "#2a3f5f",
             "gridcolor": "white",
             "linecolor": "white",
             "minorgridcolor": "white",
             "startlinecolor": "#2a3f5f"
            },
            "type": "carpet"
           }
          ],
          "choropleth": [
           {
            "colorbar": {
             "outlinewidth": 0,
             "ticks": ""
            },
            "type": "choropleth"
           }
          ],
          "contour": [
           {
            "colorbar": {
             "outlinewidth": 0,
             "ticks": ""
            },
            "colorscale": [
             [
              0,
              "#0d0887"
             ],
             [
              0.1111111111111111,
              "#46039f"
             ],
             [
              0.2222222222222222,
              "#7201a8"
             ],
             [
              0.3333333333333333,
              "#9c179e"
             ],
             [
              0.4444444444444444,
              "#bd3786"
             ],
             [
              0.5555555555555556,
              "#d8576b"
             ],
             [
              0.6666666666666666,
              "#ed7953"
             ],
             [
              0.7777777777777778,
              "#fb9f3a"
             ],
             [
              0.8888888888888888,
              "#fdca26"
             ],
             [
              1,
              "#f0f921"
             ]
            ],
            "type": "contour"
           }
          ],
          "contourcarpet": [
           {
            "colorbar": {
             "outlinewidth": 0,
             "ticks": ""
            },
            "type": "contourcarpet"
           }
          ],
          "heatmap": [
           {
            "colorbar": {
             "outlinewidth": 0,
             "ticks": ""
            },
            "colorscale": [
             [
              0,
              "#0d0887"
             ],
             [
              0.1111111111111111,
              "#46039f"
             ],
             [
              0.2222222222222222,
              "#7201a8"
             ],
             [
              0.3333333333333333,
              "#9c179e"
             ],
             [
              0.4444444444444444,
              "#bd3786"
             ],
             [
              0.5555555555555556,
              "#d8576b"
             ],
             [
              0.6666666666666666,
              "#ed7953"
             ],
             [
              0.7777777777777778,
              "#fb9f3a"
             ],
             [
              0.8888888888888888,
              "#fdca26"
             ],
             [
              1,
              "#f0f921"
             ]
            ],
            "type": "heatmap"
           }
          ],
          "heatmapgl": [
           {
            "colorbar": {
             "outlinewidth": 0,
             "ticks": ""
            },
            "colorscale": [
             [
              0,
              "#0d0887"
             ],
             [
              0.1111111111111111,
              "#46039f"
             ],
             [
              0.2222222222222222,
              "#7201a8"
             ],
             [
              0.3333333333333333,
              "#9c179e"
             ],
             [
              0.4444444444444444,
              "#bd3786"
             ],
             [
              0.5555555555555556,
              "#d8576b"
             ],
             [
              0.6666666666666666,
              "#ed7953"
             ],
             [
              0.7777777777777778,
              "#fb9f3a"
             ],
             [
              0.8888888888888888,
              "#fdca26"
             ],
             [
              1,
              "#f0f921"
             ]
            ],
            "type": "heatmapgl"
           }
          ],
          "histogram": [
           {
            "marker": {
             "pattern": {
              "fillmode": "overlay",
              "size": 10,
              "solidity": 0.2
             }
            },
            "type": "histogram"
           }
          ],
          "histogram2d": [
           {
            "colorbar": {
             "outlinewidth": 0,
             "ticks": ""
            },
            "colorscale": [
             [
              0,
              "#0d0887"
             ],
             [
              0.1111111111111111,
              "#46039f"
             ],
             [
              0.2222222222222222,
              "#7201a8"
             ],
             [
              0.3333333333333333,
              "#9c179e"
             ],
             [
              0.4444444444444444,
              "#bd3786"
             ],
             [
              0.5555555555555556,
              "#d8576b"
             ],
             [
              0.6666666666666666,
              "#ed7953"
             ],
             [
              0.7777777777777778,
              "#fb9f3a"
             ],
             [
              0.8888888888888888,
              "#fdca26"
             ],
             [
              1,
              "#f0f921"
             ]
            ],
            "type": "histogram2d"
           }
          ],
          "histogram2dcontour": [
           {
            "colorbar": {
             "outlinewidth": 0,
             "ticks": ""
            },
            "colorscale": [
             [
              0,
              "#0d0887"
             ],
             [
              0.1111111111111111,
              "#46039f"
             ],
             [
              0.2222222222222222,
              "#7201a8"
             ],
             [
              0.3333333333333333,
              "#9c179e"
             ],
             [
              0.4444444444444444,
              "#bd3786"
             ],
             [
              0.5555555555555556,
              "#d8576b"
             ],
             [
              0.6666666666666666,
              "#ed7953"
             ],
             [
              0.7777777777777778,
              "#fb9f3a"
             ],
             [
              0.8888888888888888,
              "#fdca26"
             ],
             [
              1,
              "#f0f921"
             ]
            ],
            "type": "histogram2dcontour"
           }
          ],
          "mesh3d": [
           {
            "colorbar": {
             "outlinewidth": 0,
             "ticks": ""
            },
            "type": "mesh3d"
           }
          ],
          "parcoords": [
           {
            "line": {
             "colorbar": {
              "outlinewidth": 0,
              "ticks": ""
             }
            },
            "type": "parcoords"
           }
          ],
          "pie": [
           {
            "automargin": true,
            "type": "pie"
           }
          ],
          "scatter": [
           {
            "fillpattern": {
             "fillmode": "overlay",
             "size": 10,
             "solidity": 0.2
            },
            "type": "scatter"
           }
          ],
          "scatter3d": [
           {
            "line": {
             "colorbar": {
              "outlinewidth": 0,
              "ticks": ""
             }
            },
            "marker": {
             "colorbar": {
              "outlinewidth": 0,
              "ticks": ""
             }
            },
            "type": "scatter3d"
           }
          ],
          "scattercarpet": [
           {
            "marker": {
             "colorbar": {
              "outlinewidth": 0,
              "ticks": ""
             }
            },
            "type": "scattercarpet"
           }
          ],
          "scattergeo": [
           {
            "marker": {
             "colorbar": {
              "outlinewidth": 0,
              "ticks": ""
             }
            },
            "type": "scattergeo"
           }
          ],
          "scattergl": [
           {
            "marker": {
             "colorbar": {
              "outlinewidth": 0,
              "ticks": ""
             }
            },
            "type": "scattergl"
           }
          ],
          "scattermapbox": [
           {
            "marker": {
             "colorbar": {
              "outlinewidth": 0,
              "ticks": ""
             }
            },
            "type": "scattermapbox"
           }
          ],
          "scatterpolar": [
           {
            "marker": {
             "colorbar": {
              "outlinewidth": 0,
              "ticks": ""
             }
            },
            "type": "scatterpolar"
           }
          ],
          "scatterpolargl": [
           {
            "marker": {
             "colorbar": {
              "outlinewidth": 0,
              "ticks": ""
             }
            },
            "type": "scatterpolargl"
           }
          ],
          "scatterternary": [
           {
            "marker": {
             "colorbar": {
              "outlinewidth": 0,
              "ticks": ""
             }
            },
            "type": "scatterternary"
           }
          ],
          "surface": [
           {
            "colorbar": {
             "outlinewidth": 0,
             "ticks": ""
            },
            "colorscale": [
             [
              0,
              "#0d0887"
             ],
             [
              0.1111111111111111,
              "#46039f"
             ],
             [
              0.2222222222222222,
              "#7201a8"
             ],
             [
              0.3333333333333333,
              "#9c179e"
             ],
             [
              0.4444444444444444,
              "#bd3786"
             ],
             [
              0.5555555555555556,
              "#d8576b"
             ],
             [
              0.6666666666666666,
              "#ed7953"
             ],
             [
              0.7777777777777778,
              "#fb9f3a"
             ],
             [
              0.8888888888888888,
              "#fdca26"
             ],
             [
              1,
              "#f0f921"
             ]
            ],
            "type": "surface"
           }
          ],
          "table": [
           {
            "cells": {
             "fill": {
              "color": "#EBF0F8"
             },
             "line": {
              "color": "white"
             }
            },
            "header": {
             "fill": {
              "color": "#C8D4E3"
             },
             "line": {
              "color": "white"
             }
            },
            "type": "table"
           }
          ]
         },
         "layout": {
          "annotationdefaults": {
           "arrowcolor": "#2a3f5f",
           "arrowhead": 0,
           "arrowwidth": 1
          },
          "autotypenumbers": "strict",
          "coloraxis": {
           "colorbar": {
            "outlinewidth": 0,
            "ticks": ""
           }
          },
          "colorscale": {
           "diverging": [
            [
             0,
             "#8e0152"
            ],
            [
             0.1,
             "#c51b7d"
            ],
            [
             0.2,
             "#de77ae"
            ],
            [
             0.3,
             "#f1b6da"
            ],
            [
             0.4,
             "#fde0ef"
            ],
            [
             0.5,
             "#f7f7f7"
            ],
            [
             0.6,
             "#e6f5d0"
            ],
            [
             0.7,
             "#b8e186"
            ],
            [
             0.8,
             "#7fbc41"
            ],
            [
             0.9,
             "#4d9221"
            ],
            [
             1,
             "#276419"
            ]
           ],
           "sequential": [
            [
             0,
             "#0d0887"
            ],
            [
             0.1111111111111111,
             "#46039f"
            ],
            [
             0.2222222222222222,
             "#7201a8"
            ],
            [
             0.3333333333333333,
             "#9c179e"
            ],
            [
             0.4444444444444444,
             "#bd3786"
            ],
            [
             0.5555555555555556,
             "#d8576b"
            ],
            [
             0.6666666666666666,
             "#ed7953"
            ],
            [
             0.7777777777777778,
             "#fb9f3a"
            ],
            [
             0.8888888888888888,
             "#fdca26"
            ],
            [
             1,
             "#f0f921"
            ]
           ],
           "sequentialminus": [
            [
             0,
             "#0d0887"
            ],
            [
             0.1111111111111111,
             "#46039f"
            ],
            [
             0.2222222222222222,
             "#7201a8"
            ],
            [
             0.3333333333333333,
             "#9c179e"
            ],
            [
             0.4444444444444444,
             "#bd3786"
            ],
            [
             0.5555555555555556,
             "#d8576b"
            ],
            [
             0.6666666666666666,
             "#ed7953"
            ],
            [
             0.7777777777777778,
             "#fb9f3a"
            ],
            [
             0.8888888888888888,
             "#fdca26"
            ],
            [
             1,
             "#f0f921"
            ]
           ]
          },
          "colorway": [
           "#636efa",
           "#EF553B",
           "#00cc96",
           "#ab63fa",
           "#FFA15A",
           "#19d3f3",
           "#FF6692",
           "#B6E880",
           "#FF97FF",
           "#FECB52"
          ],
          "font": {
           "color": "#2a3f5f"
          },
          "geo": {
           "bgcolor": "white",
           "lakecolor": "white",
           "landcolor": "#E5ECF6",
           "showlakes": true,
           "showland": true,
           "subunitcolor": "white"
          },
          "hoverlabel": {
           "align": "left"
          },
          "hovermode": "closest",
          "mapbox": {
           "style": "light"
          },
          "paper_bgcolor": "white",
          "plot_bgcolor": "#E5ECF6",
          "polar": {
           "angularaxis": {
            "gridcolor": "white",
            "linecolor": "white",
            "ticks": ""
           },
           "bgcolor": "#E5ECF6",
           "radialaxis": {
            "gridcolor": "white",
            "linecolor": "white",
            "ticks": ""
           }
          },
          "scene": {
           "xaxis": {
            "backgroundcolor": "#E5ECF6",
            "gridcolor": "white",
            "gridwidth": 2,
            "linecolor": "white",
            "showbackground": true,
            "ticks": "",
            "zerolinecolor": "white"
           },
           "yaxis": {
            "backgroundcolor": "#E5ECF6",
            "gridcolor": "white",
            "gridwidth": 2,
            "linecolor": "white",
            "showbackground": true,
            "ticks": "",
            "zerolinecolor": "white"
           },
           "zaxis": {
            "backgroundcolor": "#E5ECF6",
            "gridcolor": "white",
            "gridwidth": 2,
            "linecolor": "white",
            "showbackground": true,
            "ticks": "",
            "zerolinecolor": "white"
           }
          },
          "shapedefaults": {
           "line": {
            "color": "#2a3f5f"
           }
          },
          "ternary": {
           "aaxis": {
            "gridcolor": "white",
            "linecolor": "white",
            "ticks": ""
           },
           "baxis": {
            "gridcolor": "white",
            "linecolor": "white",
            "ticks": ""
           },
           "bgcolor": "#E5ECF6",
           "caxis": {
            "gridcolor": "white",
            "linecolor": "white",
            "ticks": ""
           }
          },
          "title": {
           "x": 0.05
          },
          "xaxis": {
           "automargin": true,
           "gridcolor": "white",
           "linecolor": "white",
           "ticks": "",
           "title": {
            "standoff": 15
           },
           "zerolinecolor": "white",
           "zerolinewidth": 2
          },
          "yaxis": {
           "automargin": true,
           "gridcolor": "white",
           "linecolor": "white",
           "ticks": "",
           "title": {
            "standoff": 15
           },
           "zerolinecolor": "white",
           "zerolinewidth": 2
          }
         }
        },
        "title": {
         "text": "Graph view"
        },
        "width": 800,
        "yaxis": {
         "scaleanchor": "x"
        },
        "yaxis2": {
         "overlaying": "y",
         "scaleanchor": "x",
         "side": "right"
        }
       }
      }
     },
     "metadata": {},
     "output_type": "display_data"
    },
    {
     "name": "stdout",
     "output_type": "stream",
     "text": [
      "\u001b[34mpolynomial policy statistics\n",
      "\u001b[34mmax lower bound gap  43.37\n",
      "\u001b[34mmean lower bound gap  16.04\n",
      "\u001b[34m---------------------\n",
      "\u001b[34m1-step-lookahead statistics\n",
      "\u001b[34mmax lower bound gap  25.38\n",
      "\u001b[34mmean lower bound gap  5.62\n",
      "\u001b[34mmax upper bound gap  125.63\n",
      "\u001b[34mmean upper bound gap  60.7\n",
      "\u001b[34m---------------------\n",
      "\u001b[34m2-step-lookahead statistics\n",
      "\u001b[34mmax lower bound gap  16.06\n",
      "\u001b[34mmean lower bound gap  2.72\n",
      "\u001b[34mmax upper bound gap  114.94\n",
      "\u001b[34mmean upper bound gap  55.87\n",
      "\u001b[34m---------------------\n",
      "\u001b[34m1-step-lookahead statistics\n",
      "\u001b[34mmax lower bound gap  25.38\n",
      "\u001b[34mmean lower bound gap  5.62\n",
      "\u001b[34mmax upper bound gap  29.41\n",
      "\u001b[34mmean upper bound gap  2.89\n",
      "\u001b[34m---------------------\n",
      "\u001b[34m2-step-lookahead statistics\n",
      "\u001b[34mmax lower bound gap  16.06\n",
      "\u001b[34mmean lower bound gap  2.72\n",
      "\u001b[34mmax upper bound gap  8.51\n",
      "\u001b[34mmean upper bound gap  0.42\n",
      "\u001b[34m---------------------\n"
     ]
    },
    {
     "data": {
      "application/vnd.plotly.v1+json": {
       "config": {
        "plotlyServerURL": "https://plot.ly"
       },
       "data": [
        {
         "line": {
          "color": "chartreuse",
          "width": 5
         },
         "mode": "lines",
         "name": "ground truth",
         "type": "scatter",
         "x": [
          0,
          0.20270270270270271,
          0.40540540540540543,
          0.6081081081081081,
          0.8108108108108109,
          1.0135135135135136,
          1.2162162162162162,
          1.418918918918919,
          1.6216216216216217,
          1.8243243243243243,
          2.027027027027027,
          2.22972972972973,
          2.4324324324324325,
          2.635135135135135,
          2.837837837837838,
          3.040540540540541,
          3.2432432432432434,
          3.445945945945946,
          3.6486486486486487,
          3.8513513513513518,
          4.054054054054054,
          4.256756756756757,
          4.45945945945946,
          4.662162162162162,
          4.864864864864865,
          5.0675675675675675,
          5.27027027027027,
          5.472972972972974,
          5.675675675675676,
          5.878378378378379,
          6.081081081081082,
          6.283783783783784,
          6.486486486486487,
          6.6891891891891895,
          6.891891891891892,
          7.094594594594595,
          7.297297297297297,
          7.5,
          7.7027027027027035,
          7.905405405405406,
          8.108108108108109,
          8.31081081081081,
          8.513513513513514,
          8.716216216216218,
          8.91891891891892,
          9.121621621621623,
          9.324324324324325,
          9.527027027027028,
          9.72972972972973,
          9.932432432432433,
          10.135135135135135,
          10.337837837837839,
          10.54054054054054,
          10.743243243243244,
          10.945945945945947,
          11.14864864864865,
          11.351351351351353,
          11.554054054054054,
          11.756756756756758,
          11.95945945945946,
          12.162162162162163,
          12.364864864864865,
          12.567567567567568,
          12.77027027027027,
          12.972972972972974,
          13.175675675675677,
          13.378378378378379,
          13.581081081081082,
          13.783783783783784,
          13.986486486486488,
          14.18918918918919,
          14.391891891891893,
          14.594594594594595,
          14.797297297297298,
          15
         ],
         "y": [
          11.572730549285778,
          10.786905352104279,
          10.08327682312187,
          9.461720666424199,
          8.89920693727271,
          8.377780987823842,
          7.897440944927372,
          7.45819025381089,
          7.060021735498071,
          6.702958199171128,
          6.386972550567877,
          6.112074514768454,
          5.878267737708258,
          5.685546920638192,
          5.544233868972738,
          5.48334928870929,
          5.504644971815943,
          5.60811821065885,
          5.793762394906034,
          6.061594067056108,
          6.411595417517619,
          6.843776734850014,
          7.358127264093696,
          7.954665573836131,
          8.194760396519305,
          7.844316984679815,
          7.5504117450502966,
          7.273471297644303,
          7.0157031230507645,
          6.778487541175125,
          6.562949975483981,
          6.383934881691612,
          6.247260126403882,
          6.181098805310689,
          6.1971266318217735,
          6.2953264800286135,
          6.475699660188686,
          6.738254119309264,
          7.08298371624632,
          7.509886924047021,
          7.452610489885522,
          7.102777790665379,
          6.835129551949118,
          6.649664290414789,
          6.546370838863551,
          6.5252548485730495,
          6.5863134553142,
          6.712314337356029,
          6.879548252738149,
          7.087883999203984,
          7.337298405759769,
          7.627804645001913,
          7.9593896814132785,
          8.331165546831407,
          8.763976416956792,
          9.278948626199183,
          9.876098328669663,
          10.555448324417956,
          11.316966421013158,
          12.16064967809757,
          13.086518988297122,
          14.094548988476912,
          15.184779762729649,
          16.357178973035506,
          16.282525164742207,
          15.992613782130231,
          15.743777922437054,
          15.536048924972043,
          15.385749907997276,
          15.317392343750166,
          15.331203005791458,
          15.4272144034389,
          15.605384488154137,
          15.865732710977028,
          16.20826942837248
         ]
        },
        {
         "line": {
          "color": "blue",
          "width": 5
         },
         "mode": "lines",
         "name": "policy",
         "type": "scatter",
         "x": [
          0,
          0.20270270270270271,
          0.40540540540540543,
          0.6081081081081081,
          0.8108108108108109,
          1.0135135135135136,
          1.2162162162162162,
          1.418918918918919,
          1.6216216216216217,
          1.8243243243243243,
          2.027027027027027,
          2.22972972972973,
          2.4324324324324325,
          2.635135135135135,
          2.837837837837838,
          3.040540540540541,
          3.2432432432432434,
          3.445945945945946,
          3.6486486486486487,
          3.8513513513513518,
          4.054054054054054,
          4.256756756756757,
          4.45945945945946,
          4.662162162162162,
          4.864864864864865,
          5.0675675675675675,
          5.27027027027027,
          5.472972972972974,
          5.675675675675676,
          5.878378378378379,
          6.081081081081082,
          6.283783783783784,
          6.486486486486487,
          6.6891891891891895,
          6.891891891891892,
          7.094594594594595,
          7.297297297297297,
          7.5,
          7.7027027027027035,
          7.905405405405406,
          8.108108108108109,
          8.31081081081081,
          8.513513513513514,
          8.716216216216218,
          8.91891891891892,
          9.121621621621623,
          9.324324324324325,
          9.527027027027028,
          9.72972972972973,
          9.932432432432433,
          10.135135135135135,
          10.337837837837839,
          10.54054054054054,
          10.743243243243244,
          10.945945945945947,
          11.14864864864865,
          11.351351351351353,
          11.554054054054054,
          11.756756756756758,
          11.95945945945946,
          12.162162162162163,
          12.364864864864865,
          12.567567567567568,
          12.77027027027027,
          12.972972972972974,
          13.175675675675677,
          13.378378378378379,
          13.581081081081082,
          13.783783783783784,
          13.986486486486488,
          14.18918918918919,
          14.391891891891893,
          14.594594594594595,
          14.797297297297298,
          15
         ],
         "y": [
          8.569709639110593,
          8.283208135072021,
          8.007384020638938,
          7.7422372958113375,
          7.487767960589222,
          7.243976014972592,
          7.010861458961447,
          6.788424292555786,
          6.576664515755611,
          6.37558212856092,
          6.185177130971715,
          6.005449522987995,
          5.83639930460976,
          5.67802647583701,
          5.530331036669745,
          5.393312987107964,
          5.266972327151669,
          5.1513090568008595,
          5.046323176055534,
          4.952014684915693,
          4.8683835833813385,
          4.795429871452469,
          4.733153549129084,
          4.681554616411184,
          4.640633073298769,
          4.610388919791839,
          4.590822155890394,
          4.581932781594434,
          4.583720796903959,
          4.596186201818969,
          4.619328996339465,
          4.653149180465444,
          4.69764675419691,
          4.75282171753386,
          4.818674070476295,
          4.8952038130242155,
          4.982410945177621,
          5.080295466936511,
          5.188857378300886,
          5.308096679270747,
          5.438013369846093,
          5.578607450026922,
          5.729878919813238,
          5.891827779205039,
          6.0644540282023245,
          6.247757666805095,
          6.441738695013349,
          6.646397112827091,
          6.861732920246315,
          7.087746117271027,
          7.324436703901221,
          7.5718046801369026,
          7.829850045978066,
          8.09857280142472,
          8.377972946476854,
          8.668050481134474,
          8.96880540539758,
          9.280237719266172,
          9.602347422740246,
          9.935134515819808,
          10.278598998504853,
          10.632740870795384,
          10.997560132691397,
          11.373056784192901,
          11.759230825299886,
          12.156082256012358,
          12.563611076330314,
          12.981817286253754,
          13.41070088578268,
          13.850261874917091,
          14.300500253656987,
          14.761416022002367,
          15.233009179953234,
          15.715279727509586,
          16.20822766467142
         ]
        },
        {
         "line": {
          "color": "red",
          "width": 5
         },
         "mode": "lines",
         "name": "1-step-lookahead lb",
         "type": "scatter",
         "x": [
          0,
          0.20270270270270271,
          0.40540540540540543,
          0.6081081081081081,
          0.8108108108108109,
          1.0135135135135136,
          1.2162162162162162,
          1.418918918918919,
          1.6216216216216217,
          1.8243243243243243,
          2.027027027027027,
          2.22972972972973,
          2.4324324324324325,
          2.635135135135135,
          2.837837837837838,
          3.040540540540541,
          3.2432432432432434,
          3.445945945945946,
          3.6486486486486487,
          3.8513513513513518,
          4.054054054054054,
          4.256756756756757,
          4.45945945945946,
          4.662162162162162,
          4.864864864864865,
          5.0675675675675675,
          5.27027027027027,
          5.472972972972974,
          5.675675675675676,
          5.878378378378379,
          6.081081081081082,
          6.283783783783784,
          6.486486486486487,
          6.6891891891891895,
          6.891891891891892,
          7.094594594594595,
          7.297297297297297,
          7.5,
          7.7027027027027035,
          7.905405405405406,
          8.108108108108109,
          8.31081081081081,
          8.513513513513514,
          8.716216216216218,
          8.91891891891892,
          9.121621621621623,
          9.324324324324325,
          9.527027027027028,
          9.72972972972973,
          9.932432432432433,
          10.135135135135135,
          10.337837837837839,
          10.54054054054054,
          10.743243243243244,
          10.945945945945947,
          11.14864864864865,
          11.351351351351353,
          11.554054054054054,
          11.756756756756758,
          11.95945945945946,
          12.162162162162163,
          12.364864864864865,
          12.567567567567568,
          12.77027027027027,
          12.972972972972974,
          13.175675675675677,
          13.378378378378379,
          13.581081081081082,
          13.783783783783784,
          13.986486486486488,
          14.18918918918919,
          14.391891891891893,
          14.594594594594595,
          14.797297297297298,
          15
         ],
         "y": [
          11.170373914423184,
          10.384557595945347,
          9.680917717454076,
          9.059454670642808,
          8.520166901886757,
          8.061560128476078,
          7.649706474989053,
          7.270530626232077,
          6.924034047759159,
          6.610216584536913,
          6.329079412402128,
          6.080620954141434,
          5.864843417980844,
          5.681742837177124,
          5.541737707500644,
          5.480856887996382,
          5.502155601467652,
          5.605627590334775,
          5.791275246738699,
          6.059102754856042,
          6.409104990965046,
          6.841282949770728,
          7.200481393741073,
          6.685678237147165,
          6.2530529091546185,
          5.9026074163629,
          5.634335670288708,
          5.448242555936238,
          5.344326652735979,
          5.294150779472695,
          5.25889310507027,
          5.238331265529898,
          5.232448495090781,
          5.241258202600463,
          5.269873827288262,
          5.3680707977637905,
          5.548451930386132,
          5.810999311551754,
          6.15572637501071,
          6.582632086960719,
          7.091715222752299,
          7.034710641525118,
          6.767064805765022,
          6.581592677480509,
          6.478307564749663,
          6.45718218592602,
          6.518241549491192,
          6.661478488523594,
          6.8654907529416285,
          7.087770667628811,
          7.327147720547758,
          7.583636538000251,
          7.862984783592631,
          8.213619717906736,
          8.6464201545305,
          9.161403496537323,
          9.758560776401398,
          10.43789951324255,
          11.199408619546212,
          12.043098124021071,
          12.968964510790464,
          13.977007253563354,
          15.055201122131743,
          14.817969857789787,
          14.662912635289238,
          14.590033897170974,
          14.599332707459912,
          14.690807508438064,
          14.853753538879547,
          15.03142641428728,
          15.215512287203962,
          15.406014176231427,
          15.605348283872614,
          15.865699542771818,
          16.208228361336786
         ]
        },
        {
         "line": {
          "color": "red",
          "width": 5
         },
         "mode": "lines",
         "name": "1-step-lookahead ub",
         "type": "scatter",
         "x": [
          0,
          0.20270270270270271,
          0.40540540540540543,
          0.6081081081081081,
          0.8108108108108109,
          1.0135135135135136,
          1.2162162162162162,
          1.418918918918919,
          1.6216216216216217,
          1.8243243243243243,
          2.027027027027027,
          2.22972972972973,
          2.4324324324324325,
          2.635135135135135,
          2.837837837837838,
          3.040540540540541,
          3.2432432432432434,
          3.445945945945946,
          3.6486486486486487,
          3.8513513513513518,
          4.054054054054054,
          4.256756756756757,
          4.45945945945946,
          4.662162162162162,
          4.864864864864865,
          5.0675675675675675,
          5.27027027027027,
          5.472972972972974,
          5.675675675675676,
          5.878378378378379,
          6.081081081081082,
          6.283783783783784,
          6.486486486486487,
          6.6891891891891895,
          6.891891891891892,
          7.094594594594595,
          7.297297297297297,
          7.5,
          7.7027027027027035,
          7.905405405405406,
          8.108108108108109,
          8.31081081081081,
          8.513513513513514,
          8.716216216216218,
          8.91891891891892,
          9.121621621621623,
          9.324324324324325,
          9.527027027027028,
          9.72972972972973,
          9.932432432432433,
          10.135135135135135,
          10.337837837837839,
          10.54054054054054,
          10.743243243243244,
          10.945945945945947,
          11.14864864864865,
          11.351351351351353,
          11.554054054054054,
          11.756756756756758,
          11.95945945945946,
          12.162162162162163,
          12.364864864864865,
          12.567567567567568,
          12.77027027027027,
          12.972972972972974,
          13.175675675675677,
          13.378378378378379,
          13.581081081081082,
          13.783783783783784,
          13.986486486486488,
          14.18918918918919,
          14.391891891891893,
          14.594594594594595,
          14.797297297297298,
          15
         ],
         "y": [
          20.157752979270505,
          18.786191906408686,
          17.496807604912824,
          16.289600074782925,
          15.16456931601898,
          14.516833958771414,
          14.589348808523926,
          14.744040429642398,
          10.278105520361281,
          10.149702740706987,
          10.10347673241865,
          9.590303602918294,
          9.122687015082036,
          8.737247198611742,
          8.433984153507406,
          8.21289787976903,
          8.19560756687788,
          8.299080115768009,
          8.484729436024098,
          8.752555527646148,
          9.102558390634158,
          9.534738024988128,
          10.04909443070806,
          13.44797064263517,
          13.015346981435764,
          12.664900091602316,
          12.39662997313483,
          12.210536626033305,
          12.106620050297739,
          12.063752169992258,
          12.04564249278753,
          12.176497061884335,
          12.389528402347098,
          10.325542994251988,
          10.28038223362299,
          10.378580975521789,
          10.558956488786547,
          10.821508773417268,
          11.166237829413948,
          11.59314365677659,
          10.842829534986453,
          10.493005411561219,
          10.225358059501945,
          10.03988747880863,
          9.93659366948128,
          10.033649619124553,
          10.580959690733575,
          11.210446533708563,
          14.281391875147627,
          14.1630954280596,
          14.267193881777533,
          14.453469106861428,
          14.721921103311281,
          15.072549871127098,
          15.505355410308876,
          16.02033772085661,
          16.61749680277031,
          23.816486419649983,
          23.16837045021344,
          22.602431252142864,
          22.118668825438245,
          21.71708317009959,
          21.39767428612689,
          21.160442173520156,
          21.005386832279378,
          20.932508262404564,
          20.630969948974812,
          20.21549371415092,
          19.882194250692994,
          19.631071558601025,
          19.584247858258866,
          19.68024558941447,
          19.85842009193603,
          20.11877136582355,
          20.461299411077032
         ]
        },
        {
         "line": {
          "color": "orange",
          "width": 5
         },
         "mode": "lines",
         "name": "2-step-lookahead lb",
         "type": "scatter",
         "x": [
          0,
          0.20270270270270271,
          0.40540540540540543,
          0.6081081081081081,
          0.8108108108108109,
          1.0135135135135136,
          1.2162162162162162,
          1.418918918918919,
          1.6216216216216217,
          1.8243243243243243,
          2.027027027027027,
          2.22972972972973,
          2.4324324324324325,
          2.635135135135135,
          2.837837837837838,
          3.040540540540541,
          3.2432432432432434,
          3.445945945945946,
          3.6486486486486487,
          3.8513513513513518,
          4.054054054054054,
          4.256756756756757,
          4.45945945945946,
          4.662162162162162,
          4.864864864864865,
          5.0675675675675675,
          5.27027027027027,
          5.472972972972974,
          5.675675675675676,
          5.878378378378379,
          6.081081081081082,
          6.283783783783784,
          6.486486486486487,
          6.6891891891891895,
          6.891891891891892,
          7.094594594594595,
          7.297297297297297,
          7.5,
          7.7027027027027035,
          7.905405405405406,
          8.108108108108109,
          8.31081081081081,
          8.513513513513514,
          8.716216216216218,
          8.91891891891892,
          9.121621621621623,
          9.324324324324325,
          9.527027027027028,
          9.72972972972973,
          9.932432432432433,
          10.135135135135135,
          10.337837837837839,
          10.54054054054054,
          10.743243243243244,
          10.945945945945947,
          11.14864864864865,
          11.351351351351353,
          11.554054054054054,
          11.756756756756758,
          11.95945945945946,
          12.162162162162163,
          12.364864864864865,
          12.567567567567568,
          12.77027027027027,
          12.972972972972974,
          13.175675675675677,
          13.378378378378379,
          13.581081081081082,
          13.783783783783784,
          13.986486486486488,
          14.18918918918919,
          14.391891891891893,
          14.594594594594595,
          14.797297297297298,
          15
         ],
         "y": [
          11.570236615403243,
          10.784419683075857,
          10.080779552418747,
          9.45922842281456,
          8.896704658380113,
          8.375286347673095,
          7.894947403893036,
          7.455698261984938,
          7.057535815007379,
          6.700462340887597,
          6.384476744607671,
          6.1095800527571065,
          5.8757721937467,
          5.683052502152034,
          5.541737725050353,
          5.48085698051645,
          5.50215281417719,
          5.60562515008433,
          5.7912745424378125,
          6.059101772756675,
          6.409103445418593,
          6.841283216542399,
          7.355639840697486,
          7.38933290471331,
          6.9567116267312565,
          6.6062646040332655,
          6.337993887483293,
          6.151899051378448,
          6.023345077237584,
          5.904711534012073,
          5.794804817836394,
          5.693622599940729,
          5.601164227619742,
          5.537505789374735,
          5.553532604850295,
          5.651725840177104,
          5.832101476649827,
          6.094653621617485,
          6.439387985802618,
          6.866293002035461,
          7.375371331106462,
          7.10274663018019,
          6.835098789712134,
          6.649628534063402,
          6.546334391111221,
          6.52521794593619,
          6.586279264832454,
          6.712281714735221,
          6.879522365390376,
          7.08784723058165,
          7.337262647081064,
          7.627516388426255,
          7.939208749578986,
          8.29015466752665,
          8.722959453952804,
          9.237941342796507,
          9.835101797386217,
          10.514436806740882,
          11.275948848865227,
          12.119638134178771,
          13.045505533923361,
          14.053551878127248,
          15.143768549599475,
          16.31616697829556,
          16.28248474737351,
          15.992569784740464,
          15.743743536284656,
          15.536005295509202,
          15.385710843449326,
          15.317355271270065,
          15.33117622848725,
          15.427174330942622,
          15.605348275360068,
          15.865699449148137,
          16.20822822456521
         ]
        },
        {
         "line": {
          "color": "orange",
          "width": 5
         },
         "mode": "lines",
         "name": "2-step-lookahead ub",
         "type": "scatter",
         "x": [
          0,
          0.20270270270270271,
          0.40540540540540543,
          0.6081081081081081,
          0.8108108108108109,
          1.0135135135135136,
          1.2162162162162162,
          1.418918918918919,
          1.6216216216216217,
          1.8243243243243243,
          2.027027027027027,
          2.22972972972973,
          2.4324324324324325,
          2.635135135135135,
          2.837837837837838,
          3.040540540540541,
          3.2432432432432434,
          3.445945945945946,
          3.6486486486486487,
          3.8513513513513518,
          4.054054054054054,
          4.256756756756757,
          4.45945945945946,
          4.662162162162162,
          4.864864864864865,
          5.0675675675675675,
          5.27027027027027,
          5.472972972972974,
          5.675675675675676,
          5.878378378378379,
          6.081081081081082,
          6.283783783783784,
          6.486486486486487,
          6.6891891891891895,
          6.891891891891892,
          7.094594594594595,
          7.297297297297297,
          7.5,
          7.7027027027027035,
          7.905405405405406,
          8.108108108108109,
          8.31081081081081,
          8.513513513513514,
          8.716216216216218,
          8.91891891891892,
          9.121621621621623,
          9.324324324324325,
          9.527027027027028,
          9.72972972972973,
          9.932432432432433,
          10.135135135135135,
          10.337837837837839,
          10.54054054054054,
          10.743243243243244,
          10.945945945945947,
          11.14864864864865,
          11.351351351351353,
          11.554054054054054,
          11.756756756756758,
          11.95945945945946,
          12.162162162162163,
          12.364864864864865,
          12.567567567567568,
          12.77027027027027,
          12.972972972972974,
          13.175675675675677,
          13.378378378378379,
          13.581081081081082,
          13.783783783783784,
          13.986486486486488,
          14.18918918918919,
          14.391891891891893,
          14.594594594594595,
          14.797297297297298,
          15
         ],
         "y": [
          13.915267266326222,
          13.129450279180364,
          12.425810245549561,
          11.804258977739643,
          11.241743609663837,
          10.720316686786138,
          10.239979003001036,
          9.800727911606305,
          9.402566185788585,
          9.045492484446477,
          8.729507421765831,
          8.454610755206545,
          8.22080252309773,
          8.02808252568676,
          7.886768473152471,
          7.825887478936559,
          7.847183260535659,
          7.950655814806913,
          8.136305130542757,
          8.404131215358296,
          8.754134095479255,
          9.186313726069105,
          14.072200906760333,
          13.557400460029598,
          13.124776803499653,
          12.774329916036145,
          12.506059901329023,
          12.319966467255787,
          12.213846998775074,
          12.158110298569964,
          12.143938847891745,
          12.14178657403826,
          11.967933271687333,
          10.873099087421881,
          10.86015746452901,
          10.95835600590465,
          11.13873154191433,
          11.401284007136836,
          11.746012869266956,
          12.1729186769267,
          11.905753061392932,
          11.55592895007241,
          11.288281585058966,
          11.102810999237358,
          10.999517189593112,
          11.004418601210851,
          11.174081124084616,
          11.428642044853678,
          14.786591270409424,
          14.778396297471481,
          14.882494854214624,
          15.068770202336818,
          15.337222203541776,
          15.687850967675187,
          16.12065658609057,
          16.635638821855416,
          17.232797890994135,
          17.912133757141035,
          23.038811044939994,
          22.472871986828395,
          21.976539888170066,
          21.522271416783852,
          21.109091340873185,
          20.73699965384538,
          20.405996364896662,
          20.11608166062886,
          19.867255032203637,
          19.659516949862958,
          19.50922281961368,
          19.440867003848123,
          19.4546879496373,
          19.55068570119494,
          19.728860152318553,
          19.989211477285743,
          20.331739439427796
         ]
        },
        {
         "line": {
          "color": "purple",
          "width": 5
         },
         "mode": "lines",
         "name": "1-step-lookahead lb",
         "type": "scatter",
         "x": [
          0,
          0.20270270270270271,
          0.40540540540540543,
          0.6081081081081081,
          0.8108108108108109,
          1.0135135135135136,
          1.2162162162162162,
          1.418918918918919,
          1.6216216216216217,
          1.8243243243243243,
          2.027027027027027,
          2.22972972972973,
          2.4324324324324325,
          2.635135135135135,
          2.837837837837838,
          3.040540540540541,
          3.2432432432432434,
          3.445945945945946,
          3.6486486486486487,
          3.8513513513513518,
          4.054054054054054,
          4.256756756756757,
          4.45945945945946,
          4.662162162162162,
          4.864864864864865,
          5.0675675675675675,
          5.27027027027027,
          5.472972972972974,
          5.675675675675676,
          5.878378378378379,
          6.081081081081082,
          6.283783783783784,
          6.486486486486487,
          6.6891891891891895,
          6.891891891891892,
          7.094594594594595,
          7.297297297297297,
          7.5,
          7.7027027027027035,
          7.905405405405406,
          8.108108108108109,
          8.31081081081081,
          8.513513513513514,
          8.716216216216218,
          8.91891891891892,
          9.121621621621623,
          9.324324324324325,
          9.527027027027028,
          9.72972972972973,
          9.932432432432433,
          10.135135135135135,
          10.337837837837839,
          10.54054054054054,
          10.743243243243244,
          10.945945945945947,
          11.14864864864865,
          11.351351351351353,
          11.554054054054054,
          11.756756756756758,
          11.95945945945946,
          12.162162162162163,
          12.364864864864865,
          12.567567567567568,
          12.77027027027027,
          12.972972972972974,
          13.175675675675677,
          13.378378378378379,
          13.581081081081082,
          13.783783783783784,
          13.986486486486488,
          14.18918918918919,
          14.391891891891893,
          14.594594594594595,
          14.797297297297298,
          15
         ],
         "y": [
          11.170373914423184,
          10.384557595945347,
          9.680917717454076,
          9.059454670642808,
          8.520166901886757,
          8.061560128476078,
          7.649706474989053,
          7.270530626232077,
          6.924034047759159,
          6.610216584536913,
          6.329079412402128,
          6.080620954141434,
          5.864843417980844,
          5.681742837177124,
          5.541737707500644,
          5.480856887996382,
          5.502155601467652,
          5.605627590334775,
          5.791275246738699,
          6.059102754856042,
          6.409104990965046,
          6.841282949770728,
          7.200481393741073,
          6.685678237147165,
          6.2530529091546185,
          5.9026074163629,
          5.634335670288708,
          5.448242555936238,
          5.344326652735979,
          5.294150779472695,
          5.25889310507027,
          5.238331265529898,
          5.232448495090781,
          5.241258202600463,
          5.269873827288262,
          5.3680707977637905,
          5.548451930386132,
          5.810999311551754,
          6.15572637501071,
          6.582632086960719,
          7.091715222752299,
          7.034710641525118,
          6.767064805765022,
          6.581592677480509,
          6.478307564749663,
          6.45718218592602,
          6.518241549491192,
          6.661478488523594,
          6.8654907529416285,
          7.087770667628811,
          7.327147720547758,
          7.583636538000251,
          7.862984783592631,
          8.213619717906736,
          8.6464201545305,
          9.161403496537323,
          9.758560776401398,
          10.43789951324255,
          11.199408619546212,
          12.043098124021071,
          12.968964510790464,
          13.977007253563354,
          15.055201122131743,
          14.817969857789787,
          14.662912635289238,
          14.590033897170974,
          14.599332707459912,
          14.690807508438064,
          14.853753538879547,
          15.03142641428728,
          15.215512287203962,
          15.406014176231427,
          15.605348283872614,
          15.865699542771818,
          16.208228361336786
         ]
        },
        {
         "line": {
          "color": "purple",
          "width": 5
         },
         "mode": "lines",
         "name": "1-step-lookahead ub",
         "type": "scatter",
         "x": [
          0,
          0.20270270270270271,
          0.40540540540540543,
          0.6081081081081081,
          0.8108108108108109,
          1.0135135135135136,
          1.2162162162162162,
          1.418918918918919,
          1.6216216216216217,
          1.8243243243243243,
          2.027027027027027,
          2.22972972972973,
          2.4324324324324325,
          2.635135135135135,
          2.837837837837838,
          3.040540540540541,
          3.2432432432432434,
          3.445945945945946,
          3.6486486486486487,
          3.8513513513513518,
          4.054054054054054,
          4.256756756756757,
          4.45945945945946,
          4.662162162162162,
          4.864864864864865,
          5.0675675675675675,
          5.27027027027027,
          5.472972972972974,
          5.675675675675676,
          5.878378378378379,
          6.081081081081082,
          6.283783783783784,
          6.486486486486487,
          6.6891891891891895,
          6.891891891891892,
          7.094594594594595,
          7.297297297297297,
          7.5,
          7.7027027027027035,
          7.905405405405406,
          8.108108108108109,
          8.31081081081081,
          8.513513513513514,
          8.716216216216218,
          8.91891891891892,
          9.121621621621623,
          9.324324324324325,
          9.527027027027028,
          9.72972972972973,
          9.932432432432433,
          10.135135135135135,
          10.337837837837839,
          10.54054054054054,
          10.743243243243244,
          10.945945945945947,
          11.14864864864865,
          11.351351351351353,
          11.554054054054054,
          11.756756756756758,
          11.95945945945946,
          12.162162162162163,
          12.364864864864865,
          12.567567567567568,
          12.77027027027027,
          12.972972972972974,
          13.175675675675677,
          13.378378378378379,
          13.581081081081082,
          13.783783783783784,
          13.986486486486488,
          14.18918918918919,
          14.391891891891893,
          14.594594594594595,
          14.797297297297298,
          15
         ],
         "y": [
          11.579064935789157,
          10.793247988439097,
          10.089274570312876,
          9.468106668094517,
          8.928857715762447,
          8.448587665559316,
          7.953923050298424,
          7.502406707687006,
          7.094061039190218,
          6.727963828717602,
          6.404613591139715,
          6.124402366078661,
          5.886803032235841,
          5.692246623209936,
          5.550566177565568,
          5.489685180886727,
          5.510981066817682,
          5.61441578604118,
          5.800102859224511,
          6.067928928475632,
          6.417931823201271,
          6.85011140749097,
          9.522112227450965,
          9.00714300517572,
          8.574688347799363,
          8.224241760719964,
          7.955802336094192,
          7.7697089790536635,
          7.665748331186437,
          7.365222309544134,
          7.087297412186758,
          6.8556313933785935,
          6.668767785196322,
          6.5316268999049045,
          6.486183275839863,
          6.5843679173617895,
          6.764743850836579,
          7.0272960696462405,
          7.372025085220535,
          7.798930904688369,
          8.308171566704027,
          7.10278532950622,
          6.835136678156292,
          6.6496656831113565,
          6.546373750618931,
          6.525256396748795,
          6.586316387806641,
          6.7295524885708575,
          6.88773507676699,
          7.087950770145265,
          7.343224419416417,
          7.687547856455146,
          8.038163497081403,
          8.388532065374628,
          8.821339539461595,
          9.336321945341384,
          9.933480826306608,
          10.61281667852786,
          11.374329289253566,
          12.218277023690355,
          13.143984618844927,
          14.151927799585355,
          17.144640648888338,
          16.907408230645363,
          16.752352495348106,
          16.67947474820426,
          16.688772557596955,
          16.78024721487505,
          16.620926730685923,
          16.240279725621928,
          15.927496051341583,
          15.686306515809713,
          15.605386540110368,
          15.865737807345536,
          16.208265866133157
         ]
        },
        {
         "line": {
          "color": "magenta",
          "width": 5
         },
         "mode": "lines",
         "name": "2-step-lookahead lb",
         "type": "scatter",
         "x": [
          0,
          0.20270270270270271,
          0.40540540540540543,
          0.6081081081081081,
          0.8108108108108109,
          1.0135135135135136,
          1.2162162162162162,
          1.418918918918919,
          1.6216216216216217,
          1.8243243243243243,
          2.027027027027027,
          2.22972972972973,
          2.4324324324324325,
          2.635135135135135,
          2.837837837837838,
          3.040540540540541,
          3.2432432432432434,
          3.445945945945946,
          3.6486486486486487,
          3.8513513513513518,
          4.054054054054054,
          4.256756756756757,
          4.45945945945946,
          4.662162162162162,
          4.864864864864865,
          5.0675675675675675,
          5.27027027027027,
          5.472972972972974,
          5.675675675675676,
          5.878378378378379,
          6.081081081081082,
          6.283783783783784,
          6.486486486486487,
          6.6891891891891895,
          6.891891891891892,
          7.094594594594595,
          7.297297297297297,
          7.5,
          7.7027027027027035,
          7.905405405405406,
          8.108108108108109,
          8.31081081081081,
          8.513513513513514,
          8.716216216216218,
          8.91891891891892,
          9.121621621621623,
          9.324324324324325,
          9.527027027027028,
          9.72972972972973,
          9.932432432432433,
          10.135135135135135,
          10.337837837837839,
          10.54054054054054,
          10.743243243243244,
          10.945945945945947,
          11.14864864864865,
          11.351351351351353,
          11.554054054054054,
          11.756756756756758,
          11.95945945945946,
          12.162162162162163,
          12.364864864864865,
          12.567567567567568,
          12.77027027027027,
          12.972972972972974,
          13.175675675675677,
          13.378378378378379,
          13.581081081081082,
          13.783783783783784,
          13.986486486486488,
          14.18918918918919,
          14.391891891891893,
          14.594594594594595,
          14.797297297297298,
          15
         ],
         "y": [
          11.570236615403243,
          10.784419683075857,
          10.080779552418747,
          9.45922842281456,
          8.896704658380113,
          8.375286347673095,
          7.894947403893036,
          7.455698261984938,
          7.057535815007379,
          6.700462340887597,
          6.384476744607671,
          6.1095800527571065,
          5.8757721937467,
          5.683052502152034,
          5.541737725050353,
          5.48085698051645,
          5.50215281417719,
          5.60562515008433,
          5.7912745424378125,
          6.059101772756675,
          6.409103445418593,
          6.841283216542399,
          7.355639840697486,
          7.38933290471331,
          6.9567116267312565,
          6.6062646040332655,
          6.337993887483293,
          6.151899051378448,
          6.023345077237584,
          5.904711534012073,
          5.794804817836394,
          5.693622599940729,
          5.601164227619742,
          5.537505789374735,
          5.553532604850295,
          5.651725840177104,
          5.832101476649827,
          6.094653621617485,
          6.439387985802618,
          6.866293002035461,
          7.375371331106462,
          7.10274663018019,
          6.835098789712134,
          6.649628534063402,
          6.546334391111221,
          6.52521794593619,
          6.586279264832454,
          6.712281714735221,
          6.879522365390376,
          7.08784723058165,
          7.337262647081064,
          7.627516388426255,
          7.939208749578986,
          8.29015466752665,
          8.722959453952804,
          9.237941342796507,
          9.835101797386217,
          10.514436806740882,
          11.275948848865227,
          12.119638134178771,
          13.045505533923361,
          14.053551878127248,
          15.143768549599475,
          16.31616697829556,
          16.28248474737351,
          15.992569784740464,
          15.743743536284656,
          15.536005295509202,
          15.385710843449326,
          15.317355271270065,
          15.33117622848725,
          15.427174330942622,
          15.605348275360068,
          15.865699449148137,
          16.20822822456521
         ]
        },
        {
         "line": {
          "color": "magenta",
          "width": 5
         },
         "mode": "lines",
         "name": "2-step-lookahead ub",
         "type": "scatter",
         "x": [
          0,
          0.20270270270270271,
          0.40540540540540543,
          0.6081081081081081,
          0.8108108108108109,
          1.0135135135135136,
          1.2162162162162162,
          1.418918918918919,
          1.6216216216216217,
          1.8243243243243243,
          2.027027027027027,
          2.22972972972973,
          2.4324324324324325,
          2.635135135135135,
          2.837837837837838,
          3.040540540540541,
          3.2432432432432434,
          3.445945945945946,
          3.6486486486486487,
          3.8513513513513518,
          4.054054054054054,
          4.256756756756757,
          4.45945945945946,
          4.662162162162162,
          4.864864864864865,
          5.0675675675675675,
          5.27027027027027,
          5.472972972972974,
          5.675675675675676,
          5.878378378378379,
          6.081081081081082,
          6.283783783783784,
          6.486486486486487,
          6.6891891891891895,
          6.891891891891892,
          7.094594594594595,
          7.297297297297297,
          7.5,
          7.7027027027027035,
          7.905405405405406,
          8.108108108108109,
          8.31081081081081,
          8.513513513513514,
          8.716216216216218,
          8.91891891891892,
          9.121621621621623,
          9.324324324324325,
          9.527027027027028,
          9.72972972972973,
          9.932432432432433,
          10.135135135135135,
          10.337837837837839,
          10.54054054054054,
          10.743243243243244,
          10.945945945945947,
          11.14864864864865,
          11.351351351351353,
          11.554054054054054,
          11.756756756756758,
          11.95945945945946,
          12.162162162162163,
          12.364864864864865,
          12.567567567567568,
          12.77027027027027,
          12.972972972972974,
          13.175675675675677,
          13.378378378378379,
          13.581081081081082,
          13.783783783783784,
          13.986486486486488,
          14.18918918918919,
          14.391891891891893,
          14.594594594594595,
          14.797297297297298,
          15
         ],
         "y": [
          11.572874963941562,
          10.787053998938706,
          10.08343201635564,
          9.461880933774879,
          8.899365555324351,
          8.377930137426453,
          7.897591508092757,
          7.4583417314886375,
          7.06017023560396,
          6.7031146779971476,
          6.387129372297709,
          6.112215053364005,
          5.878415856479111,
          5.685704561188612,
          5.544390425768135,
          5.483509449629352,
          5.504796643029679,
          5.608259559473552,
          5.793918541201907,
          6.061738947414781,
          6.411756000268814,
          6.8439356567626115,
          7.358292094348386,
          8.631434007206712,
          8.198810369798423,
          7.8483634726800116,
          7.580093157407064,
          7.393999800438945,
          7.158953175740113,
          6.9220070295383564,
          6.692197382670403,
          6.4857943404382805,
          6.3035258177392,
          6.220660968320355,
          6.236683462485666,
          6.334881705030044,
          6.515257312420114,
          6.777809654715188,
          7.122538845637443,
          7.5494447001299365,
          8.058526959237717,
          7.102785532731371,
          6.835138255380733,
          6.649667642547767,
          6.5463738774232185,
          6.525256861714836,
          6.586318023473889,
          6.712321073445207,
          6.879560121916203,
          7.087886570794665,
          7.337301861586903,
          7.627997058440079,
          7.974718869326204,
          8.331169603941149,
          8.763974642288115,
          9.278956873633744,
          9.876117883488716,
          10.555453635595121,
          11.316964066572456,
          12.16065374265316,
          13.086519815845723,
          14.094566935912406,
          15.184782748168711,
          16.357179143794696,
          16.282527292206755,
          15.992612764263457,
          15.74378598064739,
          15.536042620034232,
          15.385748101087453,
          15.317392519873355,
          15.331218849727607,
          15.42721100519003,
          15.605385432798927,
          15.86573692333819,
          16.208269950462906
         ]
        }
       ],
       "layout": {
        "height": 1000,
        "template": {
         "data": {
          "bar": [
           {
            "error_x": {
             "color": "#2a3f5f"
            },
            "error_y": {
             "color": "#2a3f5f"
            },
            "marker": {
             "line": {
              "color": "#E5ECF6",
              "width": 0.5
             },
             "pattern": {
              "fillmode": "overlay",
              "size": 10,
              "solidity": 0.2
             }
            },
            "type": "bar"
           }
          ],
          "barpolar": [
           {
            "marker": {
             "line": {
              "color": "#E5ECF6",
              "width": 0.5
             },
             "pattern": {
              "fillmode": "overlay",
              "size": 10,
              "solidity": 0.2
             }
            },
            "type": "barpolar"
           }
          ],
          "carpet": [
           {
            "aaxis": {
             "endlinecolor": "#2a3f5f",
             "gridcolor": "white",
             "linecolor": "white",
             "minorgridcolor": "white",
             "startlinecolor": "#2a3f5f"
            },
            "baxis": {
             "endlinecolor": "#2a3f5f",
             "gridcolor": "white",
             "linecolor": "white",
             "minorgridcolor": "white",
             "startlinecolor": "#2a3f5f"
            },
            "type": "carpet"
           }
          ],
          "choropleth": [
           {
            "colorbar": {
             "outlinewidth": 0,
             "ticks": ""
            },
            "type": "choropleth"
           }
          ],
          "contour": [
           {
            "colorbar": {
             "outlinewidth": 0,
             "ticks": ""
            },
            "colorscale": [
             [
              0,
              "#0d0887"
             ],
             [
              0.1111111111111111,
              "#46039f"
             ],
             [
              0.2222222222222222,
              "#7201a8"
             ],
             [
              0.3333333333333333,
              "#9c179e"
             ],
             [
              0.4444444444444444,
              "#bd3786"
             ],
             [
              0.5555555555555556,
              "#d8576b"
             ],
             [
              0.6666666666666666,
              "#ed7953"
             ],
             [
              0.7777777777777778,
              "#fb9f3a"
             ],
             [
              0.8888888888888888,
              "#fdca26"
             ],
             [
              1,
              "#f0f921"
             ]
            ],
            "type": "contour"
           }
          ],
          "contourcarpet": [
           {
            "colorbar": {
             "outlinewidth": 0,
             "ticks": ""
            },
            "type": "contourcarpet"
           }
          ],
          "heatmap": [
           {
            "colorbar": {
             "outlinewidth": 0,
             "ticks": ""
            },
            "colorscale": [
             [
              0,
              "#0d0887"
             ],
             [
              0.1111111111111111,
              "#46039f"
             ],
             [
              0.2222222222222222,
              "#7201a8"
             ],
             [
              0.3333333333333333,
              "#9c179e"
             ],
             [
              0.4444444444444444,
              "#bd3786"
             ],
             [
              0.5555555555555556,
              "#d8576b"
             ],
             [
              0.6666666666666666,
              "#ed7953"
             ],
             [
              0.7777777777777778,
              "#fb9f3a"
             ],
             [
              0.8888888888888888,
              "#fdca26"
             ],
             [
              1,
              "#f0f921"
             ]
            ],
            "type": "heatmap"
           }
          ],
          "heatmapgl": [
           {
            "colorbar": {
             "outlinewidth": 0,
             "ticks": ""
            },
            "colorscale": [
             [
              0,
              "#0d0887"
             ],
             [
              0.1111111111111111,
              "#46039f"
             ],
             [
              0.2222222222222222,
              "#7201a8"
             ],
             [
              0.3333333333333333,
              "#9c179e"
             ],
             [
              0.4444444444444444,
              "#bd3786"
             ],
             [
              0.5555555555555556,
              "#d8576b"
             ],
             [
              0.6666666666666666,
              "#ed7953"
             ],
             [
              0.7777777777777778,
              "#fb9f3a"
             ],
             [
              0.8888888888888888,
              "#fdca26"
             ],
             [
              1,
              "#f0f921"
             ]
            ],
            "type": "heatmapgl"
           }
          ],
          "histogram": [
           {
            "marker": {
             "pattern": {
              "fillmode": "overlay",
              "size": 10,
              "solidity": 0.2
             }
            },
            "type": "histogram"
           }
          ],
          "histogram2d": [
           {
            "colorbar": {
             "outlinewidth": 0,
             "ticks": ""
            },
            "colorscale": [
             [
              0,
              "#0d0887"
             ],
             [
              0.1111111111111111,
              "#46039f"
             ],
             [
              0.2222222222222222,
              "#7201a8"
             ],
             [
              0.3333333333333333,
              "#9c179e"
             ],
             [
              0.4444444444444444,
              "#bd3786"
             ],
             [
              0.5555555555555556,
              "#d8576b"
             ],
             [
              0.6666666666666666,
              "#ed7953"
             ],
             [
              0.7777777777777778,
              "#fb9f3a"
             ],
             [
              0.8888888888888888,
              "#fdca26"
             ],
             [
              1,
              "#f0f921"
             ]
            ],
            "type": "histogram2d"
           }
          ],
          "histogram2dcontour": [
           {
            "colorbar": {
             "outlinewidth": 0,
             "ticks": ""
            },
            "colorscale": [
             [
              0,
              "#0d0887"
             ],
             [
              0.1111111111111111,
              "#46039f"
             ],
             [
              0.2222222222222222,
              "#7201a8"
             ],
             [
              0.3333333333333333,
              "#9c179e"
             ],
             [
              0.4444444444444444,
              "#bd3786"
             ],
             [
              0.5555555555555556,
              "#d8576b"
             ],
             [
              0.6666666666666666,
              "#ed7953"
             ],
             [
              0.7777777777777778,
              "#fb9f3a"
             ],
             [
              0.8888888888888888,
              "#fdca26"
             ],
             [
              1,
              "#f0f921"
             ]
            ],
            "type": "histogram2dcontour"
           }
          ],
          "mesh3d": [
           {
            "colorbar": {
             "outlinewidth": 0,
             "ticks": ""
            },
            "type": "mesh3d"
           }
          ],
          "parcoords": [
           {
            "line": {
             "colorbar": {
              "outlinewidth": 0,
              "ticks": ""
             }
            },
            "type": "parcoords"
           }
          ],
          "pie": [
           {
            "automargin": true,
            "type": "pie"
           }
          ],
          "scatter": [
           {
            "fillpattern": {
             "fillmode": "overlay",
             "size": 10,
             "solidity": 0.2
            },
            "type": "scatter"
           }
          ],
          "scatter3d": [
           {
            "line": {
             "colorbar": {
              "outlinewidth": 0,
              "ticks": ""
             }
            },
            "marker": {
             "colorbar": {
              "outlinewidth": 0,
              "ticks": ""
             }
            },
            "type": "scatter3d"
           }
          ],
          "scattercarpet": [
           {
            "marker": {
             "colorbar": {
              "outlinewidth": 0,
              "ticks": ""
             }
            },
            "type": "scattercarpet"
           }
          ],
          "scattergeo": [
           {
            "marker": {
             "colorbar": {
              "outlinewidth": 0,
              "ticks": ""
             }
            },
            "type": "scattergeo"
           }
          ],
          "scattergl": [
           {
            "marker": {
             "colorbar": {
              "outlinewidth": 0,
              "ticks": ""
             }
            },
            "type": "scattergl"
           }
          ],
          "scattermapbox": [
           {
            "marker": {
             "colorbar": {
              "outlinewidth": 0,
              "ticks": ""
             }
            },
            "type": "scattermapbox"
           }
          ],
          "scatterpolar": [
           {
            "marker": {
             "colorbar": {
              "outlinewidth": 0,
              "ticks": ""
             }
            },
            "type": "scatterpolar"
           }
          ],
          "scatterpolargl": [
           {
            "marker": {
             "colorbar": {
              "outlinewidth": 0,
              "ticks": ""
             }
            },
            "type": "scatterpolargl"
           }
          ],
          "scatterternary": [
           {
            "marker": {
             "colorbar": {
              "outlinewidth": 0,
              "ticks": ""
             }
            },
            "type": "scatterternary"
           }
          ],
          "surface": [
           {
            "colorbar": {
             "outlinewidth": 0,
             "ticks": ""
            },
            "colorscale": [
             [
              0,
              "#0d0887"
             ],
             [
              0.1111111111111111,
              "#46039f"
             ],
             [
              0.2222222222222222,
              "#7201a8"
             ],
             [
              0.3333333333333333,
              "#9c179e"
             ],
             [
              0.4444444444444444,
              "#bd3786"
             ],
             [
              0.5555555555555556,
              "#d8576b"
             ],
             [
              0.6666666666666666,
              "#ed7953"
             ],
             [
              0.7777777777777778,
              "#fb9f3a"
             ],
             [
              0.8888888888888888,
              "#fdca26"
             ],
             [
              1,
              "#f0f921"
             ]
            ],
            "type": "surface"
           }
          ],
          "table": [
           {
            "cells": {
             "fill": {
              "color": "#EBF0F8"
             },
             "line": {
              "color": "white"
             }
            },
            "header": {
             "fill": {
              "color": "#C8D4E3"
             },
             "line": {
              "color": "white"
             }
            },
            "type": "table"
           }
          ]
         },
         "layout": {
          "annotationdefaults": {
           "arrowcolor": "#2a3f5f",
           "arrowhead": 0,
           "arrowwidth": 1
          },
          "autotypenumbers": "strict",
          "coloraxis": {
           "colorbar": {
            "outlinewidth": 0,
            "ticks": ""
           }
          },
          "colorscale": {
           "diverging": [
            [
             0,
             "#8e0152"
            ],
            [
             0.1,
             "#c51b7d"
            ],
            [
             0.2,
             "#de77ae"
            ],
            [
             0.3,
             "#f1b6da"
            ],
            [
             0.4,
             "#fde0ef"
            ],
            [
             0.5,
             "#f7f7f7"
            ],
            [
             0.6,
             "#e6f5d0"
            ],
            [
             0.7,
             "#b8e186"
            ],
            [
             0.8,
             "#7fbc41"
            ],
            [
             0.9,
             "#4d9221"
            ],
            [
             1,
             "#276419"
            ]
           ],
           "sequential": [
            [
             0,
             "#0d0887"
            ],
            [
             0.1111111111111111,
             "#46039f"
            ],
            [
             0.2222222222222222,
             "#7201a8"
            ],
            [
             0.3333333333333333,
             "#9c179e"
            ],
            [
             0.4444444444444444,
             "#bd3786"
            ],
            [
             0.5555555555555556,
             "#d8576b"
            ],
            [
             0.6666666666666666,
             "#ed7953"
            ],
            [
             0.7777777777777778,
             "#fb9f3a"
            ],
            [
             0.8888888888888888,
             "#fdca26"
            ],
            [
             1,
             "#f0f921"
            ]
           ],
           "sequentialminus": [
            [
             0,
             "#0d0887"
            ],
            [
             0.1111111111111111,
             "#46039f"
            ],
            [
             0.2222222222222222,
             "#7201a8"
            ],
            [
             0.3333333333333333,
             "#9c179e"
            ],
            [
             0.4444444444444444,
             "#bd3786"
            ],
            [
             0.5555555555555556,
             "#d8576b"
            ],
            [
             0.6666666666666666,
             "#ed7953"
            ],
            [
             0.7777777777777778,
             "#fb9f3a"
            ],
            [
             0.8888888888888888,
             "#fdca26"
            ],
            [
             1,
             "#f0f921"
            ]
           ]
          },
          "colorway": [
           "#636efa",
           "#EF553B",
           "#00cc96",
           "#ab63fa",
           "#FFA15A",
           "#19d3f3",
           "#FF6692",
           "#B6E880",
           "#FF97FF",
           "#FECB52"
          ],
          "font": {
           "color": "#2a3f5f"
          },
          "geo": {
           "bgcolor": "white",
           "lakecolor": "white",
           "landcolor": "#E5ECF6",
           "showlakes": true,
           "showland": true,
           "subunitcolor": "white"
          },
          "hoverlabel": {
           "align": "left"
          },
          "hovermode": "closest",
          "mapbox": {
           "style": "light"
          },
          "paper_bgcolor": "white",
          "plot_bgcolor": "#E5ECF6",
          "polar": {
           "angularaxis": {
            "gridcolor": "white",
            "linecolor": "white",
            "ticks": ""
           },
           "bgcolor": "#E5ECF6",
           "radialaxis": {
            "gridcolor": "white",
            "linecolor": "white",
            "ticks": ""
           }
          },
          "scene": {
           "xaxis": {
            "backgroundcolor": "#E5ECF6",
            "gridcolor": "white",
            "gridwidth": 2,
            "linecolor": "white",
            "showbackground": true,
            "ticks": "",
            "zerolinecolor": "white"
           },
           "yaxis": {
            "backgroundcolor": "#E5ECF6",
            "gridcolor": "white",
            "gridwidth": 2,
            "linecolor": "white",
            "showbackground": true,
            "ticks": "",
            "zerolinecolor": "white"
           },
           "zaxis": {
            "backgroundcolor": "#E5ECF6",
            "gridcolor": "white",
            "gridwidth": 2,
            "linecolor": "white",
            "showbackground": true,
            "ticks": "",
            "zerolinecolor": "white"
           }
          },
          "shapedefaults": {
           "line": {
            "color": "#2a3f5f"
           }
          },
          "ternary": {
           "aaxis": {
            "gridcolor": "white",
            "linecolor": "white",
            "ticks": ""
           },
           "baxis": {
            "gridcolor": "white",
            "linecolor": "white",
            "ticks": ""
           },
           "bgcolor": "#E5ECF6",
           "caxis": {
            "gridcolor": "white",
            "linecolor": "white",
            "ticks": ""
           }
          },
          "title": {
           "x": 0.05
          },
          "xaxis": {
           "automargin": true,
           "gridcolor": "white",
           "linecolor": "white",
           "ticks": "",
           "title": {
            "standoff": 15
           },
           "zerolinecolor": "white",
           "zerolinewidth": 2
          },
          "yaxis": {
           "automargin": true,
           "gridcolor": "white",
           "linecolor": "white",
           "ticks": "",
           "title": {
            "standoff": 15
           },
           "zerolinecolor": "white",
           "zerolinewidth": 2
          }
         }
        },
        "title": {
         "text": "Value functions "
        },
        "width": 1000,
        "yaxis": {
         "range": [
          4,
          24
         ]
        }
       }
      }
     },
     "metadata": {},
     "output_type": "display_data"
    }
   ],
   "source": [
    "options = ProgramOptions()\n",
    "number_of_layers = 15\n",
    "options.mosek_tolerance_gap = 1e-9\n",
    "options.mosek_primal_feas_gap = 1e-9\n",
    "options.mosek_dual_feas_gap = 1e-9\n",
    "options.max_constraint_degree=2\n",
    "# gcs, layers = random_uniform_graph_generator(num_layers=15, options=options,x_min=0, x_max=15, random_seed=2, min_blank=1, max_blank=5, min_goal_blank=2, max_goal_blank=5)\n",
    "gcs, layers = random_uniform_graph_generator(num_layers=number_of_layers, options=options,x_min=0, x_max=15, random_seed=2, min_blank=1, max_blank=5, min_goal_blank=2, max_goal_blank=5)\n",
    "fig = plot_a_layered_graph(layers)\n",
    "fig.show()\n",
    "fig.update_layout(height=1200, width=1200)\n",
    "\n",
    "dx = 0.2\n",
    "\n",
    "v_0 = layers[0][0]\n",
    "fig, y_true = gcs.make_plots(v_0.name, dx=dx, subtract_nsteps=0)\n",
    "\n",
    "\n",
    "add_rollout_plots(fig, gcs, layers, y_true, 1, v_0, 0, \"red\", dx=dx, use_0_potentials=True,plot_lb=True)\n",
    "add_rollout_plots(fig, gcs, layers, y_true, 2, v_0, 0, \"orange\", dx=dx, use_0_potentials=True,plot_lb=True)\n",
    "\n",
    "add_rollout_plots(fig, gcs, layers, y_true, 1, v_0, 0, \"purple\", dx=dx, use_0_potentials=False,plot_lb=True)\n",
    "add_rollout_plots(fig, gcs, layers, y_true, 2, v_0, 0, \"magenta\", dx=dx, use_0_potentials=False,plot_lb=True)\n",
    "fig.update_layout(height=1000, width=1000)\n",
    "fig.update_yaxes(range=[4, 24])   # Set y-axis limits\n",
    "fig.update_traces(line={'width': 5})\n",
    "fig.show()"
   ]
  },
  {
   "cell_type": "code",
   "execution_count": 15,
   "metadata": {},
   "outputs": [
    {
     "data": {
      "application/vnd.plotly.v1+json": {
       "config": {
        "plotlyServerURL": "https://plot.ly"
       },
       "data": [
        {
         "line": {
          "color": "black"
         },
         "type": "scatter",
         "x": [
          0,
          15
         ],
         "y": [
          15,
          15
         ]
        },
        {
         "line": {
          "color": "black"
         },
         "type": "scatter",
         "x": [
          0,
          0.9359949021420038
         ],
         "y": [
          14,
          14
         ]
        },
        {
         "line": {
          "color": "black"
         },
         "type": "scatter",
         "x": [
          2.039699829453569,
          3.0893623073322782
         ],
         "y": [
          14,
          14
         ]
        },
        {
         "line": {
          "color": "black"
         },
         "type": "scatter",
         "x": [
          5.830651877805385,
          6.751019679892874
         ],
         "y": [
          14,
          14
         ]
        },
        {
         "line": {
          "color": "black"
         },
         "type": "scatter",
         "x": [
          9.072358963908371,
          9.777007597946215
         ],
         "y": [
          14,
          14
         ]
        },
        {
         "line": {
          "color": "black"
         },
         "type": "scatter",
         "x": [
          13.25409146334887,
          14.053746137023392
         ],
         "y": [
          14,
          14
         ]
        },
        {
         "line": {
          "color": "black"
         },
         "type": "scatter",
         "x": [
          3.4845353310771796,
          4.513677425354219
         ],
         "y": [
          13,
          13
         ]
        },
        {
         "line": {
          "color": "black"
         },
         "type": "scatter",
         "x": [
          6.051997206733953,
          7.065575327999699
         ],
         "y": [
          13,
          13
         ]
        },
        {
         "line": {
          "color": "black"
         },
         "type": "scatter",
         "x": [
          8.80333479058736,
          10.088669938404035
         ],
         "y": [
          13,
          13
         ]
        },
        {
         "line": {
          "color": "black"
         },
         "type": "scatter",
         "x": [
          14.50457110896199,
          15
         ],
         "y": [
          13,
          13
         ]
        },
        {
         "line": {
          "color": "black"
         },
         "type": "scatter",
         "x": [
          0,
          1.346561485357468
         ],
         "y": [
          12,
          12
         ]
        },
        {
         "line": {
          "color": "black"
         },
         "type": "scatter",
         "x": [
          2.665143393393712,
          3.670389483515416
         ],
         "y": [
          12,
          12
         ]
        },
        {
         "line": {
          "color": "black"
         },
         "type": "scatter",
         "x": [
          4.931535501062928,
          5.859657828660318
         ],
         "y": [
          12,
          12
         ]
        },
        {
         "line": {
          "color": "black"
         },
         "type": "scatter",
         "x": [
          7.245781491302768,
          7.872941463004046
         ],
         "y": [
          12,
          12
         ]
        },
        {
         "line": {
          "color": "black"
         },
         "type": "scatter",
         "x": [
          11.259922698918428,
          11.985934699522664
         ],
         "y": [
          12,
          12
         ]
        },
        {
         "line": {
          "color": "black"
         },
         "type": "scatter",
         "x": [
          13.413717436762596,
          14.134023643833157
         ],
         "y": [
          12,
          12
         ]
        },
        {
         "line": {
          "color": "black"
         },
         "type": "scatter",
         "x": [
          2.871149938329201,
          3.5728931645941664
         ],
         "y": [
          11,
          11
         ]
        },
        {
         "line": {
          "color": "black"
         },
         "type": "scatter",
         "x": [
          7.134520065453826,
          8.117589901005577
         ],
         "y": [
          11,
          11
         ]
        },
        {
         "line": {
          "color": "black"
         },
         "type": "scatter",
         "x": [
          11.138536781079774,
          12.025429432198333
         ],
         "y": [
          11,
          11
         ]
        },
        {
         "line": {
          "color": "black"
         },
         "type": "scatter",
         "x": [
          0,
          1.0800041788778065
         ],
         "y": [
          10,
          10
         ]
        },
        {
         "line": {
          "color": "black"
         },
         "type": "scatter",
         "x": [
          2.729198572887062,
          3.9299509194942184
         ],
         "y": [
          10,
          10
         ]
        },
        {
         "line": {
          "color": "black"
         },
         "type": "scatter",
         "x": [
          8.788155239851239,
          9.788163601021456
         ],
         "y": [
          10,
          10
         ]
        },
        {
         "line": {
          "color": "black"
         },
         "type": "scatter",
         "x": [
          14.346243856806035,
          15
         ],
         "y": [
          10,
          10
         ]
        },
        {
         "line": {
          "color": "black"
         },
         "type": "scatter",
         "x": [
          3.268576510510837,
          4.196122473806947
         ],
         "y": [
          9,
          9
         ]
        },
        {
         "line": {
          "color": "black"
         },
         "type": "scatter",
         "x": [
          6.943111525914143,
          8.219670710911243
         ],
         "y": [
          9,
          9
         ]
        },
        {
         "line": {
          "color": "black"
         },
         "type": "scatter",
         "x": [
          11.36208740490187,
          12.815829631846736
         ],
         "y": [
          9,
          9
         ]
        },
        {
         "line": {
          "color": "black"
         },
         "type": "scatter",
         "x": [
          0,
          0.5820949222750248
         ],
         "y": [
          8,
          8
         ]
        },
        {
         "line": {
          "color": "black"
         },
         "type": "scatter",
         "x": [
          3.0474645289751066,
          4.398315032979609
         ],
         "y": [
          8,
          8
         ]
        },
        {
         "line": {
          "color": "black"
         },
         "type": "scatter",
         "x": [
          7.023415205171412,
          7.550617571066262
         ],
         "y": [
          8,
          8
         ]
        },
        {
         "line": {
          "color": "black"
         },
         "type": "scatter",
         "x": [
          9.539326527055675,
          10.10647089779263
         ],
         "y": [
          8,
          8
         ]
        },
        {
         "line": {
          "color": "black"
         },
         "type": "scatter",
         "x": [
          4.882321253508694,
          6.1825796046412815
         ],
         "y": [
          7,
          7
         ]
        },
        {
         "line": {
          "color": "black"
         },
         "type": "scatter",
         "x": [
          9.589848090263152,
          10.854807950714832
         ],
         "y": [
          7,
          7
         ]
        },
        {
         "line": {
          "color": "black"
         },
         "type": "scatter",
         "x": [
          12.531709737051544,
          13.324732968870984
         ],
         "y": [
          7,
          7
         ]
        },
        {
         "line": {
          "color": "black"
         },
         "type": "scatter",
         "x": [
          0,
          0.8566242811227589
         ],
         "y": [
          6,
          6
         ]
        },
        {
         "line": {
          "color": "black"
         },
         "type": "scatter",
         "x": [
          2.039340142104359,
          3.5224935874615717
         ],
         "y": [
          6,
          6
         ]
        },
        {
         "line": {
          "color": "black"
         },
         "type": "scatter",
         "x": [
          6.287913264880959,
          7.291913704260111
         ],
         "y": [
          6,
          6
         ]
        },
        {
         "line": {
          "color": "black"
         },
         "type": "scatter",
         "x": [
          9.586078974398905,
          10.345823727146042
         ],
         "y": [
          6,
          6
         ]
        },
        {
         "line": {
          "color": "black"
         },
         "type": "scatter",
         "x": [
          12.893383268429092,
          14.225400168063594
         ],
         "y": [
          6,
          6
         ]
        },
        {
         "line": {
          "color": "black"
         },
         "type": "scatter",
         "x": [
          2.51684226776655,
          3.0298596044611004
         ],
         "y": [
          5,
          5
         ]
        },
        {
         "line": {
          "color": "black"
         },
         "type": "scatter",
         "x": [
          7.219479360591475,
          7.988868158187776
         ],
         "y": [
          5,
          5
         ]
        },
        {
         "line": {
          "color": "black"
         },
         "type": "scatter",
         "x": [
          11.319607712303913,
          11.845158654153606
         ],
         "y": [
          5,
          5
         ]
        },
        {
         "line": {
          "color": "black"
         },
         "type": "scatter",
         "x": [
          0,
          0.8875234258732815
         ],
         "y": [
          4,
          4
         ]
        },
        {
         "line": {
          "color": "black"
         },
         "type": "scatter",
         "x": [
          3.875818620811332,
          4.790724458186019
         ],
         "y": [
          4,
          4
         ]
        },
        {
         "line": {
          "color": "black"
         },
         "type": "scatter",
         "x": [
          7.19421206339258,
          8.245189968717
         ],
         "y": [
          4,
          4
         ]
        },
        {
         "line": {
          "color": "black"
         },
         "type": "scatter",
         "x": [
          13.1368327282163,
          13.749608943454371
         ],
         "y": [
          4,
          4
         ]
        },
        {
         "line": {
          "color": "black"
         },
         "type": "scatter",
         "x": [
          1.1671908392612402,
          2.4055905978821404
         ],
         "y": [
          3,
          3
         ]
        },
        {
         "line": {
          "color": "black"
         },
         "type": "scatter",
         "x": [
          6.035640148518317,
          6.75027589491827
         ],
         "y": [
          3,
          3
         ]
        },
        {
         "line": {
          "color": "black"
         },
         "type": "scatter",
         "x": [
          9.41728965569962,
          10.561131589847815
         ],
         "y": [
          3,
          3
         ]
        },
        {
         "line": {
          "color": "black"
         },
         "type": "scatter",
         "x": [
          14.207056896709581,
          14.877534030193353
         ],
         "y": [
          3,
          3
         ]
        },
        {
         "line": {
          "color": "black"
         },
         "type": "scatter",
         "x": [
          0,
          1.2780081598084683
         ],
         "y": [
          2,
          2
         ]
        },
        {
         "line": {
          "color": "black"
         },
         "type": "scatter",
         "x": [
          2.813824992495232,
          4.182741618927311
         ],
         "y": [
          2,
          2
         ]
        },
        {
         "line": {
          "color": "black"
         },
         "type": "scatter",
         "x": [
          8.177853132034729,
          9.476438786133809
         ],
         "y": [
          2,
          2
         ]
        },
        {
         "line": {
          "color": "black"
         },
         "type": "scatter",
         "x": [
          12.649819708469419,
          13.370657623530882
         ],
         "y": [
          2,
          2
         ]
        },
        {
         "line": {
          "color": "black"
         },
         "type": "scatter",
         "x": [
          3.776253732999129,
          3.776253732999129
         ],
         "y": [
          1,
          1
         ]
        },
        {
         "line": {
          "color": "black"
         },
         "type": "scatter",
         "x": [
          6.814967461364569,
          6.814967461364569
         ],
         "y": [
          1,
          1
         ]
        },
        {
         "line": {
          "color": "black"
         },
         "type": "scatter",
         "x": [
          9.606303049204628,
          9.606303049204628
         ],
         "y": [
          1,
          1
         ]
        },
        {
         "line": {
          "color": "black"
         },
         "type": "scatter",
         "x": [
          14.348049480700023,
          14.348049480700023
         ],
         "y": [
          1,
          1
         ]
        }
       ],
       "layout": {
        "height": 800,
        "showlegend": false,
        "template": {
         "data": {
          "bar": [
           {
            "error_x": {
             "color": "#2a3f5f"
            },
            "error_y": {
             "color": "#2a3f5f"
            },
            "marker": {
             "line": {
              "color": "#E5ECF6",
              "width": 0.5
             },
             "pattern": {
              "fillmode": "overlay",
              "size": 10,
              "solidity": 0.2
             }
            },
            "type": "bar"
           }
          ],
          "barpolar": [
           {
            "marker": {
             "line": {
              "color": "#E5ECF6",
              "width": 0.5
             },
             "pattern": {
              "fillmode": "overlay",
              "size": 10,
              "solidity": 0.2
             }
            },
            "type": "barpolar"
           }
          ],
          "carpet": [
           {
            "aaxis": {
             "endlinecolor": "#2a3f5f",
             "gridcolor": "white",
             "linecolor": "white",
             "minorgridcolor": "white",
             "startlinecolor": "#2a3f5f"
            },
            "baxis": {
             "endlinecolor": "#2a3f5f",
             "gridcolor": "white",
             "linecolor": "white",
             "minorgridcolor": "white",
             "startlinecolor": "#2a3f5f"
            },
            "type": "carpet"
           }
          ],
          "choropleth": [
           {
            "colorbar": {
             "outlinewidth": 0,
             "ticks": ""
            },
            "type": "choropleth"
           }
          ],
          "contour": [
           {
            "colorbar": {
             "outlinewidth": 0,
             "ticks": ""
            },
            "colorscale": [
             [
              0,
              "#0d0887"
             ],
             [
              0.1111111111111111,
              "#46039f"
             ],
             [
              0.2222222222222222,
              "#7201a8"
             ],
             [
              0.3333333333333333,
              "#9c179e"
             ],
             [
              0.4444444444444444,
              "#bd3786"
             ],
             [
              0.5555555555555556,
              "#d8576b"
             ],
             [
              0.6666666666666666,
              "#ed7953"
             ],
             [
              0.7777777777777778,
              "#fb9f3a"
             ],
             [
              0.8888888888888888,
              "#fdca26"
             ],
             [
              1,
              "#f0f921"
             ]
            ],
            "type": "contour"
           }
          ],
          "contourcarpet": [
           {
            "colorbar": {
             "outlinewidth": 0,
             "ticks": ""
            },
            "type": "contourcarpet"
           }
          ],
          "heatmap": [
           {
            "colorbar": {
             "outlinewidth": 0,
             "ticks": ""
            },
            "colorscale": [
             [
              0,
              "#0d0887"
             ],
             [
              0.1111111111111111,
              "#46039f"
             ],
             [
              0.2222222222222222,
              "#7201a8"
             ],
             [
              0.3333333333333333,
              "#9c179e"
             ],
             [
              0.4444444444444444,
              "#bd3786"
             ],
             [
              0.5555555555555556,
              "#d8576b"
             ],
             [
              0.6666666666666666,
              "#ed7953"
             ],
             [
              0.7777777777777778,
              "#fb9f3a"
             ],
             [
              0.8888888888888888,
              "#fdca26"
             ],
             [
              1,
              "#f0f921"
             ]
            ],
            "type": "heatmap"
           }
          ],
          "heatmapgl": [
           {
            "colorbar": {
             "outlinewidth": 0,
             "ticks": ""
            },
            "colorscale": [
             [
              0,
              "#0d0887"
             ],
             [
              0.1111111111111111,
              "#46039f"
             ],
             [
              0.2222222222222222,
              "#7201a8"
             ],
             [
              0.3333333333333333,
              "#9c179e"
             ],
             [
              0.4444444444444444,
              "#bd3786"
             ],
             [
              0.5555555555555556,
              "#d8576b"
             ],
             [
              0.6666666666666666,
              "#ed7953"
             ],
             [
              0.7777777777777778,
              "#fb9f3a"
             ],
             [
              0.8888888888888888,
              "#fdca26"
             ],
             [
              1,
              "#f0f921"
             ]
            ],
            "type": "heatmapgl"
           }
          ],
          "histogram": [
           {
            "marker": {
             "pattern": {
              "fillmode": "overlay",
              "size": 10,
              "solidity": 0.2
             }
            },
            "type": "histogram"
           }
          ],
          "histogram2d": [
           {
            "colorbar": {
             "outlinewidth": 0,
             "ticks": ""
            },
            "colorscale": [
             [
              0,
              "#0d0887"
             ],
             [
              0.1111111111111111,
              "#46039f"
             ],
             [
              0.2222222222222222,
              "#7201a8"
             ],
             [
              0.3333333333333333,
              "#9c179e"
             ],
             [
              0.4444444444444444,
              "#bd3786"
             ],
             [
              0.5555555555555556,
              "#d8576b"
             ],
             [
              0.6666666666666666,
              "#ed7953"
             ],
             [
              0.7777777777777778,
              "#fb9f3a"
             ],
             [
              0.8888888888888888,
              "#fdca26"
             ],
             [
              1,
              "#f0f921"
             ]
            ],
            "type": "histogram2d"
           }
          ],
          "histogram2dcontour": [
           {
            "colorbar": {
             "outlinewidth": 0,
             "ticks": ""
            },
            "colorscale": [
             [
              0,
              "#0d0887"
             ],
             [
              0.1111111111111111,
              "#46039f"
             ],
             [
              0.2222222222222222,
              "#7201a8"
             ],
             [
              0.3333333333333333,
              "#9c179e"
             ],
             [
              0.4444444444444444,
              "#bd3786"
             ],
             [
              0.5555555555555556,
              "#d8576b"
             ],
             [
              0.6666666666666666,
              "#ed7953"
             ],
             [
              0.7777777777777778,
              "#fb9f3a"
             ],
             [
              0.8888888888888888,
              "#fdca26"
             ],
             [
              1,
              "#f0f921"
             ]
            ],
            "type": "histogram2dcontour"
           }
          ],
          "mesh3d": [
           {
            "colorbar": {
             "outlinewidth": 0,
             "ticks": ""
            },
            "type": "mesh3d"
           }
          ],
          "parcoords": [
           {
            "line": {
             "colorbar": {
              "outlinewidth": 0,
              "ticks": ""
             }
            },
            "type": "parcoords"
           }
          ],
          "pie": [
           {
            "automargin": true,
            "type": "pie"
           }
          ],
          "scatter": [
           {
            "fillpattern": {
             "fillmode": "overlay",
             "size": 10,
             "solidity": 0.2
            },
            "type": "scatter"
           }
          ],
          "scatter3d": [
           {
            "line": {
             "colorbar": {
              "outlinewidth": 0,
              "ticks": ""
             }
            },
            "marker": {
             "colorbar": {
              "outlinewidth": 0,
              "ticks": ""
             }
            },
            "type": "scatter3d"
           }
          ],
          "scattercarpet": [
           {
            "marker": {
             "colorbar": {
              "outlinewidth": 0,
              "ticks": ""
             }
            },
            "type": "scattercarpet"
           }
          ],
          "scattergeo": [
           {
            "marker": {
             "colorbar": {
              "outlinewidth": 0,
              "ticks": ""
             }
            },
            "type": "scattergeo"
           }
          ],
          "scattergl": [
           {
            "marker": {
             "colorbar": {
              "outlinewidth": 0,
              "ticks": ""
             }
            },
            "type": "scattergl"
           }
          ],
          "scattermapbox": [
           {
            "marker": {
             "colorbar": {
              "outlinewidth": 0,
              "ticks": ""
             }
            },
            "type": "scattermapbox"
           }
          ],
          "scatterpolar": [
           {
            "marker": {
             "colorbar": {
              "outlinewidth": 0,
              "ticks": ""
             }
            },
            "type": "scatterpolar"
           }
          ],
          "scatterpolargl": [
           {
            "marker": {
             "colorbar": {
              "outlinewidth": 0,
              "ticks": ""
             }
            },
            "type": "scatterpolargl"
           }
          ],
          "scatterternary": [
           {
            "marker": {
             "colorbar": {
              "outlinewidth": 0,
              "ticks": ""
             }
            },
            "type": "scatterternary"
           }
          ],
          "surface": [
           {
            "colorbar": {
             "outlinewidth": 0,
             "ticks": ""
            },
            "colorscale": [
             [
              0,
              "#0d0887"
             ],
             [
              0.1111111111111111,
              "#46039f"
             ],
             [
              0.2222222222222222,
              "#7201a8"
             ],
             [
              0.3333333333333333,
              "#9c179e"
             ],
             [
              0.4444444444444444,
              "#bd3786"
             ],
             [
              0.5555555555555556,
              "#d8576b"
             ],
             [
              0.6666666666666666,
              "#ed7953"
             ],
             [
              0.7777777777777778,
              "#fb9f3a"
             ],
             [
              0.8888888888888888,
              "#fdca26"
             ],
             [
              1,
              "#f0f921"
             ]
            ],
            "type": "surface"
           }
          ],
          "table": [
           {
            "cells": {
             "fill": {
              "color": "#EBF0F8"
             },
             "line": {
              "color": "white"
             }
            },
            "header": {
             "fill": {
              "color": "#C8D4E3"
             },
             "line": {
              "color": "white"
             }
            },
            "type": "table"
           }
          ]
         },
         "layout": {
          "annotationdefaults": {
           "arrowcolor": "#2a3f5f",
           "arrowhead": 0,
           "arrowwidth": 1
          },
          "autotypenumbers": "strict",
          "coloraxis": {
           "colorbar": {
            "outlinewidth": 0,
            "ticks": ""
           }
          },
          "colorscale": {
           "diverging": [
            [
             0,
             "#8e0152"
            ],
            [
             0.1,
             "#c51b7d"
            ],
            [
             0.2,
             "#de77ae"
            ],
            [
             0.3,
             "#f1b6da"
            ],
            [
             0.4,
             "#fde0ef"
            ],
            [
             0.5,
             "#f7f7f7"
            ],
            [
             0.6,
             "#e6f5d0"
            ],
            [
             0.7,
             "#b8e186"
            ],
            [
             0.8,
             "#7fbc41"
            ],
            [
             0.9,
             "#4d9221"
            ],
            [
             1,
             "#276419"
            ]
           ],
           "sequential": [
            [
             0,
             "#0d0887"
            ],
            [
             0.1111111111111111,
             "#46039f"
            ],
            [
             0.2222222222222222,
             "#7201a8"
            ],
            [
             0.3333333333333333,
             "#9c179e"
            ],
            [
             0.4444444444444444,
             "#bd3786"
            ],
            [
             0.5555555555555556,
             "#d8576b"
            ],
            [
             0.6666666666666666,
             "#ed7953"
            ],
            [
             0.7777777777777778,
             "#fb9f3a"
            ],
            [
             0.8888888888888888,
             "#fdca26"
            ],
            [
             1,
             "#f0f921"
            ]
           ],
           "sequentialminus": [
            [
             0,
             "#0d0887"
            ],
            [
             0.1111111111111111,
             "#46039f"
            ],
            [
             0.2222222222222222,
             "#7201a8"
            ],
            [
             0.3333333333333333,
             "#9c179e"
            ],
            [
             0.4444444444444444,
             "#bd3786"
            ],
            [
             0.5555555555555556,
             "#d8576b"
            ],
            [
             0.6666666666666666,
             "#ed7953"
            ],
            [
             0.7777777777777778,
             "#fb9f3a"
            ],
            [
             0.8888888888888888,
             "#fdca26"
            ],
            [
             1,
             "#f0f921"
            ]
           ]
          },
          "colorway": [
           "#636efa",
           "#EF553B",
           "#00cc96",
           "#ab63fa",
           "#FFA15A",
           "#19d3f3",
           "#FF6692",
           "#B6E880",
           "#FF97FF",
           "#FECB52"
          ],
          "font": {
           "color": "#2a3f5f"
          },
          "geo": {
           "bgcolor": "white",
           "lakecolor": "white",
           "landcolor": "#E5ECF6",
           "showlakes": true,
           "showland": true,
           "subunitcolor": "white"
          },
          "hoverlabel": {
           "align": "left"
          },
          "hovermode": "closest",
          "mapbox": {
           "style": "light"
          },
          "paper_bgcolor": "white",
          "plot_bgcolor": "#E5ECF6",
          "polar": {
           "angularaxis": {
            "gridcolor": "white",
            "linecolor": "white",
            "ticks": ""
           },
           "bgcolor": "#E5ECF6",
           "radialaxis": {
            "gridcolor": "white",
            "linecolor": "white",
            "ticks": ""
           }
          },
          "scene": {
           "xaxis": {
            "backgroundcolor": "#E5ECF6",
            "gridcolor": "white",
            "gridwidth": 2,
            "linecolor": "white",
            "showbackground": true,
            "ticks": "",
            "zerolinecolor": "white"
           },
           "yaxis": {
            "backgroundcolor": "#E5ECF6",
            "gridcolor": "white",
            "gridwidth": 2,
            "linecolor": "white",
            "showbackground": true,
            "ticks": "",
            "zerolinecolor": "white"
           },
           "zaxis": {
            "backgroundcolor": "#E5ECF6",
            "gridcolor": "white",
            "gridwidth": 2,
            "linecolor": "white",
            "showbackground": true,
            "ticks": "",
            "zerolinecolor": "white"
           }
          },
          "shapedefaults": {
           "line": {
            "color": "#2a3f5f"
           }
          },
          "ternary": {
           "aaxis": {
            "gridcolor": "white",
            "linecolor": "white",
            "ticks": ""
           },
           "baxis": {
            "gridcolor": "white",
            "linecolor": "white",
            "ticks": ""
           },
           "bgcolor": "#E5ECF6",
           "caxis": {
            "gridcolor": "white",
            "linecolor": "white",
            "ticks": ""
           }
          },
          "title": {
           "x": 0.05
          },
          "xaxis": {
           "automargin": true,
           "gridcolor": "white",
           "linecolor": "white",
           "ticks": "",
           "title": {
            "standoff": 15
           },
           "zerolinecolor": "white",
           "zerolinewidth": 2
          },
          "yaxis": {
           "automargin": true,
           "gridcolor": "white",
           "linecolor": "white",
           "ticks": "",
           "title": {
            "standoff": 15
           },
           "zerolinecolor": "white",
           "zerolinewidth": 2
          }
         }
        },
        "title": {
         "text": "Graph view"
        },
        "width": 800,
        "yaxis": {
         "scaleanchor": "x"
        },
        "yaxis2": {
         "overlaying": "y",
         "scaleanchor": "x",
         "side": "right"
        }
       }
      }
     },
     "metadata": {},
     "output_type": "display_data"
    },
    {
     "data": {
      "application/vnd.plotly.v1+json": {
       "config": {
        "plotlyServerURL": "https://plot.ly"
       },
       "data": [
        {
         "line": {
          "color": "black",
          "width": 5
         },
         "type": "scatter",
         "x": [
          0,
          15
         ],
         "y": [
          15,
          15
         ]
        },
        {
         "line": {
          "color": "black",
          "width": 5
         },
         "type": "scatter",
         "x": [
          0,
          0.9359949021420038
         ],
         "y": [
          14,
          14
         ]
        },
        {
         "line": {
          "color": "black",
          "width": 5
         },
         "type": "scatter",
         "x": [
          2.039699829453569,
          3.0893623073322782
         ],
         "y": [
          14,
          14
         ]
        },
        {
         "line": {
          "color": "black",
          "width": 5
         },
         "type": "scatter",
         "x": [
          5.830651877805385,
          6.751019679892874
         ],
         "y": [
          14,
          14
         ]
        },
        {
         "line": {
          "color": "black",
          "width": 5
         },
         "type": "scatter",
         "x": [
          9.072358963908371,
          9.777007597946215
         ],
         "y": [
          14,
          14
         ]
        },
        {
         "line": {
          "color": "black",
          "width": 5
         },
         "type": "scatter",
         "x": [
          13.25409146334887,
          14.053746137023392
         ],
         "y": [
          14,
          14
         ]
        },
        {
         "line": {
          "color": "black",
          "width": 5
         },
         "type": "scatter",
         "x": [
          3.4845353310771796,
          4.513677425354219
         ],
         "y": [
          13,
          13
         ]
        },
        {
         "line": {
          "color": "black",
          "width": 5
         },
         "type": "scatter",
         "x": [
          6.051997206733953,
          7.065575327999699
         ],
         "y": [
          13,
          13
         ]
        },
        {
         "line": {
          "color": "black",
          "width": 5
         },
         "type": "scatter",
         "x": [
          8.80333479058736,
          10.088669938404035
         ],
         "y": [
          13,
          13
         ]
        },
        {
         "line": {
          "color": "black",
          "width": 5
         },
         "type": "scatter",
         "x": [
          14.50457110896199,
          15
         ],
         "y": [
          13,
          13
         ]
        },
        {
         "line": {
          "color": "black",
          "width": 5
         },
         "type": "scatter",
         "x": [
          0,
          1.346561485357468
         ],
         "y": [
          12,
          12
         ]
        },
        {
         "line": {
          "color": "black",
          "width": 5
         },
         "type": "scatter",
         "x": [
          2.665143393393712,
          3.670389483515416
         ],
         "y": [
          12,
          12
         ]
        },
        {
         "line": {
          "color": "black",
          "width": 5
         },
         "type": "scatter",
         "x": [
          4.931535501062928,
          5.859657828660318
         ],
         "y": [
          12,
          12
         ]
        },
        {
         "line": {
          "color": "black",
          "width": 5
         },
         "type": "scatter",
         "x": [
          7.245781491302768,
          7.872941463004046
         ],
         "y": [
          12,
          12
         ]
        },
        {
         "line": {
          "color": "black",
          "width": 5
         },
         "type": "scatter",
         "x": [
          11.259922698918428,
          11.985934699522664
         ],
         "y": [
          12,
          12
         ]
        },
        {
         "line": {
          "color": "black",
          "width": 5
         },
         "type": "scatter",
         "x": [
          13.413717436762596,
          14.134023643833157
         ],
         "y": [
          12,
          12
         ]
        },
        {
         "line": {
          "color": "black",
          "width": 5
         },
         "type": "scatter",
         "x": [
          2.871149938329201,
          3.5728931645941664
         ],
         "y": [
          11,
          11
         ]
        },
        {
         "line": {
          "color": "black",
          "width": 5
         },
         "type": "scatter",
         "x": [
          7.134520065453826,
          8.117589901005577
         ],
         "y": [
          11,
          11
         ]
        },
        {
         "line": {
          "color": "black",
          "width": 5
         },
         "type": "scatter",
         "x": [
          11.138536781079774,
          12.025429432198333
         ],
         "y": [
          11,
          11
         ]
        },
        {
         "line": {
          "color": "black",
          "width": 5
         },
         "type": "scatter",
         "x": [
          0,
          1.0800041788778065
         ],
         "y": [
          10,
          10
         ]
        },
        {
         "line": {
          "color": "black",
          "width": 5
         },
         "type": "scatter",
         "x": [
          2.729198572887062,
          3.9299509194942184
         ],
         "y": [
          10,
          10
         ]
        },
        {
         "line": {
          "color": "black",
          "width": 5
         },
         "type": "scatter",
         "x": [
          8.788155239851239,
          9.788163601021456
         ],
         "y": [
          10,
          10
         ]
        },
        {
         "line": {
          "color": "black",
          "width": 5
         },
         "type": "scatter",
         "x": [
          14.346243856806035,
          15
         ],
         "y": [
          10,
          10
         ]
        },
        {
         "line": {
          "color": "black",
          "width": 5
         },
         "type": "scatter",
         "x": [
          3.268576510510837,
          4.196122473806947
         ],
         "y": [
          9,
          9
         ]
        },
        {
         "line": {
          "color": "black",
          "width": 5
         },
         "type": "scatter",
         "x": [
          6.943111525914143,
          8.219670710911243
         ],
         "y": [
          9,
          9
         ]
        },
        {
         "line": {
          "color": "black",
          "width": 5
         },
         "type": "scatter",
         "x": [
          11.36208740490187,
          12.815829631846736
         ],
         "y": [
          9,
          9
         ]
        },
        {
         "line": {
          "color": "black",
          "width": 5
         },
         "type": "scatter",
         "x": [
          0,
          0.5820949222750248
         ],
         "y": [
          8,
          8
         ]
        },
        {
         "line": {
          "color": "black",
          "width": 5
         },
         "type": "scatter",
         "x": [
          3.0474645289751066,
          4.398315032979609
         ],
         "y": [
          8,
          8
         ]
        },
        {
         "line": {
          "color": "black",
          "width": 5
         },
         "type": "scatter",
         "x": [
          7.023415205171412,
          7.550617571066262
         ],
         "y": [
          8,
          8
         ]
        },
        {
         "line": {
          "color": "black",
          "width": 5
         },
         "type": "scatter",
         "x": [
          9.539326527055675,
          10.10647089779263
         ],
         "y": [
          8,
          8
         ]
        },
        {
         "line": {
          "color": "black",
          "width": 5
         },
         "type": "scatter",
         "x": [
          4.882321253508694,
          6.1825796046412815
         ],
         "y": [
          7,
          7
         ]
        },
        {
         "line": {
          "color": "black",
          "width": 5
         },
         "type": "scatter",
         "x": [
          9.589848090263152,
          10.854807950714832
         ],
         "y": [
          7,
          7
         ]
        },
        {
         "line": {
          "color": "black",
          "width": 5
         },
         "type": "scatter",
         "x": [
          12.531709737051544,
          13.324732968870984
         ],
         "y": [
          7,
          7
         ]
        },
        {
         "line": {
          "color": "black",
          "width": 5
         },
         "type": "scatter",
         "x": [
          0,
          0.8566242811227589
         ],
         "y": [
          6,
          6
         ]
        },
        {
         "line": {
          "color": "black",
          "width": 5
         },
         "type": "scatter",
         "x": [
          2.039340142104359,
          3.5224935874615717
         ],
         "y": [
          6,
          6
         ]
        },
        {
         "line": {
          "color": "black",
          "width": 5
         },
         "type": "scatter",
         "x": [
          6.287913264880959,
          7.291913704260111
         ],
         "y": [
          6,
          6
         ]
        },
        {
         "line": {
          "color": "black",
          "width": 5
         },
         "type": "scatter",
         "x": [
          9.586078974398905,
          10.345823727146042
         ],
         "y": [
          6,
          6
         ]
        },
        {
         "line": {
          "color": "black",
          "width": 5
         },
         "type": "scatter",
         "x": [
          12.893383268429092,
          14.225400168063594
         ],
         "y": [
          6,
          6
         ]
        },
        {
         "line": {
          "color": "black",
          "width": 5
         },
         "type": "scatter",
         "x": [
          2.51684226776655,
          3.0298596044611004
         ],
         "y": [
          5,
          5
         ]
        },
        {
         "line": {
          "color": "black",
          "width": 5
         },
         "type": "scatter",
         "x": [
          7.219479360591475,
          7.988868158187776
         ],
         "y": [
          5,
          5
         ]
        },
        {
         "line": {
          "color": "black",
          "width": 5
         },
         "type": "scatter",
         "x": [
          11.319607712303913,
          11.845158654153606
         ],
         "y": [
          5,
          5
         ]
        },
        {
         "line": {
          "color": "black",
          "width": 5
         },
         "type": "scatter",
         "x": [
          0,
          0.8875234258732815
         ],
         "y": [
          4,
          4
         ]
        },
        {
         "line": {
          "color": "black",
          "width": 5
         },
         "type": "scatter",
         "x": [
          3.875818620811332,
          4.790724458186019
         ],
         "y": [
          4,
          4
         ]
        },
        {
         "line": {
          "color": "black",
          "width": 5
         },
         "type": "scatter",
         "x": [
          7.19421206339258,
          8.245189968717
         ],
         "y": [
          4,
          4
         ]
        },
        {
         "line": {
          "color": "black",
          "width": 5
         },
         "type": "scatter",
         "x": [
          13.1368327282163,
          13.749608943454371
         ],
         "y": [
          4,
          4
         ]
        },
        {
         "line": {
          "color": "black",
          "width": 5
         },
         "type": "scatter",
         "x": [
          1.1671908392612402,
          2.4055905978821404
         ],
         "y": [
          3,
          3
         ]
        },
        {
         "line": {
          "color": "black",
          "width": 5
         },
         "type": "scatter",
         "x": [
          6.035640148518317,
          6.75027589491827
         ],
         "y": [
          3,
          3
         ]
        },
        {
         "line": {
          "color": "black",
          "width": 5
         },
         "type": "scatter",
         "x": [
          9.41728965569962,
          10.561131589847815
         ],
         "y": [
          3,
          3
         ]
        },
        {
         "line": {
          "color": "black",
          "width": 5
         },
         "type": "scatter",
         "x": [
          14.207056896709581,
          14.877534030193353
         ],
         "y": [
          3,
          3
         ]
        },
        {
         "line": {
          "color": "black",
          "width": 5
         },
         "type": "scatter",
         "x": [
          0,
          1.2780081598084683
         ],
         "y": [
          2,
          2
         ]
        },
        {
         "line": {
          "color": "black",
          "width": 5
         },
         "type": "scatter",
         "x": [
          2.813824992495232,
          4.182741618927311
         ],
         "y": [
          2,
          2
         ]
        },
        {
         "line": {
          "color": "black",
          "width": 5
         },
         "type": "scatter",
         "x": [
          8.177853132034729,
          9.476438786133809
         ],
         "y": [
          2,
          2
         ]
        },
        {
         "line": {
          "color": "black",
          "width": 5
         },
         "type": "scatter",
         "x": [
          12.649819708469419,
          13.370657623530882
         ],
         "y": [
          2,
          2
         ]
        },
        {
         "line": {
          "color": "black",
          "width": 5
         },
         "type": "scatter",
         "x": [
          3.776253732999129,
          3.776253732999129
         ],
         "y": [
          1,
          1
         ]
        },
        {
         "line": {
          "color": "black",
          "width": 5
         },
         "type": "scatter",
         "x": [
          6.814967461364569,
          6.814967461364569
         ],
         "y": [
          1,
          1
         ]
        },
        {
         "line": {
          "color": "black",
          "width": 5
         },
         "type": "scatter",
         "x": [
          9.606303049204628,
          9.606303049204628
         ],
         "y": [
          1,
          1
         ]
        },
        {
         "line": {
          "color": "black",
          "width": 5
         },
         "type": "scatter",
         "x": [
          14.348049480700023,
          14.348049480700023
         ],
         "y": [
          1,
          1
         ]
        }
       ],
       "layout": {
        "height": 800,
        "showlegend": false,
        "template": {
         "data": {
          "bar": [
           {
            "error_x": {
             "color": "#2a3f5f"
            },
            "error_y": {
             "color": "#2a3f5f"
            },
            "marker": {
             "line": {
              "color": "#E5ECF6",
              "width": 0.5
             },
             "pattern": {
              "fillmode": "overlay",
              "size": 10,
              "solidity": 0.2
             }
            },
            "type": "bar"
           }
          ],
          "barpolar": [
           {
            "marker": {
             "line": {
              "color": "#E5ECF6",
              "width": 0.5
             },
             "pattern": {
              "fillmode": "overlay",
              "size": 10,
              "solidity": 0.2
             }
            },
            "type": "barpolar"
           }
          ],
          "carpet": [
           {
            "aaxis": {
             "endlinecolor": "#2a3f5f",
             "gridcolor": "white",
             "linecolor": "white",
             "minorgridcolor": "white",
             "startlinecolor": "#2a3f5f"
            },
            "baxis": {
             "endlinecolor": "#2a3f5f",
             "gridcolor": "white",
             "linecolor": "white",
             "minorgridcolor": "white",
             "startlinecolor": "#2a3f5f"
            },
            "type": "carpet"
           }
          ],
          "choropleth": [
           {
            "colorbar": {
             "outlinewidth": 0,
             "ticks": ""
            },
            "type": "choropleth"
           }
          ],
          "contour": [
           {
            "colorbar": {
             "outlinewidth": 0,
             "ticks": ""
            },
            "colorscale": [
             [
              0,
              "#0d0887"
             ],
             [
              0.1111111111111111,
              "#46039f"
             ],
             [
              0.2222222222222222,
              "#7201a8"
             ],
             [
              0.3333333333333333,
              "#9c179e"
             ],
             [
              0.4444444444444444,
              "#bd3786"
             ],
             [
              0.5555555555555556,
              "#d8576b"
             ],
             [
              0.6666666666666666,
              "#ed7953"
             ],
             [
              0.7777777777777778,
              "#fb9f3a"
             ],
             [
              0.8888888888888888,
              "#fdca26"
             ],
             [
              1,
              "#f0f921"
             ]
            ],
            "type": "contour"
           }
          ],
          "contourcarpet": [
           {
            "colorbar": {
             "outlinewidth": 0,
             "ticks": ""
            },
            "type": "contourcarpet"
           }
          ],
          "heatmap": [
           {
            "colorbar": {
             "outlinewidth": 0,
             "ticks": ""
            },
            "colorscale": [
             [
              0,
              "#0d0887"
             ],
             [
              0.1111111111111111,
              "#46039f"
             ],
             [
              0.2222222222222222,
              "#7201a8"
             ],
             [
              0.3333333333333333,
              "#9c179e"
             ],
             [
              0.4444444444444444,
              "#bd3786"
             ],
             [
              0.5555555555555556,
              "#d8576b"
             ],
             [
              0.6666666666666666,
              "#ed7953"
             ],
             [
              0.7777777777777778,
              "#fb9f3a"
             ],
             [
              0.8888888888888888,
              "#fdca26"
             ],
             [
              1,
              "#f0f921"
             ]
            ],
            "type": "heatmap"
           }
          ],
          "heatmapgl": [
           {
            "colorbar": {
             "outlinewidth": 0,
             "ticks": ""
            },
            "colorscale": [
             [
              0,
              "#0d0887"
             ],
             [
              0.1111111111111111,
              "#46039f"
             ],
             [
              0.2222222222222222,
              "#7201a8"
             ],
             [
              0.3333333333333333,
              "#9c179e"
             ],
             [
              0.4444444444444444,
              "#bd3786"
             ],
             [
              0.5555555555555556,
              "#d8576b"
             ],
             [
              0.6666666666666666,
              "#ed7953"
             ],
             [
              0.7777777777777778,
              "#fb9f3a"
             ],
             [
              0.8888888888888888,
              "#fdca26"
             ],
             [
              1,
              "#f0f921"
             ]
            ],
            "type": "heatmapgl"
           }
          ],
          "histogram": [
           {
            "marker": {
             "pattern": {
              "fillmode": "overlay",
              "size": 10,
              "solidity": 0.2
             }
            },
            "type": "histogram"
           }
          ],
          "histogram2d": [
           {
            "colorbar": {
             "outlinewidth": 0,
             "ticks": ""
            },
            "colorscale": [
             [
              0,
              "#0d0887"
             ],
             [
              0.1111111111111111,
              "#46039f"
             ],
             [
              0.2222222222222222,
              "#7201a8"
             ],
             [
              0.3333333333333333,
              "#9c179e"
             ],
             [
              0.4444444444444444,
              "#bd3786"
             ],
             [
              0.5555555555555556,
              "#d8576b"
             ],
             [
              0.6666666666666666,
              "#ed7953"
             ],
             [
              0.7777777777777778,
              "#fb9f3a"
             ],
             [
              0.8888888888888888,
              "#fdca26"
             ],
             [
              1,
              "#f0f921"
             ]
            ],
            "type": "histogram2d"
           }
          ],
          "histogram2dcontour": [
           {
            "colorbar": {
             "outlinewidth": 0,
             "ticks": ""
            },
            "colorscale": [
             [
              0,
              "#0d0887"
             ],
             [
              0.1111111111111111,
              "#46039f"
             ],
             [
              0.2222222222222222,
              "#7201a8"
             ],
             [
              0.3333333333333333,
              "#9c179e"
             ],
             [
              0.4444444444444444,
              "#bd3786"
             ],
             [
              0.5555555555555556,
              "#d8576b"
             ],
             [
              0.6666666666666666,
              "#ed7953"
             ],
             [
              0.7777777777777778,
              "#fb9f3a"
             ],
             [
              0.8888888888888888,
              "#fdca26"
             ],
             [
              1,
              "#f0f921"
             ]
            ],
            "type": "histogram2dcontour"
           }
          ],
          "mesh3d": [
           {
            "colorbar": {
             "outlinewidth": 0,
             "ticks": ""
            },
            "type": "mesh3d"
           }
          ],
          "parcoords": [
           {
            "line": {
             "colorbar": {
              "outlinewidth": 0,
              "ticks": ""
             }
            },
            "type": "parcoords"
           }
          ],
          "pie": [
           {
            "automargin": true,
            "type": "pie"
           }
          ],
          "scatter": [
           {
            "fillpattern": {
             "fillmode": "overlay",
             "size": 10,
             "solidity": 0.2
            },
            "type": "scatter"
           }
          ],
          "scatter3d": [
           {
            "line": {
             "colorbar": {
              "outlinewidth": 0,
              "ticks": ""
             }
            },
            "marker": {
             "colorbar": {
              "outlinewidth": 0,
              "ticks": ""
             }
            },
            "type": "scatter3d"
           }
          ],
          "scattercarpet": [
           {
            "marker": {
             "colorbar": {
              "outlinewidth": 0,
              "ticks": ""
             }
            },
            "type": "scattercarpet"
           }
          ],
          "scattergeo": [
           {
            "marker": {
             "colorbar": {
              "outlinewidth": 0,
              "ticks": ""
             }
            },
            "type": "scattergeo"
           }
          ],
          "scattergl": [
           {
            "marker": {
             "colorbar": {
              "outlinewidth": 0,
              "ticks": ""
             }
            },
            "type": "scattergl"
           }
          ],
          "scattermapbox": [
           {
            "marker": {
             "colorbar": {
              "outlinewidth": 0,
              "ticks": ""
             }
            },
            "type": "scattermapbox"
           }
          ],
          "scatterpolar": [
           {
            "marker": {
             "colorbar": {
              "outlinewidth": 0,
              "ticks": ""
             }
            },
            "type": "scatterpolar"
           }
          ],
          "scatterpolargl": [
           {
            "marker": {
             "colorbar": {
              "outlinewidth": 0,
              "ticks": ""
             }
            },
            "type": "scatterpolargl"
           }
          ],
          "scatterternary": [
           {
            "marker": {
             "colorbar": {
              "outlinewidth": 0,
              "ticks": ""
             }
            },
            "type": "scatterternary"
           }
          ],
          "surface": [
           {
            "colorbar": {
             "outlinewidth": 0,
             "ticks": ""
            },
            "colorscale": [
             [
              0,
              "#0d0887"
             ],
             [
              0.1111111111111111,
              "#46039f"
             ],
             [
              0.2222222222222222,
              "#7201a8"
             ],
             [
              0.3333333333333333,
              "#9c179e"
             ],
             [
              0.4444444444444444,
              "#bd3786"
             ],
             [
              0.5555555555555556,
              "#d8576b"
             ],
             [
              0.6666666666666666,
              "#ed7953"
             ],
             [
              0.7777777777777778,
              "#fb9f3a"
             ],
             [
              0.8888888888888888,
              "#fdca26"
             ],
             [
              1,
              "#f0f921"
             ]
            ],
            "type": "surface"
           }
          ],
          "table": [
           {
            "cells": {
             "fill": {
              "color": "#EBF0F8"
             },
             "line": {
              "color": "white"
             }
            },
            "header": {
             "fill": {
              "color": "#C8D4E3"
             },
             "line": {
              "color": "white"
             }
            },
            "type": "table"
           }
          ]
         },
         "layout": {
          "annotationdefaults": {
           "arrowcolor": "#2a3f5f",
           "arrowhead": 0,
           "arrowwidth": 1
          },
          "autotypenumbers": "strict",
          "coloraxis": {
           "colorbar": {
            "outlinewidth": 0,
            "ticks": ""
           }
          },
          "colorscale": {
           "diverging": [
            [
             0,
             "#8e0152"
            ],
            [
             0.1,
             "#c51b7d"
            ],
            [
             0.2,
             "#de77ae"
            ],
            [
             0.3,
             "#f1b6da"
            ],
            [
             0.4,
             "#fde0ef"
            ],
            [
             0.5,
             "#f7f7f7"
            ],
            [
             0.6,
             "#e6f5d0"
            ],
            [
             0.7,
             "#b8e186"
            ],
            [
             0.8,
             "#7fbc41"
            ],
            [
             0.9,
             "#4d9221"
            ],
            [
             1,
             "#276419"
            ]
           ],
           "sequential": [
            [
             0,
             "#0d0887"
            ],
            [
             0.1111111111111111,
             "#46039f"
            ],
            [
             0.2222222222222222,
             "#7201a8"
            ],
            [
             0.3333333333333333,
             "#9c179e"
            ],
            [
             0.4444444444444444,
             "#bd3786"
            ],
            [
             0.5555555555555556,
             "#d8576b"
            ],
            [
             0.6666666666666666,
             "#ed7953"
            ],
            [
             0.7777777777777778,
             "#fb9f3a"
            ],
            [
             0.8888888888888888,
             "#fdca26"
            ],
            [
             1,
             "#f0f921"
            ]
           ],
           "sequentialminus": [
            [
             0,
             "#0d0887"
            ],
            [
             0.1111111111111111,
             "#46039f"
            ],
            [
             0.2222222222222222,
             "#7201a8"
            ],
            [
             0.3333333333333333,
             "#9c179e"
            ],
            [
             0.4444444444444444,
             "#bd3786"
            ],
            [
             0.5555555555555556,
             "#d8576b"
            ],
            [
             0.6666666666666666,
             "#ed7953"
            ],
            [
             0.7777777777777778,
             "#fb9f3a"
            ],
            [
             0.8888888888888888,
             "#fdca26"
            ],
            [
             1,
             "#f0f921"
            ]
           ]
          },
          "colorway": [
           "#636efa",
           "#EF553B",
           "#00cc96",
           "#ab63fa",
           "#FFA15A",
           "#19d3f3",
           "#FF6692",
           "#B6E880",
           "#FF97FF",
           "#FECB52"
          ],
          "font": {
           "color": "#2a3f5f"
          },
          "geo": {
           "bgcolor": "white",
           "lakecolor": "white",
           "landcolor": "#E5ECF6",
           "showlakes": true,
           "showland": true,
           "subunitcolor": "white"
          },
          "hoverlabel": {
           "align": "left"
          },
          "hovermode": "closest",
          "mapbox": {
           "style": "light"
          },
          "paper_bgcolor": "white",
          "plot_bgcolor": "#E5ECF6",
          "polar": {
           "angularaxis": {
            "gridcolor": "white",
            "linecolor": "white",
            "ticks": ""
           },
           "bgcolor": "#E5ECF6",
           "radialaxis": {
            "gridcolor": "white",
            "linecolor": "white",
            "ticks": ""
           }
          },
          "scene": {
           "xaxis": {
            "backgroundcolor": "#E5ECF6",
            "gridcolor": "white",
            "gridwidth": 2,
            "linecolor": "white",
            "showbackground": true,
            "ticks": "",
            "zerolinecolor": "white"
           },
           "yaxis": {
            "backgroundcolor": "#E5ECF6",
            "gridcolor": "white",
            "gridwidth": 2,
            "linecolor": "white",
            "showbackground": true,
            "ticks": "",
            "zerolinecolor": "white"
           },
           "zaxis": {
            "backgroundcolor": "#E5ECF6",
            "gridcolor": "white",
            "gridwidth": 2,
            "linecolor": "white",
            "showbackground": true,
            "ticks": "",
            "zerolinecolor": "white"
           }
          },
          "shapedefaults": {
           "line": {
            "color": "#2a3f5f"
           }
          },
          "ternary": {
           "aaxis": {
            "gridcolor": "white",
            "linecolor": "white",
            "ticks": ""
           },
           "baxis": {
            "gridcolor": "white",
            "linecolor": "white",
            "ticks": ""
           },
           "bgcolor": "#E5ECF6",
           "caxis": {
            "gridcolor": "white",
            "linecolor": "white",
            "ticks": ""
           }
          },
          "title": {
           "x": 0.05
          },
          "xaxis": {
           "automargin": true,
           "gridcolor": "white",
           "linecolor": "white",
           "ticks": "",
           "title": {
            "standoff": 15
           },
           "zerolinecolor": "white",
           "zerolinewidth": 2
          },
          "yaxis": {
           "automargin": true,
           "gridcolor": "white",
           "linecolor": "white",
           "ticks": "",
           "title": {
            "standoff": 15
           },
           "zerolinecolor": "white",
           "zerolinewidth": 2
          }
         }
        },
        "title": {
         "text": "Graph view"
        },
        "width": 800,
        "yaxis": {
         "scaleanchor": "x"
        },
        "yaxis2": {
         "overlaying": "y",
         "scaleanchor": "x",
         "side": "right"
        }
       }
      }
     },
     "metadata": {},
     "output_type": "display_data"
    }
   ],
   "source": [
    "fig = plot_a_layered_graph(layers)\n",
    "fig.show()\n",
    "fig.update_yaxes(range=[4, 24])   # Set y-axis limits\n",
    "fig.update_traces(line={'width': 5})"
   ]
  },
  {
   "cell_type": "code",
   "execution_count": null,
   "metadata": {},
   "outputs": [],
   "source": []
  },
  {
   "cell_type": "code",
   "execution_count": null,
   "metadata": {},
   "outputs": [],
   "source": []
  },
  {
   "cell_type": "code",
   "execution_count": null,
   "metadata": {},
   "outputs": [],
   "source": []
  },
  {
   "cell_type": "code",
   "execution_count": 2,
   "metadata": {},
   "outputs": [
    {
     "name": "stdout",
     "output_type": "stream",
     "text": [
      "e0\n",
      "c1 b1\n",
      "c1 b2\n",
      "b1 a1\n",
      "b2 a1\n"
     ]
    },
    {
     "ename": "TypeError",
     "evalue": "PolynomialDualGCS.solve_for_true_shortest_path() missing 1 required positional argument: 'point'",
     "output_type": "error",
     "traceback": [
      "\u001b[0;31m---------------------------------------------------------------------------\u001b[0m",
      "\u001b[0;31mTypeError\u001b[0m                                 Traceback (most recent call last)",
      "\u001b[1;32m/Users/savva/Desktop/Codes/gcs/gcs-dual-no-dynamics/temp.ipynb Cell 2\u001b[0m line \u001b[0;36m2\n\u001b[1;32m     <a href='vscode-notebook-cell:/Users/savva/Desktop/Codes/gcs/gcs-dual-no-dynamics/temp.ipynb#W1sZmlsZQ%3D%3D?line=18'>19</a>\u001b[0m \u001b[39mfor\u001b[39;00m v \u001b[39min\u001b[39;00m graph\u001b[39m.\u001b[39mgcs\u001b[39m.\u001b[39mEdges():\n\u001b[1;32m     <a href='vscode-notebook-cell:/Users/savva/Desktop/Codes/gcs/gcs-dual-no-dynamics/temp.ipynb#W1sZmlsZQ%3D%3D?line=19'>20</a>\u001b[0m     \u001b[39mprint\u001b[39m(v\u001b[39m.\u001b[39mname())\n\u001b[0;32m---> <a href='vscode-notebook-cell:/Users/savva/Desktop/Codes/gcs/gcs-dual-no-dynamics/temp.ipynb#W1sZmlsZQ%3D%3D?line=21'>22</a>\u001b[0m graph\u001b[39m.\u001b[39;49msolve_for_true_shortest_path(\u001b[39m\"\u001b[39;49m\u001b[39mc1\u001b[39;49m\u001b[39m\"\u001b[39;49m, [\u001b[39m2\u001b[39;49m])\n\u001b[1;32m     <a href='vscode-notebook-cell:/Users/savva/Desktop/Codes/gcs/gcs-dual-no-dynamics/temp.ipynb#W1sZmlsZQ%3D%3D?line=22'>23</a>\u001b[0m graph\u001b[39m.\u001b[39msolve_for_true_shortest_path(\u001b[39m\"\u001b[39m\u001b[39mc1\u001b[39m\u001b[39m\"\u001b[39m, [\u001b[39m3\u001b[39m])\n",
      "\u001b[0;31mTypeError\u001b[0m: PolynomialDualGCS.solve_for_true_shortest_path() missing 1 required positional argument: 'point'"
     ]
    }
   ],
   "source": [
    "options = ProgramOptions()\n",
    "options.use_convex_relaxation = False\n",
    "\n",
    "graph = PolynomialDualGCS(options)\n",
    "# test out on something simpel\n",
    "\n",
    "quad_cost = lambda x, y: np.sum([(x[i]-y[i])**2 for i in range(len(x))])\n",
    "\n",
    "a1 = graph.AddTargetVertex(\"a1\", Point([0]), lambda x: 0 )\n",
    "b1 = graph.AddVertex(\"b1\", HPolyhedron.MakeBox([-3],[-1]))\n",
    "b2 = graph.AddVertex(\"b2\", HPolyhedron.MakeBox([1],[3]))\n",
    "c1 = graph.AddVertex(\"c1\", HPolyhedron.MakeBox([-3],[3]))\n",
    "\n",
    "graph.AddEdge(c1, b1, quad_cost)\n",
    "graph.AddEdge(c1, b2, quad_cost)\n",
    "graph.AddEdge(b1, a1, quad_cost)\n",
    "graph.AddEdge(b2, a1, quad_cost)\n",
    "\n",
    "for v in graph.gcs.Edges():\n",
    "    print(v.name())\n",
    "\n",
    "graph.solve_for_true_shortest_path(\"c1\", [2])\n",
    "graph.solve_for_true_shortest_path(\"c1\", [3])\n"
   ]
  },
  {
   "cell_type": "code",
   "execution_count": null,
   "metadata": {},
   "outputs": [
    {
     "ename": "",
     "evalue": "",
     "output_type": "error",
     "traceback": [
      "\u001b[1;31mThe Kernel crashed while executing code in the the current cell or a previous cell. Please review the code in the cell(s) to identify a possible cause of the failure. Click <a href='https://aka.ms/vscodeJupyterKernelCrash'>here</a> for more info. View Jupyter <a href='command:jupyter.viewOutput'>log</a> for further details."
     ]
    }
   ],
   "source": []
  },
  {
   "cell_type": "code",
   "execution_count": 7,
   "metadata": {},
   "outputs": [
    {
     "name": "stdout",
     "output_type": "stream",
     "text": [
      "e5\n",
      "c1 b1\n",
      "c1 b2\n",
      "b1 a1\n",
      "b2 a1\n",
      "e5\n",
      "e6\n",
      "e7\n",
      "e8\n"
     ]
    }
   ],
   "source": [
    "for v in graph.gcs.Edges():\n",
    "    print(v.name())"
   ]
  },
  {
   "cell_type": "code",
   "execution_count": null,
   "metadata": {},
   "outputs": [],
   "source": []
  }
 ],
 "metadata": {
  "kernelspec": {
   "display_name": "Python 3",
   "language": "python",
   "name": "python3"
  },
  "language_info": {
   "codemirror_mode": {
    "name": "ipython",
    "version": 3
   },
   "file_extension": ".py",
   "mimetype": "text/x-python",
   "name": "python",
   "nbconvert_exporter": "python",
   "pygments_lexer": "ipython3",
   "version": "3.11.3"
  },
  "orig_nbformat": 4
 },
 "nbformat": 4,
 "nbformat_minor": 2
}
