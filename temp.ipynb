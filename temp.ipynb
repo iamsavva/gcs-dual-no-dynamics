{
 "cells": [
  {
   "cell_type": "code",
   "execution_count": 1,
   "metadata": {},
   "outputs": [],
   "source": [
    "import typing as T  # pylint: disable=unused-import\n",
    "\n",
    "import numpy as np\n",
    "import numpy.typing as npt\n",
    "\n",
    "from pydrake.solvers import (  # pylint: disable=import-error, no-name-in-module, unused-import\n",
    "    MathematicalProgram,\n",
    "    MathematicalProgramResult,\n",
    "    Solve,\n",
    "    MosekSolver,\n",
    "    MosekSolverDetails,\n",
    "    SolverOptions,\n",
    "    CommonSolverOption,\n",
    ")\n",
    "from pydrake.geometry.optimization import (  # pylint: disable=import-error, no-name-in-module\n",
    "    HPolyhedron,\n",
    "    Point,\n",
    "    ConvexSet,\n",
    ")\n",
    "from pydrake.symbolic import ( # pylint: disable=import-error, no-name-in-module, unused-import\n",
    "    Polynomial,\n",
    "    Variable,\n",
    "    Variables,\n",
    "    Expression,\n",
    ")  \n",
    "from program_options import ProgramOptions, FREE_POLY, PSD_POLY, NOISY_DEG_2\n",
    "\n",
    "from util import (\n",
    "    timeit,\n",
    "    diditwork,\n",
    "    INFO,\n",
    "    YAY,\n",
    "    WARN,\n",
    "    ERROR,\n",
    ")  # pylint: disable=import-error, no-name-in-module, unused-import"
   ]
  },
  {
   "cell_type": "code",
   "execution_count": 5,
   "metadata": {},
   "outputs": [
    {
     "data": {
      "text/plain": [
       "<Polynomial \"0\">"
      ]
     },
     "execution_count": 5,
     "metadata": {},
     "output_type": "execute_result"
    }
   ],
   "source": [
    "potential = Polynomial(0)\n",
    "prog = MathematicalProgram()\n",
    "x = prog.NewContinuousVariables(3)\n",
    "y = np.zeros(3)\n",
    "potential.EvaluatePartial(\n",
    "            {x[i]: y[i] for i in range(3)}\n",
    "        )"
   ]
  },
  {
   "cell_type": "code",
   "execution_count": 4,
   "metadata": {},
   "outputs": [
    {
     "data": {
      "text/plain": [
       "[2, 3, 6]"
      ]
     },
     "execution_count": 4,
     "metadata": {},
     "output_type": "execute_result"
    }
   ],
   "source": [
    "triu_ind = np.triu_indices(3, k=1)\n",
    "A = np.array([[1,2,3],[4,5,6],[7,8,9]])\n",
    "list(A[triu_ind[0], triu_ind[1]])"
   ]
  },
  {
   "cell_type": "code",
   "execution_count": 5,
   "metadata": {},
   "outputs": [
    {
     "data": {
      "text/plain": [
       "array([1., 1., 1.])"
      ]
     },
     "execution_count": 5,
     "metadata": {},
     "output_type": "execute_result"
    }
   ],
   "source": [
    "x = np.ones(3)\n",
    "Q = np.eye(3)\n",
    "x.dot(Q)"
   ]
  },
  {
   "cell_type": "code",
   "execution_count": 6,
   "metadata": {},
   "outputs": [
    {
     "data": {
      "text/plain": [
       "array([1., 1., 1.])"
      ]
     },
     "execution_count": 6,
     "metadata": {},
     "output_type": "execute_result"
    }
   ],
   "source": [
    "x"
   ]
  },
  {
   "cell_type": "code",
   "execution_count": 1,
   "metadata": {},
   "outputs": [],
   "source": [
    "import typing as T\n",
    "import numpy.typing as npt\n",
    "\n",
    "import numpy as np\n",
    "\n",
    "from pydrake.solvers import (  # pylint: disable=import-error, no-name-in-module\n",
    "    MathematicalProgram,\n",
    "    MathematicalProgramResult,\n",
    "    Solve,\n",
    ") \n",
    "from plotly.express.colors import sample_colorscale\n",
    "import plotly.graph_objects as go \n",
    "\n",
    "import logging\n",
    "\n",
    "from pydrake.math import le, eq # pylint: disable=import-error, no-name-in-module\n",
    "from pydrake.symbolic import Polynomial, Variable, Variables, Expression, EvenDegreeMonomialBasis # pylint: disable=import-error, no-name-in-module\n",
    "from pydrake.math import eq, le, ge # pylint: disable=import-error, no-name-in-module\n",
    "from pydrake.geometry.optimization import ConvexSet, VPolytope, HPolyhedron, GraphOfConvexSets, GraphOfConvexSetsOptions, Spectrahedron, Point # pylint: disable=import-error, no-name-in-module\n",
    "from pydrake.solvers import MakeSemidefiniteRelaxation # pylint: disable=import-error, no-name-in-module\n",
    "\n",
    "from IPython.display import Markdown, display \n",
    "\n",
    "from util import timeit, diditwork, ERROR, INFO, WARN, YAY, have_full_dimensional_intersection, latex\n",
    "from gcs_util import get_solution_values"
   ]
  },
  {
   "cell_type": "code",
   "execution_count": 2,
   "metadata": {},
   "outputs": [],
   "source": [
    "def get_polyhedral_bezier_set(hpoly:HPolyhedron, num_control_points:int):\n",
    "    def make_diag_from_mat(mat1, mat2):\n",
    "        # constructs the following matrix:\n",
    "        # | mat1  0   |\n",
    "        # | 0    mat2 |\n",
    "        row1 = np.hstack( (mat1, np.zeros((mat1.shape[0], mat2.shape[1])) ) )\n",
    "        row2 = np.hstack( (np.zeros((mat2.shape[0], mat1.shape[1])), mat2 ) )\n",
    "        return np.vstack((row1, row2))\n",
    "\n",
    "    A,b = hpoly.A(), hpoly.b()\n",
    "    # construct set matrix for bezier curve -- k points, for each Ax <= b\n",
    "    bezier_A, bezier_b = A,b\n",
    "    for i in range(num_control_points-1):\n",
    "        bezier_A = make_diag_from_mat(bezier_A, A)\n",
    "        bezier_b = np.hstack((bezier_b, b))\n",
    "    return HPolyhedron(bezier_A, bezier_b)"
   ]
  },
  {
   "cell_type": "code",
   "execution_count": 11,
   "metadata": {},
   "outputs": [],
   "source": [
    "def get_spectrahedral_bezier_set(hpoly:HPolyhedron, num_control_points:int):\n",
    "    state_dim = hpoly.A().shape[1]\n",
    "    # convert vpoly to hpoly\n",
    "    bezier_hpoly = get_polyhedral_bezier_set(hpoly, num_control_points)\n",
    "    A, b = bezier_hpoly.A(), bezier_hpoly.b()\n",
    "    # define the program\n",
    "    prog = MathematicalProgram()\n",
    "    x = prog.NewContinuousVariables(num_control_points*state_dim, \"x\")\n",
    "    for i in range(len(b)):\n",
    "        prog.AddLinearConstraint( A[i].dot(x) <= b[i] )\n",
    "    # construct SOS relaxation\n",
    "    sdp_prog = MakeSemidefiniteRelaxation(prog)\n",
    "    # extract spectrahedral set from it\n",
    "    return Spectrahedron(sdp_prog)\n",
    "    "
   ]
  },
  {
   "cell_type": "code",
   "execution_count": 5,
   "metadata": {},
   "outputs": [
    {
     "data": {
      "text/markdown": [
       "\\begin{align*}\n",
       "\\text{find}_{x_{0}, x_{1}, x_{2}, Y_{0,0}, Y_{1,0}, Y_{2,0}, Y_{1,1}, Y_{2,1}, Y_{2,2}, one} \\quad & \\\\\n",
       " \\text{subject to}\\quad & one = 1,\\\\\n",
       " & \\begin{bmatrix} Y_{0,0} & Y_{1,0} & Y_{2,0} & x_{0} \\\\ Y_{1,0} & Y_{1,1} & Y_{2,1} & x_{1} \\\\ Y_{2,0} & Y_{2,1} & Y_{2,2} & x_{2} \\\\ x_{0} & x_{1} & x_{2} & one \\end{bmatrix} \\succeq 0.\\\\\n",
       "\\end{align*}\n"
      ],
      "text/plain": [
       "<IPython.core.display.Markdown object>"
      ]
     },
     "metadata": {},
     "output_type": "display_data"
    },
    {
     "data": {
      "text/plain": [
       "array([Variable('x(0)', Continuous), Variable('x(1)', Continuous),\n",
       "       Variable('x(2)', Continuous), Variable('Y(0,0)', Continuous),\n",
       "       Variable('Y(1,0)', Continuous), Variable('Y(2,0)', Continuous),\n",
       "       Variable('Y(1,1)', Continuous), Variable('Y(2,1)', Continuous),\n",
       "       Variable('Y(2,2)', Continuous), Variable('one', Continuous)],\n",
       "      dtype=object)"
      ]
     },
     "execution_count": 5,
     "metadata": {},
     "output_type": "execute_result"
    }
   ],
   "source": [
    "prog = MathematicalProgram()\n",
    "x = prog.NewContinuousVariables(3, \"x\")\n",
    "sdp_prog = MakeSemidefiniteRelaxation(prog)\n",
    "latex(sdp_prog)\n",
    "sdp_prog.decision_variables()"
   ]
  },
  {
   "cell_type": "code",
   "execution_count": 13,
   "metadata": {},
   "outputs": [
    {
     "name": "stdout",
     "output_type": "stream",
     "text": [
      "\u001b[34m[[<Expression \"(-0.10000000000000001 + Y(0,0))\"> <Expression \"Y(1,0)\">\n",
      "  <Expression \"x(0)\">]\n",
      " [<Expression \"Y(1,0)\"> <Expression \"(-0.10000000000000001 + Y(1,1))\">\n",
      "  <Expression \"x(1)\">]\n",
      " [<Expression \"x(0)\"> <Expression \"x(1)\"> <Expression \"one(0)\">]]\n"
     ]
    },
    {
     "data": {
      "text/markdown": [
       "\\begin{align*}\n",
       "\\text{find}_{x_{0}, x_{1}, Y_{0,0}, Y_{1,0}, Y_{1,1}, one_{0}, Symmetric_{0,0}, Symmetric_{1,0}, Symmetric_{2,0}, Symmetric_{1,1}, Symmetric_{2,1}, Symmetric_{2,2}} \\quad & \\\\\n",
       " \\text{subject to}\\quad & (x_{0} - one_{0}) \\le 0,\\\\\n",
       " & (x_{1} - one_{0}) \\le 0,\\\\\n",
       " & ( - Y_{1,0} + Y_{1,1}) \\le 0,\\\\\n",
       " & (x_{0} - x_{1} - Y_{0,0} + Y_{1,0}) \\le 0,\\\\\n",
       " & ( - x_{0} + x_{1}) \\le 0,\\\\\n",
       " & (x_{1} - Y_{1,0}) \\le 0,\\\\\n",
       " & ( - x_{0} + one_{0}) \\le 0,\\\\\n",
       " & one_{0} = 1,\\\\\n",
       " & \\begin{bmatrix} 1 & -1 & 0 & 0 & 0 & 0 & 0 & 0 & 0 & 0 & 0 & 0 \\\\ 0 & 0 & 1 & -1 & 0 & 0 & 0 & 0 & 0 & 0 & 0 & 0 \\\\ 0 & 0 & 0 & 0 & 1 & -1 & 0 & 0 & 0 & 0 & 0 & 0 \\\\ 0 & 0 & 0 & 0 & 0 & 0 & 1 & -1 & 0 & 0 & 0 & 0 \\\\ 0 & 0 & 0 & 0 & 0 & 0 & 0 & 0 & 1 & -1 & 0 & 0 \\\\ 0 & 0 & 0 & 0 & 0 & 0 & 0 & 0 & 0 & 0 & 1 & -1 \\end{bmatrix} \\begin{bmatrix} Y_{0,0} \\\\ Symmetric_{0,0} \\\\ Y_{1,0} \\\\ Symmetric_{1,0} \\\\ x_{0} \\\\ Symmetric_{2,0} \\\\ Y_{1,1} \\\\ Symmetric_{1,1} \\\\ x_{1} \\\\ Symmetric_{2,1} \\\\ one_{0} \\\\ Symmetric_{2,2} \\end{bmatrix} = \\begin{bmatrix} 0.100 \\\\ 0 \\\\ 0 \\\\ 0.100 \\\\ 0 \\\\ 0 \\end{bmatrix},\\\\\n",
       " & 0 \\le x_{0},\\\\\n",
       " & 0 \\le x_{1},\\\\\n",
       " & -0 \\le x_{1},\\\\\n",
       " & \\begin{bmatrix} Symmetric_{0,0} & Symmetric_{1,0} & Symmetric_{2,0} \\\\ Symmetric_{1,0} & Symmetric_{1,1} & Symmetric_{2,1} \\\\ Symmetric_{2,0} & Symmetric_{2,1} & Symmetric_{2,2} \\end{bmatrix} \\succeq 0.\\\\\n",
       "\\end{align*}\n"
      ],
      "text/plain": [
       "<IPython.core.display.Markdown object>"
      ]
     },
     "metadata": {},
     "output_type": "display_data"
    },
    {
     "name": "stdout",
     "output_type": "stream",
     "text": [
      "\u001b[34m[Variable('x(0)', Continuous) Variable('x(1)', Continuous)\n",
      " Variable('Y(0,0)', Continuous) Variable('Y(1,0)', Continuous)\n",
      " Variable('Y(1,1)', Continuous) Variable('one(0)', Continuous)\n",
      " Variable('Symmetric(0,0)', Continuous)\n",
      " Variable('Symmetric(1,0)', Continuous)\n",
      " Variable('Symmetric(2,0)', Continuous)\n",
      " Variable('Symmetric(1,1)', Continuous)\n",
      " Variable('Symmetric(2,1)', Continuous)\n",
      " Variable('Symmetric(2,2)', Continuous)]\n"
     ]
    },
    {
     "data": {
      "text/plain": [
       "<pydrake.geometry.optimization.Spectrahedron at 0x29233fbf0>"
      ]
     },
     "execution_count": 13,
     "metadata": {},
     "output_type": "execute_result"
    }
   ],
   "source": [
    "def get_noisy_spectrahedral_bezier_set(hpoly:HPolyhedron, num_control_points:int, noise_variance: npt.NDArray):\n",
    "    state_dim = hpoly.A().shape[1]\n",
    "    assert noise_variance.shape == (state_dim, state_dim)\n",
    "    def make_diag_from_mat(mat1, mat2):\n",
    "        # constructs the following matrix:\n",
    "        # | mat1  0   |\n",
    "        # | 0    mat2 |\n",
    "        row1 = np.hstack( (mat1, np.zeros((mat1.shape[0], mat2.shape[1])) ) )\n",
    "        row2 = np.hstack( (np.zeros((mat2.shape[0], mat1.shape[1])), mat2 ) )\n",
    "        return np.vstack((row1, row2))\n",
    "    bezier_noise_variance = make_diag_from_mat(noise_variance, np.zeros((1,1)) )\n",
    "    for i in range(num_control_points-1):\n",
    "        bezier_noise_variance = make_diag_from_mat(noise_variance, bezier_noise_variance)\n",
    "    \n",
    "    # get big constraint matrix\n",
    "    bezier_hpoly = get_polyhedral_bezier_set(hpoly, num_control_points)\n",
    "    A, b = bezier_hpoly.A(), bezier_hpoly.b()\n",
    "    B = np.hstack( (b.reshape((len(b),1)), -A) )\n",
    "\n",
    "    # define the program\n",
    "    prog = MathematicalProgram()\n",
    "    bezier_state_dim = num_control_points*state_dim\n",
    "    x = prog.NewContinuousVariables(bezier_state_dim, \"x\")\n",
    "    X = prog.NewSymmetricContinuousVariables(bezier_state_dim, \"Y\")\n",
    "    one = prog.NewContinuousVariables(1, \"one\")[0]\n",
    "    prog.AddLinearConstraint(one == 1)\n",
    "\n",
    "    big_mat = np.vstack((np.hstack((X, x.reshape((bezier_state_dim,1)))), np.hstack((x, [one])) ))\n",
    "\n",
    "    # moment 1 constraints\n",
    "    for i in range(len(b)):\n",
    "        prog.AddLinearConstraint( A[i].dot(x) <= b[i]*one )\n",
    "\n",
    "    # moment 2 constraints\n",
    "    constraints = ge(B.dot(big_mat).dot(B.T), 0)\n",
    "    triu_ind = np.triu_indices(constraints.shape[0], k=1)\n",
    "    unique_constraints = constraints[triu_ind[0], triu_ind[1]]\n",
    "    for con in unique_constraints:\n",
    "        prog.AddLinearConstraint(con)\n",
    "    prog.AddPositiveSemidefiniteConstraint(big_mat - bezier_noise_variance)\n",
    "    INFO(big_mat - bezier_noise_variance)\n",
    "    latex(prog)\n",
    "    INFO(prog.decision_variables())\n",
    "    # extract spectrahedral set from it\n",
    "    return Spectrahedron(sdp_prog)\n",
    "\n",
    "get_noisy_spectrahedral_bezier_set(HPolyhedron.MakeBox([0],[1]), 2, np.eye(1)*0.1)"
   ]
  },
  {
   "cell_type": "code",
   "execution_count": 2,
   "metadata": {},
   "outputs": [
    {
     "data": {
      "text/plain": [
       "6"
      ]
     },
     "execution_count": 2,
     "metadata": {},
     "output_type": "execute_result"
    }
   ],
   "source": [
    "dim = 3\n",
    "int(dim*(dim+1)/2)"
   ]
  },
  {
   "cell_type": "code",
   "execution_count": null,
   "metadata": {},
   "outputs": [],
   "source": []
  }
 ],
 "metadata": {
  "kernelspec": {
   "display_name": "Python 3",
   "language": "python",
   "name": "python3"
  },
  "language_info": {
   "codemirror_mode": {
    "name": "ipython",
    "version": 3
   },
   "file_extension": ".py",
   "mimetype": "text/x-python",
   "name": "python",
   "nbconvert_exporter": "python",
   "pygments_lexer": "ipython3",
   "version": "3.11.3"
  },
  "orig_nbformat": 4
 },
 "nbformat": 4,
 "nbformat_minor": 2
}
